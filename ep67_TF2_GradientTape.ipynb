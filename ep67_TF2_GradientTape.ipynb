{
  "cells": [
    {
      "cell_type": "markdown",
      "source": [
        "# Episode 67. Tensorflow 2 GradientTape"
      ],
      "metadata": {
        "id": "oJq1am4mrQP9"
      }
    },
    {
      "cell_type": "markdown",
      "source": [
        "## Import Libraries"
      ],
      "metadata": {
        "id": "9nk0JbVZrV5q"
      }
    },
    {
      "cell_type": "code",
      "source": [
        "import tensorflow as tf\n",
        "print(tf.__version__) # Should be >= 2.0.0"
      ],
      "metadata": {
        "colab": {
          "base_uri": "https://localhost:8080/"
        },
        "id": "ClBNPE5yrOvg",
        "outputId": "ec40f933-a353-4a87-b1f6-cea3364409e3"
      },
      "execution_count": null,
      "outputs": [
        {
          "output_type": "stream",
          "name": "stdout",
          "text": [
            "2.8.0\n"
          ]
        }
      ]
    },
    {
      "cell_type": "markdown",
      "source": [
        "## Evaluate Derivatives"
      ],
      "metadata": {
        "id": "u38IzJostS62"
      }
    },
    {
      "cell_type": "code",
      "source": [
        "x = tf.Variable(3.0, trainable=True)"
      ],
      "metadata": {
        "id": "qenDfqDLrOz2"
      },
      "execution_count": null,
      "outputs": []
    },
    {
      "cell_type": "code",
      "source": [
        "with tf.GradientTape() as tape:\n",
        "    y = x**2\n",
        "\n",
        "dy_dx = tape.gradient(y,x)\n",
        "print(dy_dx)\n",
        "\n",
        "del tape, x"
      ],
      "metadata": {
        "colab": {
          "base_uri": "https://localhost:8080/"
        },
        "id": "xA1xhVCfrO3j",
        "outputId": "b14e83cb-50da-4766-8e2e-9242c63737bf"
      },
      "execution_count": null,
      "outputs": [
        {
          "output_type": "stream",
          "name": "stdout",
          "text": [
            "tf.Tensor(6.0, shape=(), dtype=float32)\n"
          ]
        }
      ]
    },
    {
      "cell_type": "markdown",
      "source": [
        "## Linear Regression"
      ],
      "metadata": {
        "id": "lbs9lr_jvLRP"
      }
    },
    {
      "cell_type": "code",
      "source": [
        "# import libraries\n",
        "import random\n",
        "import numpy as np\n",
        "\n",
        "# Training data\n",
        "x_train = np.asarray([0, 1, 2, 3, 4, 5, 6, 7, 8, 9, 10])\n",
        "y_train = np.asarray([i*2+1 for i in x_train])+np.random.normal(0,0.1,11) # y = 2x+1+noise\n",
        "print(y_train)"
      ],
      "metadata": {
        "colab": {
          "base_uri": "https://localhost:8080/"
        },
        "id": "kJXLCDfjrO6_",
        "outputId": "943f69ab-0d02-43d1-f131-6e95d7f416d4"
      },
      "execution_count": null,
      "outputs": [
        {
          "output_type": "stream",
          "name": "stdout",
          "text": [
            "[ 1.15923793  3.16866911  4.8991129   7.12876485  8.93635803 11.03282465\n",
            " 12.9034784  14.94350448 17.22664561 19.06659529 21.09608088]\n"
          ]
        }
      ]
    },
    {
      "cell_type": "code",
      "source": [
        "# Regression parameters\n",
        "a = tf.Variable(random.random(), trainable=True)\n",
        "b = tf.Variable(random.random(), trainable=True)"
      ],
      "metadata": {
        "id": "gkCZUX83wx-r"
      },
      "execution_count": null,
      "outputs": []
    },
    {
      "cell_type": "code",
      "source": [
        "# Loss function\n",
        "def loss(y, y_pred):\n",
        "    return tf.abs(y - y_pred)"
      ],
      "metadata": {
        "id": "kexWCJUdw3sl"
      },
      "execution_count": null,
      "outputs": []
    },
    {
      "cell_type": "code",
      "source": [
        "# minimize least absolute error - run dataset once\n",
        "def onestep(x, y):\n",
        "    with tf.GradientTape(persistent=True) as tape:\n",
        "        # Make prediction\n",
        "        y_pred = a * x + b\n",
        "        # Calculate loss\n",
        "        total_loss = loss(y, y_pred)\n",
        "    \n",
        "    # Calculate gradients\n",
        "    a_gradients, b_gradients = tape.gradient(total_loss, (a, b))\n",
        "\n",
        "    # Update variables\n",
        "    a.assign_sub(a_gradients * 0.001)\n",
        "    b.assign_sub(b_gradients * 0.001)"
      ],
      "metadata": {
        "id": "OLMeS_A0w_5i"
      },
      "execution_count": null,
      "outputs": []
    },
    {
      "cell_type": "code",
      "source": [
        "# Training loop - repeat dataset 10000 times\n",
        "for _ in range(10000):\n",
        "    onestep(x_train, y_train)\n",
        "\n",
        "print(f'y ≈ {a.numpy()}x + {b.numpy()}')\n",
        "\n",
        "del a, b, x_train, y_train, onestep, loss"
      ],
      "metadata": {
        "colab": {
          "base_uri": "https://localhost:8080/"
        },
        "id": "-BcIr5PfrPAl",
        "outputId": "0d0f292c-4438-401a-d82c-e2e2acefb2de"
      },
      "execution_count": null,
      "outputs": [
        {
          "output_type": "stream",
          "name": "stdout",
          "text": [
            "y ≈ 1.9954780340194702x + 1.1574337482452393\n"
          ]
        }
      ]
    },
    {
      "cell_type": "markdown",
      "source": [
        "## MNIST Classification"
      ],
      "metadata": {
        "id": "hTO9G3LBzgXm"
      }
    },
    {
      "cell_type": "code",
      "source": [
        "# import libraries\n",
        "from tensorflow.keras.layers import Conv2D, Flatten, Dense, Dropout, MaxPooling2D\n",
        "from tensorflow.keras.models import Sequential\n",
        "from tensorflow.keras.initializers import RandomNormal\n",
        "from tensorflow.keras.datasets import mnist\n",
        "from tensorflow.keras.optimizers import Adam\n",
        "import matplotlib.pyplot as plt\n",
        "import random\n",
        "import math\n",
        "%matplotlib inline"
      ],
      "metadata": {
        "id": "nzExWfSOrPEj"
      },
      "execution_count": null,
      "outputs": []
    },
    {
      "cell_type": "code",
      "source": [
        "# Load and pre-process training data\n",
        "(x_train, y_train), (x_test, y_test) = mnist.load_data()\n",
        "x_train = (x_train / 255).reshape((60000, 784))\n",
        "y_train = tf.keras.utils.to_categorical(y_train, 10)\n",
        "x_test = (x_test / 255).reshape((10000, 784))\n",
        "y_test = tf.keras.utils.to_categorical(y_test, 10)"
      ],
      "metadata": {
        "id": "DKznUhlRzm8c",
        "colab": {
          "base_uri": "https://localhost:8080/"
        },
        "outputId": "75fce86e-c432-49e2-febb-8b7f4b2b8b76"
      },
      "execution_count": null,
      "outputs": [
        {
          "output_type": "stream",
          "name": "stdout",
          "text": [
            "Downloading data from https://storage.googleapis.com/tensorflow/tf-keras-datasets/mnist.npz\n",
            "11493376/11490434 [==============================] - 0s 0us/step\n",
            "11501568/11490434 [==============================] - 0s 0us/step\n"
          ]
        }
      ]
    },
    {
      "cell_type": "code",
      "source": [
        "# set parameters\n",
        "batch_size = 128\n",
        "epochs = 25"
      ],
      "metadata": {
        "id": "m03EAWvSznAM"
      },
      "execution_count": null,
      "outputs": []
    },
    {
      "cell_type": "code",
      "source": [
        "# Build model\n",
        "model = Sequential()\n",
        "model.add(Dense(512,  activation='relu', input_shape=(784,)))\n",
        "model.add(Dense(128,  activation='relu'))\n",
        "model.add(Dense(10, activation='softmax'))"
      ],
      "metadata": {
        "id": "ud8q028gzuGn"
      },
      "execution_count": null,
      "outputs": []
    },
    {
      "cell_type": "code",
      "source": [
        "# optimizer\n",
        "opt = Adam(lr=0.001)"
      ],
      "metadata": {
        "colab": {
          "base_uri": "https://localhost:8080/"
        },
        "id": "DEAY0q7j6Znf",
        "outputId": "cc6337c7-34d5-4d8d-e521-1f2f5259b0a6"
      },
      "execution_count": null,
      "outputs": [
        {
          "output_type": "stream",
          "name": "stderr",
          "text": [
            "/usr/local/lib/python3.7/dist-packages/keras/optimizer_v2/adam.py:105: UserWarning: The `lr` argument is deprecated, use `learning_rate` instead.\n",
            "  super(Adam, self).__init__(name, **kwargs)\n"
          ]
        }
      ]
    },
    {
      "cell_type": "code",
      "source": [
        "# optimization for a single step\n",
        "def onestep(x, y):\n",
        "    with tf.GradientTape() as tape:\n",
        "        # Make prediction\n",
        "        y_pred = model(x)\n",
        "        # Calculate loss\n",
        "        model_loss = tf.keras.losses.categorical_crossentropy(y, y_pred)\n",
        "    \n",
        "    # Calculate gradients\n",
        "    model_gradients = tape.gradient(model_loss, model.trainable_variables)\n",
        "    # Update model\n",
        "    opt.apply_gradients(zip(model_gradients, model.trainable_variables))"
      ],
      "metadata": {
        "id": "1x4KFaSTzuKy"
      },
      "execution_count": null,
      "outputs": []
    },
    {
      "cell_type": "code",
      "source": [
        "# Training loop\n",
        "bat_per_epoch = math.floor(len(x_train) / batch_size)\n",
        "for epoch in range(epochs):\n",
        "    print('=', end='')\n",
        "    for i in range(bat_per_epoch):\n",
        "        n = i*batch_size\n",
        "        onestep(x_train[n:n+batch_size], y_train[n:n+batch_size])"
      ],
      "metadata": {
        "colab": {
          "base_uri": "https://localhost:8080/"
        },
        "id": "rTeXn0kE0BV4",
        "outputId": "2780eb8e-97cb-48ef-b3be-c66139c85039"
      },
      "execution_count": null,
      "outputs": [
        {
          "output_type": "stream",
          "name": "stdout",
          "text": [
            "========================="
          ]
        }
      ]
    },
    {
      "cell_type": "code",
      "source": [
        "# Calculate accuracy\n",
        "model.compile(optimizer=opt, loss=tf.losses.categorical_crossentropy, metrics=['acc']) # Compile just for evaluation\n",
        "print('\\nAccuracy:', model.evaluate(x_test, y_test, verbose=0)[1])"
      ],
      "metadata": {
        "colab": {
          "base_uri": "https://localhost:8080/"
        },
        "id": "wzlTWFK-64qt",
        "outputId": "e4fd508f-10fa-4294-f887-ba001fdd49c0"
      },
      "execution_count": null,
      "outputs": [
        {
          "output_type": "stream",
          "name": "stdout",
          "text": [
            "\n",
            "Accuracy: 0.9828000068664551\n"
          ]
        }
      ]
    }
  ],
  "metadata": {
    "accelerator": "GPU",
    "colab": {
      "collapsed_sections": [],
      "machine_shape": "hm",
      "provenance": []
    },
    "kernelspec": {
      "display_name": "Python 3",
      "language": "python",
      "name": "python3"
    },
    "language_info": {
      "codemirror_mode": {
        "name": "ipython",
        "version": 3
      },
      "file_extension": ".py",
      "mimetype": "text/x-python",
      "name": "python",
      "nbconvert_exporter": "python",
      "pygments_lexer": "ipython3",
      "version": "3.7.3"
    }
  },
  "nbformat": 4,
  "nbformat_minor": 0
}