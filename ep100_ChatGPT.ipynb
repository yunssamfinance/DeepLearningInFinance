{
  "nbformat": 4,
  "nbformat_minor": 0,
  "metadata": {
    "colab": {
      "provenance": []
    },
    "kernelspec": {
      "name": "python3",
      "display_name": "Python 3"
    },
    "language_info": {
      "name": "python"
    }
  },
  "cells": [
    {
      "cell_type": "markdown",
      "source": [
        "# Episode 100. Doing Homework with ChatGPT: Python Coding"
      ],
      "metadata": {
        "id": "ynSS3KuWYmPM"
      }
    },
    {
      "cell_type": "markdown",
      "source": [
        "https://chat.openai.com/chat"
      ],
      "metadata": {
        "id": "bZ9a27AKYn4u"
      }
    },
    {
      "cell_type": "markdown",
      "source": [
        "## Homework Assignment\n",
        "Q1. Fibonacci number\n",
        "Write a python function that computes the 10-th Fibonacci number.\n",
        "\n",
        "I only need to know the value of F(10), not all intermediate values (i.e., no need to save values of F(0), F(1), F(2), ..., F(10))\n",
        "\n",
        "Note: \n",
        "- 0th Fibonacci number F(0) = 0\n",
        "- 1st Fibonacci number F(1) = 1\n",
        "- 2nd Fibonacci number F(2) = 0+1 = 1\n",
        "- 3rd Fibonacci number F(3) = 1+1 = 2\n",
        "- 4th Fibonacci number F(4) = 1+2 = 3\n",
        "- 5th Fibonacci number F(5) = 2+3 = 5\n",
        "- ...\n",
        "- i-th Fibonacci number F(i) = F(i-1)+F(i-2)\n",
        "- ...\n",
        "- 10-th Fibonacci number F(10) = F(9)+F(8) = ?\n"
      ],
      "metadata": {
        "id": "KbPcfifhZBK4"
      }
    },
    {
      "cell_type": "markdown",
      "source": [
        "Q: Write python program to find the tenth Fibonacci number, where F(0)=0 and F(1) = 1"
      ],
      "metadata": {
        "id": "Gp3aVYb1YrAb"
      }
    },
    {
      "cell_type": "code",
      "source": [
        "def fibonacci(n):\n",
        "    if n == 0:\n",
        "        return 0\n",
        "    elif n == 1:\n",
        "        return 1\n",
        "    else:\n",
        "        return fibonacci(n-1) + fibonacci(n-2)\n",
        "\n",
        "print(fibonacci(10))"
      ],
      "metadata": {
        "colab": {
          "base_uri": "https://localhost:8080/"
        },
        "id": "8IsvCHiSbbs8",
        "outputId": "dca5628b-34d5-475a-e1b6-f9410807bd45"
      },
      "execution_count": 4,
      "outputs": [
        {
          "output_type": "stream",
          "name": "stdout",
          "text": [
            "55\n"
          ]
        }
      ]
    },
    {
      "cell_type": "markdown",
      "source": [
        "This program defines a function fibonacci() that takes in an integer n as an argument and returns the nth Fibonacci number. The function uses recursion to calculate the Fibonacci number, by calling itself with the arguments n-1 and n-2. The base case of the recursion is when n is 0 or 1, in which case the function returns 0 or 1 respectively. Finally, it will print the 10th fibonacci number."
      ],
      "metadata": {
        "id": "i-nn3KkBdmYT"
      }
    },
    {
      "cell_type": "markdown",
      "source": [
        "Q: Write numpy & python program to find the tenth Fibonacci number, where F(0)=0 and F(1) = 1"
      ],
      "metadata": {
        "id": "J2oNakP_YvDS"
      }
    },
    {
      "cell_type": "code",
      "source": [
        "import numpy as np\n",
        "\n",
        "def fibonacci(n):\n",
        "    if n == 0:\n",
        "        return 0\n",
        "    elif n == 1:\n",
        "        return 1\n",
        "    else:\n",
        "        a = np.matrix([[1, 1], [1, 0]])\n",
        "        b = np.matrix([[1], [0]])\n",
        "        res = np.linalg.matrix_power(a, n-1) @ b\n",
        "        return res[0,0]\n",
        "\n",
        "print(fibonacci(10))"
      ],
      "metadata": {
        "colab": {
          "base_uri": "https://localhost:8080/"
        },
        "id": "KtX6RHPfbae4",
        "outputId": "62a5765d-b1de-42f5-f8d1-0058cdcd7def"
      },
      "execution_count": 5,
      "outputs": [
        {
          "output_type": "stream",
          "name": "stdout",
          "text": [
            "55\n"
          ]
        }
      ]
    },
    {
      "cell_type": "markdown",
      "source": [
        "This program uses the matrix exponentiation method to calculate the Fibonacci number. The matrix a is defined as the matrix [[1,1],[1,0]], and matrix b is defined as the matrix [[1],[0]]. Using matrix exponentiation, a raised to the power n-1 multiplied by b is calculated. The result is returned as the first element of the first row of the resulting matrix. This method is more efficient for large values of n than the previous method which uses recursion. The program will print 10th Fibonacci number."
      ],
      "metadata": {
        "id": "34x9MayUeA9K"
      }
    }
  ]
}