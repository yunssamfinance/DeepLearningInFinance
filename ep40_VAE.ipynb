{
  "nbformat": 4,
  "nbformat_minor": 0,
  "metadata": {
    "colab": {
      "provenance": [],
      "collapsed_sections": []
    },
    "kernelspec": {
      "name": "python3",
      "display_name": "Python 3"
    },
    "language_info": {
      "name": "python"
    }
  },
  "cells": [
    {
      "cell_type": "markdown",
      "source": [
        "# Episode 40. Variational Autoencoder (VAE)"
      ],
      "metadata": {
        "id": "v0RQINKYkOZ2"
      }
    },
    {
      "cell_type": "markdown",
      "source": [
        "## Import Libraries"
      ],
      "metadata": {
        "id": "X3q_GxhQkOo4"
      }
    },
    {
      "cell_type": "code",
      "source": [
        "# load libraries\n",
        "import numpy as np\n",
        "import pandas as pd\n",
        "import seaborn as sns\n",
        "import matplotlib.pyplot as plt\n",
        "from pylab import rcParams\n",
        "from scipy.stats import norm\n",
        "from sklearn.model_selection import train_test_split\n",
        "import tensorflow as tf\n",
        "#import tensorflow.compat.v1 as tf\n",
        "#tf.disable_v2_behavior()\n",
        "from tensorflow.keras.datasets import mnist\n",
        "from tensorflow.keras.models import Model\n",
        "from tensorflow.keras.layers import Input, Dense, Lambda, Reshape\n",
        "from tensorflow.keras.optimizers import Adam\n",
        "from tensorflow.keras import backend as K\n",
        "from tensorflow.keras import metrics\n",
        "from tensorflow.keras import regularizers"
      ],
      "metadata": {
        "id": "w2vmGi7ikPKb"
      },
      "execution_count": 40,
      "outputs": []
    },
    {
      "cell_type": "markdown",
      "source": [
        "## Load Data"
      ],
      "metadata": {
        "id": "oX8wzfvmkc8A"
      }
    },
    {
      "cell_type": "code",
      "source": [
        "# Keras gives 28x28 image data; value range 0-255; and splits train /test data\n",
        "(x_train, y_train), (x_test, y_test) = mnist.load_data()"
      ],
      "metadata": {
        "id": "NAAnkA5mkPN-"
      },
      "execution_count": 41,
      "outputs": []
    },
    {
      "cell_type": "markdown",
      "source": [
        "## Rescale Data (value range 0-255 to range 0-1)"
      ],
      "metadata": {
        "id": "sqvyCA2pkgmf"
      }
    },
    {
      "cell_type": "code",
      "source": [
        "# For neural network input: scale 0-1; reshae 28x28 image to 1D (784,)\n",
        "x_train = x_train.reshape(60000, 784) / 255\n",
        "x_test = x_test.reshape(10000, 784) / 255"
      ],
      "metadata": {
        "id": "ZfrTd4O3kPRA"
      },
      "execution_count": 42,
      "outputs": []
    },
    {
      "cell_type": "markdown",
      "source": [
        "## Variational Autoencoder Network"
      ],
      "metadata": {
        "id": "EaRRpC_qQZ-_"
      }
    },
    {
      "cell_type": "markdown",
      "source": [
        "### (1) Define Network Parameters"
      ],
      "metadata": {
        "id": "LYBw5e_11Txo"
      }
    },
    {
      "cell_type": "code",
      "source": [
        "# defining the key parameters\n",
        "batch_size = 100\n",
        "original_dim = 784\n",
        "latent_dim = 2\n",
        "intermediate_dim = 256\n",
        "epochs = 50\n",
        "epsilon_std = 1.0"
      ],
      "metadata": {
        "id": "NYNNLOND0-hR"
      },
      "execution_count": 43,
      "outputs": []
    },
    {
      "cell_type": "code",
      "source": [
        "sns.set(style='whitegrid', palette='muted', font_scale=1.5)\n",
        "rcParams['figure.figsize'] = 14, 8\n",
        "RANDOM_SEED = 42"
      ],
      "metadata": {
        "id": "vigtx6teI6A8"
      },
      "execution_count": 44,
      "outputs": []
    },
    {
      "cell_type": "markdown",
      "source": [
        "### (2) Sampling Random Number"
      ],
      "metadata": {
        "id": "P8O3KA3f1NHt"
      }
    },
    {
      "cell_type": "code",
      "source": [
        "# sampling from mean and sd in VAE\n",
        "def sampling(args: tuple):\n",
        "    # we grab the variables from the tuple\n",
        "    z_mean, z_log_var = args\n",
        "    epsilon = K.random_normal(shape=(K.shape(z_mean)[0], latent_dim), mean=0.,\n",
        "                              stddev=epsilon_std)\n",
        "    return z_mean + K.exp(z_log_var / 2) * epsilon"
      ],
      "metadata": {
        "id": "4JTGVJvu0-lT"
      },
      "execution_count": 45,
      "outputs": []
    },
    {
      "cell_type": "markdown",
      "source": [
        "### (3) Defining Encoder"
      ],
      "metadata": {
        "id": "8YUH-wE_1JNA"
      }
    },
    {
      "cell_type": "code",
      "source": [
        "x = Input(shape=(original_dim,), name=\"input\")\n",
        "h = Dense(intermediate_dim, activation='relu', name=\"encoding\")(x)\n",
        "z_mean = Dense(latent_dim, name=\"mean\")(h)\n",
        "z_log_var = Dense(latent_dim, name=\"log-variance\")(h)\n",
        "# note that \"output_shape\" isn't necessary with the TensorFlow backend\n",
        "z = Lambda(sampling, output_shape=(latent_dim,))([z_mean, z_log_var])\n",
        "# defining the encoder as a keras model\n",
        "encoder = Model(x, [z_mean, z_log_var, z], name=\"encoder\")\n",
        "# print out summary of what we just did\n",
        "encoder.summary()"
      ],
      "metadata": {
        "id": "O88HGFCLI_lS",
        "colab": {
          "base_uri": "https://localhost:8080/"
        },
        "outputId": "c780050f-26e3-464a-e752-e156f365ebdf"
      },
      "execution_count": 46,
      "outputs": [
        {
          "output_type": "stream",
          "name": "stdout",
          "text": [
            "Model: \"encoder\"\n",
            "__________________________________________________________________________________________________\n",
            " Layer (type)                   Output Shape         Param #     Connected to                     \n",
            "==================================================================================================\n",
            " input (InputLayer)             [(None, 784)]        0           []                               \n",
            "                                                                                                  \n",
            " encoding (Dense)               (None, 256)          200960      ['input[0][0]']                  \n",
            "                                                                                                  \n",
            " mean (Dense)                   (None, 2)            514         ['encoding[0][0]']               \n",
            "                                                                                                  \n",
            " log-variance (Dense)           (None, 2)            514         ['encoding[0][0]']               \n",
            "                                                                                                  \n",
            " lambda_2 (Lambda)              (None, 2)            0           ['mean[0][0]',                   \n",
            "                                                                  'log-variance[0][0]']           \n",
            "                                                                                                  \n",
            "==================================================================================================\n",
            "Total params: 201,988\n",
            "Trainable params: 201,988\n",
            "Non-trainable params: 0\n",
            "__________________________________________________________________________________________________\n"
          ]
        }
      ]
    },
    {
      "cell_type": "markdown",
      "source": [
        "### (4) Define Decoder"
      ],
      "metadata": {
        "id": "VdNfmm_t1d4f"
      }
    },
    {
      "cell_type": "code",
      "source": [
        "input_decoder = Input(shape=(latent_dim,), name=\"decoder_input\")\n",
        "# taking the latent space to intermediate dimension\n",
        "decoder_h = Dense(intermediate_dim, activation='relu', name=\"decoder_h\")(input_decoder)\n",
        "# getting the mean from the original dimension\n",
        "x_decoded = Dense(original_dim, activation='sigmoid', name=\"flat_decoded\")(decoder_h)\n",
        "# defining the decoder as a keras model\n",
        "decoder = Model(input_decoder, x_decoded, name=\"decoder\")\n",
        "decoder.summary()"
      ],
      "metadata": {
        "id": "oejEdjrOJfH-",
        "colab": {
          "base_uri": "https://localhost:8080/"
        },
        "outputId": "f72e3cd8-4677-4fd3-9af5-a616af39f38b"
      },
      "execution_count": 47,
      "outputs": [
        {
          "output_type": "stream",
          "name": "stdout",
          "text": [
            "Model: \"decoder\"\n",
            "_________________________________________________________________\n",
            " Layer (type)                Output Shape              Param #   \n",
            "=================================================================\n",
            " decoder_input (InputLayer)  [(None, 2)]               0         \n",
            "                                                                 \n",
            " decoder_h (Dense)           (None, 256)               768       \n",
            "                                                                 \n",
            " flat_decoded (Dense)        (None, 784)               201488    \n",
            "                                                                 \n",
            "=================================================================\n",
            "Total params: 202,256\n",
            "Trainable params: 202,256\n",
            "Non-trainable params: 0\n",
            "_________________________________________________________________\n"
          ]
        }
      ]
    },
    {
      "cell_type": "markdown",
      "source": [
        "### (5) Define Variational Autoencoder (VAE)"
      ],
      "metadata": {
        "id": "qwUk_xYw1n_E"
      }
    },
    {
      "cell_type": "code",
      "source": [
        "# grab the output. Recall, that we need to grab the 3rd element our sampling z\n",
        "output_combined = decoder(encoder(x)[2])\n",
        "# link the input and the overall output\n",
        "vae = Model(x, output_combined)\n",
        "# print out what the overall model looks like\n",
        "vae.summary()"
      ],
      "metadata": {
        "id": "mNa0Bw8U0-uc",
        "colab": {
          "base_uri": "https://localhost:8080/"
        },
        "outputId": "4aa01c08-0657-4f35-f44e-4e7b5769dbd1"
      },
      "execution_count": 48,
      "outputs": [
        {
          "output_type": "stream",
          "name": "stdout",
          "text": [
            "Model: \"model_3\"\n",
            "_________________________________________________________________\n",
            " Layer (type)                Output Shape              Param #   \n",
            "=================================================================\n",
            " input (InputLayer)          [(None, 784)]             0         \n",
            "                                                                 \n",
            " encoder (Functional)        [(None, 2),               201988    \n",
            "                              (None, 2),                         \n",
            "                              (None, 2)]                         \n",
            "                                                                 \n",
            " decoder (Functional)        (None, 784)               202256    \n",
            "                                                                 \n",
            "=================================================================\n",
            "Total params: 404,244\n",
            "Trainable params: 404,244\n",
            "Non-trainable params: 0\n",
            "_________________________________________________________________\n"
          ]
        }
      ]
    },
    {
      "cell_type": "markdown",
      "source": [
        "### (6) VAE Loss"
      ],
      "metadata": {
        "id": "4awmeh_L16vE"
      }
    },
    {
      "cell_type": "code",
      "source": [
        "# Defina VAE Loss Function\n",
        "def vae_loss(x: tf.Tensor, x_decoded_mean: tf.Tensor,z_log_var=z_log_var, z_mean=z_mean, original_dim=original_dim):\n",
        "    xent_loss = original_dim * metrics.binary_crossentropy(x, x_decoded_mean)\n",
        "    kl_loss = - 0.5 * K.sum(1 + z_log_var - K.square(z_mean) - K.exp(z_log_var), axis=-1)\n",
        "    vae_loss = K.mean(xent_loss + kl_loss)\n",
        "    return vae_loss"
      ],
      "metadata": {
        "id": "fyaYySfNJ4bx"
      },
      "execution_count": 49,
      "outputs": []
    },
    {
      "cell_type": "markdown",
      "source": [
        "### (7) Compile VAE"
      ],
      "metadata": {
        "id": "arrvOrf-2FcE"
      }
    },
    {
      "cell_type": "code",
      "source": [
        "vae.compile(optimizer='adam', loss=vae_loss, metrics=['accuracy'])\n",
        "vae.summary()"
      ],
      "metadata": {
        "id": "slHwghan2Hqy",
        "colab": {
          "base_uri": "https://localhost:8080/"
        },
        "outputId": "57304578-d7df-4fb5-9005-8e30a162105f"
      },
      "execution_count": 52,
      "outputs": [
        {
          "output_type": "stream",
          "name": "stdout",
          "text": [
            "Model: \"model_3\"\n",
            "_________________________________________________________________\n",
            " Layer (type)                Output Shape              Param #   \n",
            "=================================================================\n",
            " input (InputLayer)          [(None, 784)]             0         \n",
            "                                                                 \n",
            " encoder (Functional)        [(None, 2),               201988    \n",
            "                              (None, 2),                         \n",
            "                              (None, 2)]                         \n",
            "                                                                 \n",
            " decoder (Functional)        (None, 784)               202256    \n",
            "                                                                 \n",
            "=================================================================\n",
            "Total params: 404,244\n",
            "Trainable params: 404,244\n",
            "Non-trainable params: 0\n",
            "_________________________________________________________________\n"
          ]
        }
      ]
    },
    {
      "cell_type": "markdown",
      "source": [
        "### (8) Train VAE"
      ],
      "metadata": {
        "id": "jG4CuJwP2MRl"
      }
    },
    {
      "cell_type": "code",
      "source": [
        "history = vae.fit(x_train, x_train,\n",
        "                    epochs=epochs,\n",
        "                    batch_size=batch_size,\n",
        "                    shuffle=True,\n",
        "                    validation_data=(x_test, x_test),\n",
        "                    verbose=1).history"
      ],
      "metadata": {
        "id": "2NFEioVb2N_i",
        "colab": {
          "base_uri": "https://localhost:8080/"
        },
        "outputId": "041488da-5b90-4038-bba0-6301eb4eedc5"
      },
      "execution_count": 53,
      "outputs": [
        {
          "output_type": "stream",
          "name": "stdout",
          "text": [
            "Train on 60000 samples, validate on 10000 samples\n",
            "Epoch 1/50\n",
            "60000/60000 [==============================] - 9s 155us/sample - loss: 161.8850 - acc: 0.0160 - val_loss: 161.7355 - val_acc: 0.0138\n",
            "Epoch 2/50\n",
            "60000/60000 [==============================] - 9s 149us/sample - loss: 160.7349 - acc: 0.0154 - val_loss: 160.6146 - val_acc: 0.0138\n",
            "Epoch 3/50\n",
            "60000/60000 [==============================] - 9s 153us/sample - loss: 159.8680 - acc: 0.0143 - val_loss: 159.8566 - val_acc: 0.0129\n",
            "Epoch 4/50\n",
            "60000/60000 [==============================] - 9s 152us/sample - loss: 159.1545 - acc: 0.0142 - val_loss: 159.3210 - val_acc: 0.0128\n",
            "Epoch 5/50\n",
            "60000/60000 [==============================] - 9s 151us/sample - loss: 158.5456 - acc: 0.0124 - val_loss: 158.7383 - val_acc: 0.0139\n",
            "Epoch 6/50\n",
            "60000/60000 [==============================] - 9s 150us/sample - loss: 157.9790 - acc: 0.0125 - val_loss: 158.4298 - val_acc: 0.0143\n",
            "Epoch 7/50\n",
            "60000/60000 [==============================] - 9s 149us/sample - loss: 157.5186 - acc: 0.0128 - val_loss: 157.8280 - val_acc: 0.0132\n",
            "Epoch 8/50\n",
            "60000/60000 [==============================] - 9s 151us/sample - loss: 157.0396 - acc: 0.0128 - val_loss: 157.7224 - val_acc: 0.0129\n",
            "Epoch 9/50\n",
            "60000/60000 [==============================] - 9s 150us/sample - loss: 156.6250 - acc: 0.0124 - val_loss: 157.1895 - val_acc: 0.0130\n",
            "Epoch 10/50\n",
            "60000/60000 [==============================] - 9s 153us/sample - loss: 156.2274 - acc: 0.0122 - val_loss: 157.0048 - val_acc: 0.0139\n",
            "Epoch 11/50\n",
            "60000/60000 [==============================] - 9s 154us/sample - loss: 155.8189 - acc: 0.0121 - val_loss: 156.5485 - val_acc: 0.0113\n",
            "Epoch 12/50\n",
            "60000/60000 [==============================] - 9s 153us/sample - loss: 155.4859 - acc: 0.0120 - val_loss: 156.4816 - val_acc: 0.0140\n",
            "Epoch 13/50\n",
            "60000/60000 [==============================] - 9s 155us/sample - loss: 155.1097 - acc: 0.0122 - val_loss: 156.0591 - val_acc: 0.0126\n",
            "Epoch 14/50\n",
            "60000/60000 [==============================] - 9s 153us/sample - loss: 154.7256 - acc: 0.0122 - val_loss: 155.5138 - val_acc: 0.0128\n",
            "Epoch 15/50\n",
            "60000/60000 [==============================] - 9s 151us/sample - loss: 154.3661 - acc: 0.0112 - val_loss: 155.4130 - val_acc: 0.0140\n",
            "Epoch 16/50\n",
            "60000/60000 [==============================] - 9s 150us/sample - loss: 154.0380 - acc: 0.0115 - val_loss: 154.9232 - val_acc: 0.0111\n",
            "Epoch 17/50\n",
            "60000/60000 [==============================] - 9s 153us/sample - loss: 153.7033 - acc: 0.0112 - val_loss: 154.9040 - val_acc: 0.0104\n",
            "Epoch 18/50\n",
            "60000/60000 [==============================] - 9s 152us/sample - loss: 153.4093 - acc: 0.0111 - val_loss: 154.8902 - val_acc: 0.0111\n",
            "Epoch 19/50\n",
            "60000/60000 [==============================] - 9s 150us/sample - loss: 153.1638 - acc: 0.0115 - val_loss: 154.4859 - val_acc: 0.0117\n",
            "Epoch 20/50\n",
            "60000/60000 [==============================] - 10s 171us/sample - loss: 152.8726 - acc: 0.0111 - val_loss: 154.5373 - val_acc: 0.0128\n",
            "Epoch 21/50\n",
            "60000/60000 [==============================] - 9s 149us/sample - loss: 152.5966 - acc: 0.0114 - val_loss: 154.2213 - val_acc: 0.0132\n",
            "Epoch 22/50\n",
            "60000/60000 [==============================] - 9s 148us/sample - loss: 152.3806 - acc: 0.0115 - val_loss: 154.0327 - val_acc: 0.0100\n",
            "Epoch 23/50\n",
            "60000/60000 [==============================] - 9s 151us/sample - loss: 152.1279 - acc: 0.0115 - val_loss: 154.0445 - val_acc: 0.0119\n",
            "Epoch 24/50\n",
            "60000/60000 [==============================] - 9s 151us/sample - loss: 151.8864 - acc: 0.0115 - val_loss: 153.6244 - val_acc: 0.0129\n",
            "Epoch 25/50\n",
            "60000/60000 [==============================] - 9s 151us/sample - loss: 151.6538 - acc: 0.0118 - val_loss: 153.6448 - val_acc: 0.0135\n",
            "Epoch 26/50\n",
            "60000/60000 [==============================] - 9s 150us/sample - loss: 151.5067 - acc: 0.0114 - val_loss: 153.4484 - val_acc: 0.0133\n",
            "Epoch 27/50\n",
            "60000/60000 [==============================] - 9s 151us/sample - loss: 151.2716 - acc: 0.0111 - val_loss: 153.2273 - val_acc: 0.0140\n",
            "Epoch 28/50\n",
            "60000/60000 [==============================] - 9s 150us/sample - loss: 151.0796 - acc: 0.0120 - val_loss: 153.2754 - val_acc: 0.0137\n",
            "Epoch 29/50\n",
            "60000/60000 [==============================] - 9s 145us/sample - loss: 150.8746 - acc: 0.0119 - val_loss: 153.1497 - val_acc: 0.0129\n",
            "Epoch 30/50\n",
            "60000/60000 [==============================] - 9s 155us/sample - loss: 150.7233 - acc: 0.0122 - val_loss: 153.0346 - val_acc: 0.0114\n",
            "Epoch 31/50\n",
            "60000/60000 [==============================] - 9s 157us/sample - loss: 150.5967 - acc: 0.0124 - val_loss: 153.2791 - val_acc: 0.0135\n",
            "Epoch 32/50\n",
            "60000/60000 [==============================] - 9s 158us/sample - loss: 150.3934 - acc: 0.0125 - val_loss: 152.8877 - val_acc: 0.0119\n",
            "Epoch 33/50\n",
            "60000/60000 [==============================] - 10s 161us/sample - loss: 150.2429 - acc: 0.0125 - val_loss: 152.9026 - val_acc: 0.0127\n",
            "Epoch 34/50\n",
            "60000/60000 [==============================] - 10s 159us/sample - loss: 150.0718 - acc: 0.0125 - val_loss: 152.6868 - val_acc: 0.0101\n",
            "Epoch 35/50\n",
            "60000/60000 [==============================] - 10s 163us/sample - loss: 149.9496 - acc: 0.0127 - val_loss: 152.6902 - val_acc: 0.0140\n",
            "Epoch 36/50\n",
            "60000/60000 [==============================] - 9s 157us/sample - loss: 149.8113 - acc: 0.0123 - val_loss: 152.5067 - val_acc: 0.0156\n",
            "Epoch 37/50\n",
            "60000/60000 [==============================] - 10s 159us/sample - loss: 149.6487 - acc: 0.0126 - val_loss: 152.7026 - val_acc: 0.0141\n",
            "Epoch 38/50\n",
            "60000/60000 [==============================] - 10s 159us/sample - loss: 149.5661 - acc: 0.0125 - val_loss: 152.4728 - val_acc: 0.0148\n",
            "Epoch 39/50\n",
            "60000/60000 [==============================] - 9s 155us/sample - loss: 149.4143 - acc: 0.0128 - val_loss: 152.3851 - val_acc: 0.0124\n",
            "Epoch 40/50\n",
            "60000/60000 [==============================] - 9s 154us/sample - loss: 149.3291 - acc: 0.0127 - val_loss: 152.5878 - val_acc: 0.0127\n",
            "Epoch 41/50\n",
            "60000/60000 [==============================] - 9s 156us/sample - loss: 149.1865 - acc: 0.0126 - val_loss: 152.3202 - val_acc: 0.0138\n",
            "Epoch 42/50\n",
            "60000/60000 [==============================] - 9s 157us/sample - loss: 149.0303 - acc: 0.0137 - val_loss: 152.1731 - val_acc: 0.0129\n",
            "Epoch 43/50\n",
            "60000/60000 [==============================] - 9s 157us/sample - loss: 148.9043 - acc: 0.0131 - val_loss: 152.3871 - val_acc: 0.0130\n",
            "Epoch 44/50\n",
            "60000/60000 [==============================] - 10s 158us/sample - loss: 148.8078 - acc: 0.0128 - val_loss: 152.0654 - val_acc: 0.0142\n",
            "Epoch 45/50\n",
            "60000/60000 [==============================] - 11s 176us/sample - loss: 148.7009 - acc: 0.0131 - val_loss: 152.3293 - val_acc: 0.0137\n",
            "Epoch 46/50\n",
            "60000/60000 [==============================] - 9s 157us/sample - loss: 148.5900 - acc: 0.0126 - val_loss: 152.1902 - val_acc: 0.0110\n",
            "Epoch 47/50\n",
            "60000/60000 [==============================] - 9s 154us/sample - loss: 148.5059 - acc: 0.0136 - val_loss: 152.3540 - val_acc: 0.0108\n",
            "Epoch 48/50\n",
            "60000/60000 [==============================] - 9s 155us/sample - loss: 148.3892 - acc: 0.0138 - val_loss: 152.0624 - val_acc: 0.0134\n",
            "Epoch 49/50\n",
            "60000/60000 [==============================] - 9s 158us/sample - loss: 148.3228 - acc: 0.0135 - val_loss: 152.0802 - val_acc: 0.0137\n",
            "Epoch 50/50\n",
            "60000/60000 [==============================] - 9s 156us/sample - loss: 148.1945 - acc: 0.0137 - val_loss: 152.0026 - val_acc: 0.0118\n"
          ]
        }
      ]
    },
    {
      "cell_type": "markdown",
      "source": [
        "## Encoder Output: 2D Latent Space"
      ],
      "metadata": {
        "id": "Ew5PDgxSKyM9"
      }
    },
    {
      "cell_type": "code",
      "source": [
        "encoder_out = encoder.predict(x_test)[2]  # encoder output is [z_mean,z_log_var,z]"
      ],
      "metadata": {
        "id": "zqI92HZBlh4u",
        "colab": {
          "base_uri": "https://localhost:8080/"
        },
        "outputId": "eaeec4f2-be3a-453d-d54f-8a47c4ed38f7"
      },
      "execution_count": 54,
      "outputs": [
        {
          "output_type": "stream",
          "name": "stderr",
          "text": [
            "/usr/local/lib/python3.7/dist-packages/keras/engine/training_v1.py:2067: UserWarning: `Model.state_updates` will be removed in a future version. This property should not be used in TensorFlow 2.0, as `updates` are applied automatically.\n",
            "  updates=self.state_updates,\n"
          ]
        }
      ]
    },
    {
      "cell_type": "code",
      "source": [
        "encoder_out.shape\n",
        "encoder_out[0:5,:]"
      ],
      "metadata": {
        "colab": {
          "base_uri": "https://localhost:8080/"
        },
        "id": "RKfiLKBln368",
        "outputId": "d58ca341-2892-4906-90d5-9ef2d91ff5cf"
      },
      "execution_count": 55,
      "outputs": [
        {
          "output_type": "execute_result",
          "data": {
            "text/plain": [
              "array([[ 0.829464  ,  0.30952767],\n",
              "       [-0.57658976, -0.9164229 ],\n",
              "       [ 2.2170393 ,  1.5773221 ],\n",
              "       [-2.3310754 , -0.18788849],\n",
              "       [ 1.2327392 , -0.6019284 ]], dtype=float32)"
            ]
          },
          "metadata": {},
          "execution_count": 55
        }
      ]
    },
    {
      "cell_type": "code",
      "source": [
        "# display a 2D plot of the digit classes in the latent space\n",
        "plt.figure(figsize=(6, 6))\n",
        "plt.scatter(encoder_out[:,0], encoder_out[:,1], c=y_test, cmap='viridis')\n",
        "plt.colorbar()\n",
        "plt.show()"
      ],
      "metadata": {
        "colab": {
          "base_uri": "https://localhost:8080/",
          "height": 392
        },
        "id": "DAvDxdIvrgZP",
        "outputId": "bb133f23-4765-42af-e2e6-f14d463a51a6"
      },
      "execution_count": 56,
      "outputs": [
        {
          "output_type": "display_data",
          "data": {
            "text/plain": [
              "<Figure size 432x432 with 2 Axes>"
            ],
            "image/png": "[encoded data removed]"
          },
          "metadata": {}
        }
      ]
    },
    {
      "cell_type": "markdown",
      "source": [
        "## Reconstruction: test data"
      ],
      "metadata": {
        "id": "PeUfjfJvlqJp"
      }
    },
    {
      "cell_type": "code",
      "source": [
        "vae_out = vae.predict(x_test)        # reconstruction"
      ],
      "metadata": {
        "id": "QgWxb22Slry0"
      },
      "execution_count": 57,
      "outputs": []
    },
    {
      "cell_type": "markdown",
      "source": [
        "## Reconstruction Error: test data"
      ],
      "metadata": {
        "id": "U4_MXTOjls8m"
      }
    },
    {
      "cell_type": "code",
      "source": [
        "err2 = np.sum((x_test-vae_out)**2)/vae_out.shape[0]/vae_out.shape[1]\n",
        "print('VAE reconstruction error: ' + str(round(err2,3)));"
      ],
      "metadata": {
        "colab": {
          "base_uri": "https://localhost:8080/"
        },
        "id": "N3YcwcvAlvOG",
        "outputId": "c9ec9512-6aa4-4a4a-976e-fc2fd1899a22"
      },
      "execution_count": 58,
      "outputs": [
        {
          "output_type": "stream",
          "name": "stdout",
          "text": [
            "VAE reconstruction error: 0.042\n"
          ]
        }
      ]
    },
    {
      "cell_type": "markdown",
      "source": [
        "## Plot Original (x) & Reconstructed (xhat) Image"
      ],
      "metadata": {
        "id": "_EJwN216ohBL"
      }
    },
    {
      "cell_type": "code",
      "source": [
        "# select image\n",
        "idx = 0\n",
        "x_plot = x_test[idx,:]\n",
        "xhat_plot = vae_out[idx,:]\n",
        "# corresponding label\n",
        "y_plot = y_test[idx]\n",
        "# restore original value (from standardized 0-1 to original value 0-255)\n",
        "x_plot = x_plot*255\n",
        "xhat_plot = xhat_plot*255\n",
        "# check label & x dimension\n",
        "print(y_plot,x_plot.shape)"
      ],
      "metadata": {
        "colab": {
          "base_uri": "https://localhost:8080/"
        },
        "id": "wYRzXfGboj2h",
        "outputId": "ad830372-1eff-456e-97f3-3f06cbc401a9"
      },
      "execution_count": 59,
      "outputs": [
        {
          "output_type": "stream",
          "name": "stdout",
          "text": [
            "7 (784,)\n"
          ]
        }
      ]
    },
    {
      "cell_type": "code",
      "source": [
        "# reshape into 2D image data (784 to 28 x 28)\n",
        "x_img = x_plot.reshape((28,28))\n",
        "xhat_img = xhat_plot.reshape((28,28))"
      ],
      "metadata": {
        "id": "wxhe_S28oons"
      },
      "execution_count": 60,
      "outputs": []
    },
    {
      "cell_type": "code",
      "source": [
        "# plot 2D image: Original\n",
        "plt.imshow(x_img,cmap='Greys',interpolation='None')"
      ],
      "metadata": {
        "colab": {
          "base_uri": "https://localhost:8080/",
          "height": 510
        },
        "id": "YKugbDvhorHQ",
        "outputId": "e6c22338-c696-481c-867f-dc757d4bf7d6"
      },
      "execution_count": 61,
      "outputs": [
        {
          "output_type": "execute_result",
          "data": {
            "text/plain": [
              "<matplotlib.image.AxesImage at 0x7fc3d4aa7fd0>"
            ]
          },
          "metadata": {},
          "execution_count": 61
        },
        {
          "output_type": "display_data",
          "data": {
            "text/plain": [
              "<Figure size 1008x576 with 1 Axes>"
            ],
            "image/png": "[encoded data removed]"
          },
          "metadata": {}
        }
      ]
    },
    {
      "cell_type": "code",
      "source": [
        "# plot 2D image: Reconstructed\n",
        "plt.imshow(xhat_img,cmap='Greys',interpolation='None')"
      ],
      "metadata": {
        "id": "dq49SLN_pNKP",
        "colab": {
          "base_uri": "https://localhost:8080/",
          "height": 510
        },
        "outputId": "c3d48411-0e38-425a-bbd9-a539d5f0df63"
      },
      "execution_count": 62,
      "outputs": [
        {
          "output_type": "execute_result",
          "data": {
            "text/plain": [
              "<matplotlib.image.AxesImage at 0x7fc3d321fa90>"
            ]
          },
          "metadata": {},
          "execution_count": 62
        },
        {
          "output_type": "display_data",
          "data": {
            "text/plain": [
              "<Figure size 1008x576 with 1 Axes>"
            ],
            "image/png": "[encoded data removed]"
          },
          "metadata": {}
        }
      ]
    }
  ]
}