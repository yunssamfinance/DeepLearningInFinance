{
  "metadata": {
    "kernelspec": {
      "language": "python",
      "display_name": "Python 3",
      "name": "python3"
    },
    "language_info": {
      "name": "python",
      "version": "3.7.12",
      "mimetype": "text/x-python",
      "codemirror_mode": {
        "name": "ipython",
        "version": 3
      },
      "pygments_lexer": "ipython3",
      "nbconvert_exporter": "python",
      "file_extension": ".py"
    },
    "colab": {
      "provenance": [],
      "collapsed_sections": [
        "7e_07kRRWwjN"
      ]
    }
  },
  "nbformat_minor": 0,
  "nbformat": 4,
  "cells": [
    {
      "cell_type": "markdown",
      "source": [
        "# Episode 83b. 2022 World Cup Prediction with Gradient Boosting (2): Quarter Final (Round of 8)"
      ],
      "metadata": {
        "id": "vLQSi83Dw8cn"
      }
    },
    {
      "cell_type": "markdown",
      "source": [
        "[1] Original Article\n",
        "Predicting FIFA 2022 World Cup with ML (SERGIO PESSOA)\n",
        "- https://www.kaggle.com/code/sslp23/predicting-fifa-2022-world-cup-with-ml\n",
        "\n",
        "Soccer World Cup 2018 Winner (DR. JAMES BOND)\n",
        "- https://www.kaggle.com/code/agostontorok/soccer-world-cup-2018-winner\n",
        "\n",
        "\n",
        "\n",
        "[2] Data\n",
        "International football results from 1872 to 2022 (MART JÜRISOO)\n",
        "- https://www.kaggle.com/datasets/martj42/international-football-results-from-1872-to-2017\n",
        "\n",
        "FIFA World Ranking 1992-2022 (ALEX)\n",
        "- https://www.kaggle.com/datasets/cashncarry/fifaworldranking"
      ],
      "metadata": {
        "id": "E8TpA5_sxdnV"
      }
    },
    {
      "cell_type": "markdown",
      "source": [
        "# The Project\n",
        "\n",
        "The idea here is to simulate the FIFA 2022 World Cup games with machine learning, in order to predict the competition's winner. The project uses two datasets: [International football results from 1872 to 2022](https://www.kaggle.com/datasets/martj42/international-football-results-from-1872-to-2017) and [FIFA World Ranking 1992-2022](https://www.kaggle.com/datasets/cashncarry/fifaworldranking)\n",
        "\n",
        "I've used the same logic that was used in the [Soccer World Cup 2018 Winner\n",
        "](https://www.kaggle.com/code/agostontorok/soccer-world-cup-2018-winner) notebook, that models the problem as binary classification one. I used this to make more easy to analyze model's results, so the model predicts between win from home team and draw/win from away team. Then, to remove the advantage of away team, I predicted the results changing teams from away and home (because there is not home advantage in World Cup), and used as probabilities the mean of the two predictions. "
      ],
      "metadata": {
        "id": "af9McLQwxZhZ"
      }
    },
    {
      "cell_type": "markdown",
      "source": [
        "## Load Tensorflow 2.0\n",
        "- The following code ensures that Google CoLab is running the correct version of TensorFlow."
      ],
      "metadata": {
        "id": "LX0jqPlKxJNp"
      }
    },
    {
      "cell_type": "code",
      "source": [
        "# Start CoLab\n",
        "try:\n",
        "    %tensorflow_version 2.x\n",
        "    COLAB = True\n",
        "    print(\"Note: using Google CoLab\")\n",
        "except:\n",
        "    print(\"Note: not using Google CoLab\")\n",
        "    COLAB = False"
      ],
      "metadata": {
        "colab": {
          "base_uri": "https://localhost:8080/"
        },
        "id": "_YGmzDmgw881",
        "outputId": "ddcdc095-47b8-463c-efc7-e6a992afbfc5"
      },
      "execution_count": 1,
      "outputs": [
        {
          "output_type": "stream",
          "name": "stdout",
          "text": [
            "Colab only includes TensorFlow 2.x; %tensorflow_version has no effect.\n",
            "Note: using Google CoLab\n"
          ]
        }
      ]
    },
    {
      "cell_type": "markdown",
      "source": [
        "## Import Libraries"
      ],
      "metadata": {
        "id": "pl2uAgSNxO--"
      }
    },
    {
      "cell_type": "code",
      "source": [
        "import numpy as np\n",
        "import pandas as pd\n",
        "import matplotlib.pyplot as plt\n",
        "import seaborn as sns\n",
        "import re"
      ],
      "metadata": {
        "id": "RzziJZTRxKWp"
      },
      "execution_count": 2,
      "outputs": []
    },
    {
      "cell_type": "markdown",
      "source": [
        "## Mount Google Colab"
      ],
      "metadata": {
        "id": "CV0uAd-JzUH6"
      }
    },
    {
      "cell_type": "code",
      "source": [
        "# upload csv file from local drive\n",
        "from google.colab import drive\n",
        "drive.mount('./mount')"
      ],
      "metadata": {
        "colab": {
          "base_uri": "https://localhost:8080/"
        },
        "id": "29kxXskvzWz1",
        "outputId": "30fcb755-1331-4664-b16f-a9986a1393f6"
      },
      "execution_count": 3,
      "outputs": [
        {
          "output_type": "stream",
          "name": "stdout",
          "text": [
            "Mounted at ./mount\n"
          ]
        }
      ]
    },
    {
      "cell_type": "markdown",
      "source": [
        "## Data Preparation\n",
        "\n",
        "Here, I'll prepare the data to apply feature engineering methods that will create the database in order to apply Machine Learning algorithms."
      ],
      "metadata": {
        "id": "Xw2gU24YyzZR"
      }
    },
    {
      "cell_type": "code",
      "source": [
        "df =  pd.read_csv(\"/content/mount/MyDrive/Colab Notebooks/ep83a_results.csv\")"
      ],
      "metadata": {
        "execution": {
          "iopub.status.busy": "2022-11-19T16:03:34.443411Z",
          "iopub.execute_input": "2022-11-19T16:03:34.443955Z",
          "iopub.status.idle": "2022-11-19T16:03:34.532574Z",
          "shell.execute_reply.started": "2022-11-19T16:03:34.443915Z",
          "shell.execute_reply": "2022-11-19T16:03:34.531385Z"
        },
        "trusted": true,
        "id": "qePMfv-0wmQy"
      },
      "execution_count": 4,
      "outputs": []
    },
    {
      "cell_type": "code",
      "source": [
        "df[\"date\"] = pd.to_datetime(df[\"date\"])"
      ],
      "metadata": {
        "execution": {
          "iopub.status.busy": "2022-11-19T16:03:34.534671Z",
          "iopub.execute_input": "2022-11-19T16:03:34.535018Z",
          "iopub.status.idle": "2022-11-19T16:03:34.553824Z",
          "shell.execute_reply.started": "2022-11-19T16:03:34.534989Z",
          "shell.execute_reply": "2022-11-19T16:03:34.552462Z"
        },
        "trusted": true,
        "id": "kmLqP3QHwmQy"
      },
      "execution_count": 5,
      "outputs": []
    },
    {
      "cell_type": "code",
      "source": [
        "df.isna().sum()"
      ],
      "metadata": {
        "execution": {
          "iopub.status.busy": "2022-11-19T16:03:34.555724Z",
          "iopub.execute_input": "2022-11-19T16:03:34.55619Z",
          "iopub.status.idle": "2022-11-19T16:03:34.578703Z",
          "shell.execute_reply.started": "2022-11-19T16:03:34.556146Z",
          "shell.execute_reply": "2022-11-19T16:03:34.577469Z"
        },
        "trusted": true,
        "colab": {
          "base_uri": "https://localhost:8080/"
        },
        "id": "JtFqTFbkwmQy",
        "outputId": "16b3bcb4-fb27-499e-bd63-bcc7d55abb99"
      },
      "execution_count": 6,
      "outputs": [
        {
          "output_type": "execute_result",
          "data": {
            "text/plain": [
              "date          0\n",
              "home_team     0\n",
              "away_team     0\n",
              "home_score    4\n",
              "away_score    4\n",
              "tournament    0\n",
              "city          0\n",
              "country       0\n",
              "neutral       0\n",
              "dtype: int64"
            ]
          },
          "metadata": {},
          "execution_count": 6
        }
      ]
    },
    {
      "cell_type": "code",
      "source": [
        "df.dropna(inplace=True)"
      ],
      "metadata": {
        "execution": {
          "iopub.status.busy": "2022-11-19T16:03:34.580112Z",
          "iopub.execute_input": "2022-11-19T16:03:34.580556Z",
          "iopub.status.idle": "2022-11-19T16:03:34.604967Z",
          "shell.execute_reply.started": "2022-11-19T16:03:34.580521Z",
          "shell.execute_reply": "2022-11-19T16:03:34.60339Z"
        },
        "trusted": true,
        "id": "WyHK2DU3wmQz"
      },
      "execution_count": 7,
      "outputs": []
    },
    {
      "cell_type": "code",
      "source": [
        "df.dtypes"
      ],
      "metadata": {
        "execution": {
          "iopub.status.busy": "2022-11-19T16:03:34.606931Z",
          "iopub.execute_input": "2022-11-19T16:03:34.607448Z",
          "iopub.status.idle": "2022-11-19T16:03:34.617632Z",
          "shell.execute_reply.started": "2022-11-19T16:03:34.607397Z",
          "shell.execute_reply": "2022-11-19T16:03:34.616237Z"
        },
        "trusted": true,
        "colab": {
          "base_uri": "https://localhost:8080/"
        },
        "id": "KYzL2zISwmQz",
        "outputId": "b092b7de-f35e-4494-cf89-f83194fcde76"
      },
      "execution_count": 8,
      "outputs": [
        {
          "output_type": "execute_result",
          "data": {
            "text/plain": [
              "date          datetime64[ns]\n",
              "home_team             object\n",
              "away_team             object\n",
              "home_score           float64\n",
              "away_score           float64\n",
              "tournament            object\n",
              "city                  object\n",
              "country               object\n",
              "neutral                 bool\n",
              "dtype: object"
            ]
          },
          "metadata": {},
          "execution_count": 8
        }
      ]
    },
    {
      "cell_type": "markdown",
      "source": [
        "The dataset used will be the FIFA Games between 2018, from after the 2018 World Cup to the last games before the 2022 World Cup. The idea is to analyze just the games played at the preparation and classification to WC."
      ],
      "metadata": {
        "id": "btie3cCbwmQz"
      }
    },
    {
      "cell_type": "code",
      "source": [
        "df.sort_values(\"date\").tail()"
      ],
      "metadata": {
        "execution": {
          "iopub.status.busy": "2022-11-19T16:03:34.619343Z",
          "iopub.execute_input": "2022-11-19T16:03:34.619713Z",
          "iopub.status.idle": "2022-11-19T16:03:34.645215Z",
          "shell.execute_reply.started": "2022-11-19T16:03:34.619678Z",
          "shell.execute_reply": "2022-11-19T16:03:34.644124Z"
        },
        "trusted": true,
        "colab": {
          "base_uri": "https://localhost:8080/",
          "height": 206
        },
        "id": "1L5NZRmbwmQ0",
        "outputId": "da91f0a3-3612-4af8-fb1e-536b0d573a9d"
      },
      "execution_count": 9,
      "outputs": [
        {
          "output_type": "execute_result",
          "data": {
            "text/plain": [
              "            date     home_team away_team  home_score  away_score  \\\n",
              "44195 2022-11-30  Saudi Arabia    Mexico         1.0         2.0   \n",
              "44199 2022-12-01    Costa Rica   Germany         2.0         4.0   \n",
              "44200 2022-12-01       Croatia   Belgium         0.0         0.0   \n",
              "44198 2022-12-01         Japan     Spain         2.0         1.0   \n",
              "44201 2022-12-01        Canada   Morocco         1.0         2.0   \n",
              "\n",
              "           tournament       city country  neutral  \n",
              "44195  FIFA World Cup     Lusail   Qatar     True  \n",
              "44199  FIFA World Cup    Al Khor   Qatar     True  \n",
              "44200  FIFA World Cup  Al Rayyan   Qatar     True  \n",
              "44198  FIFA World Cup  Al Rayyan   Qatar     True  \n",
              "44201  FIFA World Cup       Doha   Qatar     True  "
            ],
            "text/html": [
              "\n",
              "  <div id=\"df-0b163be0-880a-48ef-9526-af46f70922ef\">\n",
              "    <div class=\"colab-df-container\">\n",
              "      <div>\n",
              "<style scoped>\n",
              "    .dataframe tbody tr th:only-of-type {\n",
              "        vertical-align: middle;\n",
              "    }\n",
              "\n",
              "    .dataframe tbody tr th {\n",
              "        vertical-align: top;\n",
              "    }\n",
              "\n",
              "    .dataframe thead th {\n",
              "        text-align: right;\n",
              "    }\n",
              "</style>\n",
              "<table border=\"1\" class=\"dataframe\">\n",
              "  <thead>\n",
              "    <tr style=\"text-align: right;\">\n",
              "      <th></th>\n",
              "      <th>date</th>\n",
              "      <th>home_team</th>\n",
              "      <th>away_team</th>\n",
              "      <th>home_score</th>\n",
              "      <th>away_score</th>\n",
              "      <th>tournament</th>\n",
              "      <th>city</th>\n",
              "      <th>country</th>\n",
              "      <th>neutral</th>\n",
              "    </tr>\n",
              "  </thead>\n",
              "  <tbody>\n",
              "    <tr>\n",
              "      <th>44195</th>\n",
              "      <td>2022-11-30</td>\n",
              "      <td>Saudi Arabia</td>\n",
              "      <td>Mexico</td>\n",
              "      <td>1.0</td>\n",
              "      <td>2.0</td>\n",
              "      <td>FIFA World Cup</td>\n",
              "      <td>Lusail</td>\n",
              "      <td>Qatar</td>\n",
              "      <td>True</td>\n",
              "    </tr>\n",
              "    <tr>\n",
              "      <th>44199</th>\n",
              "      <td>2022-12-01</td>\n",
              "      <td>Costa Rica</td>\n",
              "      <td>Germany</td>\n",
              "      <td>2.0</td>\n",
              "      <td>4.0</td>\n",
              "      <td>FIFA World Cup</td>\n",
              "      <td>Al Khor</td>\n",
              "      <td>Qatar</td>\n",
              "      <td>True</td>\n",
              "    </tr>\n",
              "    <tr>\n",
              "      <th>44200</th>\n",
              "      <td>2022-12-01</td>\n",
              "      <td>Croatia</td>\n",
              "      <td>Belgium</td>\n",
              "      <td>0.0</td>\n",
              "      <td>0.0</td>\n",
              "      <td>FIFA World Cup</td>\n",
              "      <td>Al Rayyan</td>\n",
              "      <td>Qatar</td>\n",
              "      <td>True</td>\n",
              "    </tr>\n",
              "    <tr>\n",
              "      <th>44198</th>\n",
              "      <td>2022-12-01</td>\n",
              "      <td>Japan</td>\n",
              "      <td>Spain</td>\n",
              "      <td>2.0</td>\n",
              "      <td>1.0</td>\n",
              "      <td>FIFA World Cup</td>\n",
              "      <td>Al Rayyan</td>\n",
              "      <td>Qatar</td>\n",
              "      <td>True</td>\n",
              "    </tr>\n",
              "    <tr>\n",
              "      <th>44201</th>\n",
              "      <td>2022-12-01</td>\n",
              "      <td>Canada</td>\n",
              "      <td>Morocco</td>\n",
              "      <td>1.0</td>\n",
              "      <td>2.0</td>\n",
              "      <td>FIFA World Cup</td>\n",
              "      <td>Doha</td>\n",
              "      <td>Qatar</td>\n",
              "      <td>True</td>\n",
              "    </tr>\n",
              "  </tbody>\n",
              "</table>\n",
              "</div>\n",
              "      <button class=\"colab-df-convert\" onclick=\"convertToInteractive('df-0b163be0-880a-48ef-9526-af46f70922ef')\"\n",
              "              title=\"Convert this dataframe to an interactive table.\"\n",
              "              style=\"display:none;\">\n",
              "        \n",
              "  <svg xmlns=\"http://www.w3.org/2000/svg\" height=\"24px\"viewBox=\"0 0 24 24\"\n",
              "       width=\"24px\">\n",
              "    <path d=\"M0 0h24v24H0V0z\" fill=\"none\"/>\n",
              "    <path d=\"M18.56 5.44l.94 2.06.94-2.06 2.06-.94-2.06-.94-.94-2.06-.94 2.06-2.06.94zm-11 1L8.5 8.5l.94-2.06 2.06-.94-2.06-.94L8.5 2.5l-.94 2.06-2.06.94zm10 10l.94 2.06.94-2.06 2.06-.94-2.06-.94-.94-2.06-.94 2.06-2.06.94z\"/><path d=\"M17.41 7.96l-1.37-1.37c-.4-.4-.92-.59-1.43-.59-.52 0-1.04.2-1.43.59L10.3 9.45l-7.72 7.72c-.78.78-.78 2.05 0 2.83L4 21.41c.39.39.9.59 1.41.59.51 0 1.02-.2 1.41-.59l7.78-7.78 2.81-2.81c.8-.78.8-2.07 0-2.86zM5.41 20L4 18.59l7.72-7.72 1.47 1.35L5.41 20z\"/>\n",
              "  </svg>\n",
              "      </button>\n",
              "      \n",
              "  <style>\n",
              "    .colab-df-container {\n",
              "      display:flex;\n",
              "      flex-wrap:wrap;\n",
              "      gap: 12px;\n",
              "    }\n",
              "\n",
              "    .colab-df-convert {\n",
              "      background-color: #E8F0FE;\n",
              "      border: none;\n",
              "      border-radius: 50%;\n",
              "      cursor: pointer;\n",
              "      display: none;\n",
              "      fill: #1967D2;\n",
              "      height: 32px;\n",
              "      padding: 0 0 0 0;\n",
              "      width: 32px;\n",
              "    }\n",
              "\n",
              "    .colab-df-convert:hover {\n",
              "      background-color: #E2EBFA;\n",
              "      box-shadow: 0px 1px 2px rgba(60, 64, 67, 0.3), 0px 1px 3px 1px rgba(60, 64, 67, 0.15);\n",
              "      fill: #174EA6;\n",
              "    }\n",
              "\n",
              "    [theme=dark] .colab-df-convert {\n",
              "      background-color: #3B4455;\n",
              "      fill: #D2E3FC;\n",
              "    }\n",
              "\n",
              "    [theme=dark] .colab-df-convert:hover {\n",
              "      background-color: #434B5C;\n",
              "      box-shadow: 0px 1px 3px 1px rgba(0, 0, 0, 0.15);\n",
              "      filter: drop-shadow(0px 1px 2px rgba(0, 0, 0, 0.3));\n",
              "      fill: #FFFFFF;\n",
              "    }\n",
              "  </style>\n",
              "\n",
              "      <script>\n",
              "        const buttonEl =\n",
              "          document.querySelector('#df-0b163be0-880a-48ef-9526-af46f70922ef button.colab-df-convert');\n",
              "        buttonEl.style.display =\n",
              "          google.colab.kernel.accessAllowed ? 'block' : 'none';\n",
              "\n",
              "        async function convertToInteractive(key) {\n",
              "          const element = document.querySelector('#df-0b163be0-880a-48ef-9526-af46f70922ef');\n",
              "          const dataTable =\n",
              "            await google.colab.kernel.invokeFunction('convertToInteractive',\n",
              "                                                     [key], {});\n",
              "          if (!dataTable) return;\n",
              "\n",
              "          const docLinkHtml = 'Like what you see? Visit the ' +\n",
              "            '<a target=\"_blank\" href=https://colab.research.google.com/notebooks/data_table.ipynb>data table notebook</a>'\n",
              "            + ' to learn more about interactive tables.';\n",
              "          element.innerHTML = '';\n",
              "          dataTable['output_type'] = 'display_data';\n",
              "          await google.colab.output.renderOutput(dataTable, element);\n",
              "          const docLink = document.createElement('div');\n",
              "          docLink.innerHTML = docLinkHtml;\n",
              "          element.appendChild(docLink);\n",
              "        }\n",
              "      </script>\n",
              "    </div>\n",
              "  </div>\n",
              "  "
            ]
          },
          "metadata": {},
          "execution_count": 9
        }
      ]
    },
    {
      "cell_type": "code",
      "source": [
        "df = df[(df[\"date\"] >= \"2018-8-1\")].reset_index(drop=True)"
      ],
      "metadata": {
        "execution": {
          "iopub.status.busy": "2022-11-19T16:03:34.648968Z",
          "iopub.execute_input": "2022-11-19T16:03:34.649454Z",
          "iopub.status.idle": "2022-11-19T16:03:34.657931Z",
          "shell.execute_reply.started": "2022-11-19T16:03:34.649409Z",
          "shell.execute_reply": "2022-11-19T16:03:34.656955Z"
        },
        "trusted": true,
        "id": "V7rToxFawmQ0"
      },
      "execution_count": 10,
      "outputs": []
    },
    {
      "cell_type": "code",
      "source": [
        "df.sort_values(\"date\").tail()"
      ],
      "metadata": {
        "execution": {
          "iopub.status.busy": "2022-11-19T16:03:34.670285Z",
          "iopub.execute_input": "2022-11-19T16:03:34.670689Z",
          "iopub.status.idle": "2022-11-19T16:03:34.690313Z",
          "shell.execute_reply.started": "2022-11-19T16:03:34.670658Z",
          "shell.execute_reply": "2022-11-19T16:03:34.68932Z"
        },
        "trusted": true,
        "colab": {
          "base_uri": "https://localhost:8080/",
          "height": 206
        },
        "id": "OTSjSSMcwmQ0",
        "outputId": "e267e51e-35c3-4594-baa6-89652b9a020e"
      },
      "execution_count": 11,
      "outputs": [
        {
          "output_type": "execute_result",
          "data": {
            "text/plain": [
              "           date   home_team away_team  home_score  away_score      tournament  \\\n",
              "3899 2022-11-30     Tunisia    France         1.0         0.0  FIFA World Cup   \n",
              "3901 2022-12-01  Costa Rica   Germany         2.0         4.0  FIFA World Cup   \n",
              "3902 2022-12-01     Croatia   Belgium         0.0         0.0  FIFA World Cup   \n",
              "3900 2022-12-01       Japan     Spain         2.0         1.0  FIFA World Cup   \n",
              "3903 2022-12-01      Canada   Morocco         1.0         2.0  FIFA World Cup   \n",
              "\n",
              "           city country  neutral  \n",
              "3899  Al Rayyan   Qatar     True  \n",
              "3901    Al Khor   Qatar     True  \n",
              "3902  Al Rayyan   Qatar     True  \n",
              "3900  Al Rayyan   Qatar     True  \n",
              "3903       Doha   Qatar     True  "
            ],
            "text/html": [
              "\n",
              "  <div id=\"df-e496ec19-c092-406d-a5c1-c01475dd12cc\">\n",
              "    <div class=\"colab-df-container\">\n",
              "      <div>\n",
              "<style scoped>\n",
              "    .dataframe tbody tr th:only-of-type {\n",
              "        vertical-align: middle;\n",
              "    }\n",
              "\n",
              "    .dataframe tbody tr th {\n",
              "        vertical-align: top;\n",
              "    }\n",
              "\n",
              "    .dataframe thead th {\n",
              "        text-align: right;\n",
              "    }\n",
              "</style>\n",
              "<table border=\"1\" class=\"dataframe\">\n",
              "  <thead>\n",
              "    <tr style=\"text-align: right;\">\n",
              "      <th></th>\n",
              "      <th>date</th>\n",
              "      <th>home_team</th>\n",
              "      <th>away_team</th>\n",
              "      <th>home_score</th>\n",
              "      <th>away_score</th>\n",
              "      <th>tournament</th>\n",
              "      <th>city</th>\n",
              "      <th>country</th>\n",
              "      <th>neutral</th>\n",
              "    </tr>\n",
              "  </thead>\n",
              "  <tbody>\n",
              "    <tr>\n",
              "      <th>3899</th>\n",
              "      <td>2022-11-30</td>\n",
              "      <td>Tunisia</td>\n",
              "      <td>France</td>\n",
              "      <td>1.0</td>\n",
              "      <td>0.0</td>\n",
              "      <td>FIFA World Cup</td>\n",
              "      <td>Al Rayyan</td>\n",
              "      <td>Qatar</td>\n",
              "      <td>True</td>\n",
              "    </tr>\n",
              "    <tr>\n",
              "      <th>3901</th>\n",
              "      <td>2022-12-01</td>\n",
              "      <td>Costa Rica</td>\n",
              "      <td>Germany</td>\n",
              "      <td>2.0</td>\n",
              "      <td>4.0</td>\n",
              "      <td>FIFA World Cup</td>\n",
              "      <td>Al Khor</td>\n",
              "      <td>Qatar</td>\n",
              "      <td>True</td>\n",
              "    </tr>\n",
              "    <tr>\n",
              "      <th>3902</th>\n",
              "      <td>2022-12-01</td>\n",
              "      <td>Croatia</td>\n",
              "      <td>Belgium</td>\n",
              "      <td>0.0</td>\n",
              "      <td>0.0</td>\n",
              "      <td>FIFA World Cup</td>\n",
              "      <td>Al Rayyan</td>\n",
              "      <td>Qatar</td>\n",
              "      <td>True</td>\n",
              "    </tr>\n",
              "    <tr>\n",
              "      <th>3900</th>\n",
              "      <td>2022-12-01</td>\n",
              "      <td>Japan</td>\n",
              "      <td>Spain</td>\n",
              "      <td>2.0</td>\n",
              "      <td>1.0</td>\n",
              "      <td>FIFA World Cup</td>\n",
              "      <td>Al Rayyan</td>\n",
              "      <td>Qatar</td>\n",
              "      <td>True</td>\n",
              "    </tr>\n",
              "    <tr>\n",
              "      <th>3903</th>\n",
              "      <td>2022-12-01</td>\n",
              "      <td>Canada</td>\n",
              "      <td>Morocco</td>\n",
              "      <td>1.0</td>\n",
              "      <td>2.0</td>\n",
              "      <td>FIFA World Cup</td>\n",
              "      <td>Doha</td>\n",
              "      <td>Qatar</td>\n",
              "      <td>True</td>\n",
              "    </tr>\n",
              "  </tbody>\n",
              "</table>\n",
              "</div>\n",
              "      <button class=\"colab-df-convert\" onclick=\"convertToInteractive('df-e496ec19-c092-406d-a5c1-c01475dd12cc')\"\n",
              "              title=\"Convert this dataframe to an interactive table.\"\n",
              "              style=\"display:none;\">\n",
              "        \n",
              "  <svg xmlns=\"http://www.w3.org/2000/svg\" height=\"24px\"viewBox=\"0 0 24 24\"\n",
              "       width=\"24px\">\n",
              "    <path d=\"M0 0h24v24H0V0z\" fill=\"none\"/>\n",
              "    <path d=\"M18.56 5.44l.94 2.06.94-2.06 2.06-.94-2.06-.94-.94-2.06-.94 2.06-2.06.94zm-11 1L8.5 8.5l.94-2.06 2.06-.94-2.06-.94L8.5 2.5l-.94 2.06-2.06.94zm10 10l.94 2.06.94-2.06 2.06-.94-2.06-.94-.94-2.06-.94 2.06-2.06.94z\"/><path d=\"M17.41 7.96l-1.37-1.37c-.4-.4-.92-.59-1.43-.59-.52 0-1.04.2-1.43.59L10.3 9.45l-7.72 7.72c-.78.78-.78 2.05 0 2.83L4 21.41c.39.39.9.59 1.41.59.51 0 1.02-.2 1.41-.59l7.78-7.78 2.81-2.81c.8-.78.8-2.07 0-2.86zM5.41 20L4 18.59l7.72-7.72 1.47 1.35L5.41 20z\"/>\n",
              "  </svg>\n",
              "      </button>\n",
              "      \n",
              "  <style>\n",
              "    .colab-df-container {\n",
              "      display:flex;\n",
              "      flex-wrap:wrap;\n",
              "      gap: 12px;\n",
              "    }\n",
              "\n",
              "    .colab-df-convert {\n",
              "      background-color: #E8F0FE;\n",
              "      border: none;\n",
              "      border-radius: 50%;\n",
              "      cursor: pointer;\n",
              "      display: none;\n",
              "      fill: #1967D2;\n",
              "      height: 32px;\n",
              "      padding: 0 0 0 0;\n",
              "      width: 32px;\n",
              "    }\n",
              "\n",
              "    .colab-df-convert:hover {\n",
              "      background-color: #E2EBFA;\n",
              "      box-shadow: 0px 1px 2px rgba(60, 64, 67, 0.3), 0px 1px 3px 1px rgba(60, 64, 67, 0.15);\n",
              "      fill: #174EA6;\n",
              "    }\n",
              "\n",
              "    [theme=dark] .colab-df-convert {\n",
              "      background-color: #3B4455;\n",
              "      fill: #D2E3FC;\n",
              "    }\n",
              "\n",
              "    [theme=dark] .colab-df-convert:hover {\n",
              "      background-color: #434B5C;\n",
              "      box-shadow: 0px 1px 3px 1px rgba(0, 0, 0, 0.15);\n",
              "      filter: drop-shadow(0px 1px 2px rgba(0, 0, 0, 0.3));\n",
              "      fill: #FFFFFF;\n",
              "    }\n",
              "  </style>\n",
              "\n",
              "      <script>\n",
              "        const buttonEl =\n",
              "          document.querySelector('#df-e496ec19-c092-406d-a5c1-c01475dd12cc button.colab-df-convert');\n",
              "        buttonEl.style.display =\n",
              "          google.colab.kernel.accessAllowed ? 'block' : 'none';\n",
              "\n",
              "        async function convertToInteractive(key) {\n",
              "          const element = document.querySelector('#df-e496ec19-c092-406d-a5c1-c01475dd12cc');\n",
              "          const dataTable =\n",
              "            await google.colab.kernel.invokeFunction('convertToInteractive',\n",
              "                                                     [key], {});\n",
              "          if (!dataTable) return;\n",
              "\n",
              "          const docLinkHtml = 'Like what you see? Visit the ' +\n",
              "            '<a target=\"_blank\" href=https://colab.research.google.com/notebooks/data_table.ipynb>data table notebook</a>'\n",
              "            + ' to learn more about interactive tables.';\n",
              "          element.innerHTML = '';\n",
              "          dataTable['output_type'] = 'display_data';\n",
              "          await google.colab.output.renderOutput(dataTable, element);\n",
              "          const docLink = document.createElement('div');\n",
              "          docLink.innerHTML = docLinkHtml;\n",
              "          element.appendChild(docLink);\n",
              "        }\n",
              "      </script>\n",
              "    </div>\n",
              "  </div>\n",
              "  "
            ]
          },
          "metadata": {},
          "execution_count": 11
        }
      ]
    },
    {
      "cell_type": "code",
      "source": [
        "df.home_team.value_counts()"
      ],
      "metadata": {
        "execution": {
          "iopub.status.busy": "2022-11-19T16:03:34.692617Z",
          "iopub.execute_input": "2022-11-19T16:03:34.693849Z",
          "iopub.status.idle": "2022-11-19T16:03:34.704288Z",
          "shell.execute_reply.started": "2022-11-19T16:03:34.693802Z",
          "shell.execute_reply": "2022-11-19T16:03:34.703185Z"
        },
        "trusted": true,
        "colab": {
          "base_uri": "https://localhost:8080/"
        },
        "id": "5A5teI0rwmQ1",
        "outputId": "3649af09-c02e-47b3-93ba-34632a74658b"
      },
      "execution_count": 12,
      "outputs": [
        {
          "output_type": "execute_result",
          "data": {
            "text/plain": [
              "United States    46\n",
              "Mexico           43\n",
              "Qatar            43\n",
              "Japan            40\n",
              "Bahrain          39\n",
              "                 ..\n",
              "Chameria          1\n",
              "Székely Land      1\n",
              "Catalonia         1\n",
              "Cascadia          1\n",
              "Orkney            1\n",
              "Name: home_team, Length: 247, dtype: int64"
            ]
          },
          "metadata": {},
          "execution_count": 12
        }
      ]
    },
    {
      "cell_type": "code",
      "source": [
        "rank = pd.read_csv(\"/content/mount/MyDrive/Colab Notebooks/ep83a_fifa_ranking-2022-10-06.csv\")"
      ],
      "metadata": {
        "execution": {
          "iopub.status.busy": "2022-11-19T16:03:34.758211Z",
          "iopub.execute_input": "2022-11-19T16:03:34.758609Z",
          "iopub.status.idle": "2022-11-19T16:03:34.836501Z",
          "shell.execute_reply.started": "2022-11-19T16:03:34.75858Z",
          "shell.execute_reply": "2022-11-19T16:03:34.835434Z"
        },
        "trusted": true,
        "id": "Fs36WJU0wmQ1"
      },
      "execution_count": 13,
      "outputs": []
    },
    {
      "cell_type": "code",
      "source": [
        "rank[\"rank_date\"] = pd.to_datetime(rank[\"rank_date\"])\n",
        "rank = rank[(rank[\"rank_date\"] >= \"2018-8-1\")].reset_index(drop=True)\n"
      ],
      "metadata": {
        "execution": {
          "iopub.status.busy": "2022-11-19T16:03:34.839389Z",
          "iopub.execute_input": "2022-11-19T16:03:34.840135Z",
          "iopub.status.idle": "2022-11-19T16:03:34.86248Z",
          "shell.execute_reply.started": "2022-11-19T16:03:34.840087Z",
          "shell.execute_reply": "2022-11-19T16:03:34.861498Z"
        },
        "trusted": true,
        "id": "x5IQZwJYwmQ1"
      },
      "execution_count": 14,
      "outputs": []
    },
    {
      "cell_type": "markdown",
      "source": [
        "Some teams in the World Cup have different names in the ranking's dataset. So, it's needed to adjust. "
      ],
      "metadata": {
        "id": "wO4GX7USwmQ1"
      }
    },
    {
      "cell_type": "code",
      "source": [
        "rank[\"country_full\"] = rank[\"country_full\"].str.replace(\"IR Iran\", \"Iran\").str.replace(\"Korea Republic\", \"South Korea\").str.replace(\"USA\", \"United States\")"
      ],
      "metadata": {
        "execution": {
          "iopub.status.busy": "2022-11-19T16:03:34.864296Z",
          "iopub.execute_input": "2022-11-19T16:03:34.864878Z",
          "iopub.status.idle": "2022-11-19T16:03:34.888943Z",
          "shell.execute_reply.started": "2022-11-19T16:03:34.864833Z",
          "shell.execute_reply": "2022-11-19T16:03:34.887752Z"
        },
        "trusted": true,
        "id": "HEhlfufpwmQ1"
      },
      "execution_count": 15,
      "outputs": []
    },
    {
      "cell_type": "markdown",
      "source": [
        "The merge is made in order to get a dataset FIFA games and its rankings."
      ],
      "metadata": {
        "id": "XQcUCfnOwmQ2"
      }
    },
    {
      "cell_type": "code",
      "source": [
        "rank = rank.set_index(['rank_date']).groupby(['country_full'], group_keys=False).resample('D').first().fillna(method='ffill').reset_index()"
      ],
      "metadata": {
        "execution": {
          "iopub.status.busy": "2022-11-19T16:03:34.890284Z",
          "iopub.execute_input": "2022-11-19T16:03:34.890656Z",
          "iopub.status.idle": "2022-11-19T16:03:35.708142Z",
          "shell.execute_reply.started": "2022-11-19T16:03:34.890623Z",
          "shell.execute_reply": "2022-11-19T16:03:35.70659Z"
        },
        "trusted": true,
        "id": "lT2Vx_GOwmQ2"
      },
      "execution_count": 16,
      "outputs": []
    },
    {
      "cell_type": "code",
      "source": [
        "df_wc_ranked = df.merge(rank[[\"country_full\", \"total_points\", \"previous_points\", \"rank\", \"rank_change\", \"rank_date\"]], left_on=[\"date\", \"home_team\"], right_on=[\"rank_date\", \"country_full\"]).drop([\"rank_date\", \"country_full\"], axis=1)\n",
        "\n",
        "df_wc_ranked = df_wc_ranked.merge(rank[[\"country_full\", \"total_points\", \"previous_points\", \"rank\", \"rank_change\", \"rank_date\"]], left_on=[\"date\", \"away_team\"], right_on=[\"rank_date\", \"country_full\"], suffixes=(\"_home\", \"_away\")).drop([\"rank_date\", \"country_full\"], axis=1)"
      ],
      "metadata": {
        "execution": {
          "iopub.status.busy": "2022-11-19T16:03:35.712578Z",
          "iopub.execute_input": "2022-11-19T16:03:35.71312Z",
          "iopub.status.idle": "2022-11-19T16:03:35.847112Z",
          "shell.execute_reply.started": "2022-11-19T16:03:35.713057Z",
          "shell.execute_reply": "2022-11-19T16:03:35.846056Z"
        },
        "trusted": true,
        "id": "jec7Xm6BwmQ2"
      },
      "execution_count": 17,
      "outputs": []
    },
    {
      "cell_type": "code",
      "source": [
        "df_wc_ranked[(df_wc_ranked.home_team == \"Brazil\") | (df_wc_ranked.away_team == \"Brazil\")].tail(10)"
      ],
      "metadata": {
        "execution": {
          "iopub.status.busy": "2022-11-19T16:03:35.848785Z",
          "iopub.execute_input": "2022-11-19T16:03:35.849534Z",
          "iopub.status.idle": "2022-11-19T16:03:35.886676Z",
          "shell.execute_reply.started": "2022-11-19T16:03:35.849488Z",
          "shell.execute_reply": "2022-11-19T16:03:35.885707Z"
        },
        "trusted": true,
        "colab": {
          "base_uri": "https://localhost:8080/",
          "height": 705
        },
        "id": "la4NVKOPwmQ2",
        "outputId": "ce5b9da9-6e50-495f-afb6-1d5e06dc3601"
      },
      "execution_count": 18,
      "outputs": [
        {
          "output_type": "execute_result",
          "data": {
            "text/plain": [
              "           date    home_team away_team  home_score  away_score  \\\n",
              "2528 2021-11-11       Brazil  Colombia         1.0         0.0   \n",
              "2629 2021-11-16    Argentina    Brazil         0.0         0.0   \n",
              "2737 2022-01-27      Ecuador    Brazil         1.0         1.0   \n",
              "2770 2022-02-01       Brazil  Paraguay         4.0         0.0   \n",
              "2811 2022-03-24       Brazil     Chile         4.0         0.0   \n",
              "2894 2022-03-29      Bolivia    Brazil         0.0         4.0   \n",
              "2986 2022-06-02  South Korea    Brazil         1.0         5.0   \n",
              "3054 2022-06-06        Japan    Brazil         0.0         1.0   \n",
              "3231 2022-09-23       Brazil     Ghana         3.0         0.0   \n",
              "3300 2022-09-27       Brazil   Tunisia         5.0         1.0   \n",
              "\n",
              "                        tournament            city      country  neutral  \\\n",
              "2528  FIFA World Cup qualification       São Paulo       Brazil    False   \n",
              "2629  FIFA World Cup qualification        San Juan    Argentina    False   \n",
              "2737  FIFA World Cup qualification           Quito      Ecuador    False   \n",
              "2770  FIFA World Cup qualification  Belo Horizonte       Brazil    False   \n",
              "2811  FIFA World Cup qualification  Rio de Janeiro       Brazil    False   \n",
              "2894  FIFA World Cup qualification          La Paz      Bolivia    False   \n",
              "2986                      Friendly           Seoul  South Korea    False   \n",
              "3054                      Friendly           Tokyo        Japan    False   \n",
              "3231                      Friendly        Le Havre       France     True   \n",
              "3300                      Friendly           Paris       France     True   \n",
              "\n",
              "      total_points_home  previous_points_home  rank_home  rank_change_home  \\\n",
              "2528            1820.36               1811.73        2.0               0.0   \n",
              "2629            1738.79               1725.31        6.0               0.0   \n",
              "2737            1448.27               1448.74       46.0               0.0   \n",
              "2770            1826.35               1826.35        2.0               0.0   \n",
              "2811            1823.42               1826.35        2.0               0.0   \n",
              "2894            1308.12               1324.21       76.0              -1.0   \n",
              "2986            1519.54               1522.85       29.0               0.0   \n",
              "3054            1553.44               1549.82       23.0               0.0   \n",
              "3231            1837.56               1837.56        1.0               0.0   \n",
              "3300            1837.56               1837.56        1.0               0.0   \n",
              "\n",
              "      total_points_away  previous_points_away  rank_away  rank_change_away  \n",
              "2528            1618.76               1618.40       16.0               0.0  \n",
              "2629            1820.36               1811.73        2.0               0.0  \n",
              "2737            1826.35               1826.35        2.0               0.0  \n",
              "2770            1454.52               1454.52       43.0               0.0  \n",
              "2811            1543.16               1543.42       26.0               2.0  \n",
              "2894            1823.42               1826.35        2.0               0.0  \n",
              "2986            1832.69               1823.42        1.0              -1.0  \n",
              "3054            1832.69               1823.42        1.0              -1.0  \n",
              "3231            1393.47               1389.68       60.0               0.0  \n",
              "3300            1507.86               1507.86       30.0               0.0  "
            ],
            "text/html": [
              "\n",
              "  <div id=\"df-091688e0-20b2-48af-ba25-a6399e2c6789\">\n",
              "    <div class=\"colab-df-container\">\n",
              "      <div>\n",
              "<style scoped>\n",
              "    .dataframe tbody tr th:only-of-type {\n",
              "        vertical-align: middle;\n",
              "    }\n",
              "\n",
              "    .dataframe tbody tr th {\n",
              "        vertical-align: top;\n",
              "    }\n",
              "\n",
              "    .dataframe thead th {\n",
              "        text-align: right;\n",
              "    }\n",
              "</style>\n",
              "<table border=\"1\" class=\"dataframe\">\n",
              "  <thead>\n",
              "    <tr style=\"text-align: right;\">\n",
              "      <th></th>\n",
              "      <th>date</th>\n",
              "      <th>home_team</th>\n",
              "      <th>away_team</th>\n",
              "      <th>home_score</th>\n",
              "      <th>away_score</th>\n",
              "      <th>tournament</th>\n",
              "      <th>city</th>\n",
              "      <th>country</th>\n",
              "      <th>neutral</th>\n",
              "      <th>total_points_home</th>\n",
              "      <th>previous_points_home</th>\n",
              "      <th>rank_home</th>\n",
              "      <th>rank_change_home</th>\n",
              "      <th>total_points_away</th>\n",
              "      <th>previous_points_away</th>\n",
              "      <th>rank_away</th>\n",
              "      <th>rank_change_away</th>\n",
              "    </tr>\n",
              "  </thead>\n",
              "  <tbody>\n",
              "    <tr>\n",
              "      <th>2528</th>\n",
              "      <td>2021-11-11</td>\n",
              "      <td>Brazil</td>\n",
              "      <td>Colombia</td>\n",
              "      <td>1.0</td>\n",
              "      <td>0.0</td>\n",
              "      <td>FIFA World Cup qualification</td>\n",
              "      <td>São Paulo</td>\n",
              "      <td>Brazil</td>\n",
              "      <td>False</td>\n",
              "      <td>1820.36</td>\n",
              "      <td>1811.73</td>\n",
              "      <td>2.0</td>\n",
              "      <td>0.0</td>\n",
              "      <td>1618.76</td>\n",
              "      <td>1618.40</td>\n",
              "      <td>16.0</td>\n",
              "      <td>0.0</td>\n",
              "    </tr>\n",
              "    <tr>\n",
              "      <th>2629</th>\n",
              "      <td>2021-11-16</td>\n",
              "      <td>Argentina</td>\n",
              "      <td>Brazil</td>\n",
              "      <td>0.0</td>\n",
              "      <td>0.0</td>\n",
              "      <td>FIFA World Cup qualification</td>\n",
              "      <td>San Juan</td>\n",
              "      <td>Argentina</td>\n",
              "      <td>False</td>\n",
              "      <td>1738.79</td>\n",
              "      <td>1725.31</td>\n",
              "      <td>6.0</td>\n",
              "      <td>0.0</td>\n",
              "      <td>1820.36</td>\n",
              "      <td>1811.73</td>\n",
              "      <td>2.0</td>\n",
              "      <td>0.0</td>\n",
              "    </tr>\n",
              "    <tr>\n",
              "      <th>2737</th>\n",
              "      <td>2022-01-27</td>\n",
              "      <td>Ecuador</td>\n",
              "      <td>Brazil</td>\n",
              "      <td>1.0</td>\n",
              "      <td>1.0</td>\n",
              "      <td>FIFA World Cup qualification</td>\n",
              "      <td>Quito</td>\n",
              "      <td>Ecuador</td>\n",
              "      <td>False</td>\n",
              "      <td>1448.27</td>\n",
              "      <td>1448.74</td>\n",
              "      <td>46.0</td>\n",
              "      <td>0.0</td>\n",
              "      <td>1826.35</td>\n",
              "      <td>1826.35</td>\n",
              "      <td>2.0</td>\n",
              "      <td>0.0</td>\n",
              "    </tr>\n",
              "    <tr>\n",
              "      <th>2770</th>\n",
              "      <td>2022-02-01</td>\n",
              "      <td>Brazil</td>\n",
              "      <td>Paraguay</td>\n",
              "      <td>4.0</td>\n",
              "      <td>0.0</td>\n",
              "      <td>FIFA World Cup qualification</td>\n",
              "      <td>Belo Horizonte</td>\n",
              "      <td>Brazil</td>\n",
              "      <td>False</td>\n",
              "      <td>1826.35</td>\n",
              "      <td>1826.35</td>\n",
              "      <td>2.0</td>\n",
              "      <td>0.0</td>\n",
              "      <td>1454.52</td>\n",
              "      <td>1454.52</td>\n",
              "      <td>43.0</td>\n",
              "      <td>0.0</td>\n",
              "    </tr>\n",
              "    <tr>\n",
              "      <th>2811</th>\n",
              "      <td>2022-03-24</td>\n",
              "      <td>Brazil</td>\n",
              "      <td>Chile</td>\n",
              "      <td>4.0</td>\n",
              "      <td>0.0</td>\n",
              "      <td>FIFA World Cup qualification</td>\n",
              "      <td>Rio de Janeiro</td>\n",
              "      <td>Brazil</td>\n",
              "      <td>False</td>\n",
              "      <td>1823.42</td>\n",
              "      <td>1826.35</td>\n",
              "      <td>2.0</td>\n",
              "      <td>0.0</td>\n",
              "      <td>1543.16</td>\n",
              "      <td>1543.42</td>\n",
              "      <td>26.0</td>\n",
              "      <td>2.0</td>\n",
              "    </tr>\n",
              "    <tr>\n",
              "      <th>2894</th>\n",
              "      <td>2022-03-29</td>\n",
              "      <td>Bolivia</td>\n",
              "      <td>Brazil</td>\n",
              "      <td>0.0</td>\n",
              "      <td>4.0</td>\n",
              "      <td>FIFA World Cup qualification</td>\n",
              "      <td>La Paz</td>\n",
              "      <td>Bolivia</td>\n",
              "      <td>False</td>\n",
              "      <td>1308.12</td>\n",
              "      <td>1324.21</td>\n",
              "      <td>76.0</td>\n",
              "      <td>-1.0</td>\n",
              "      <td>1823.42</td>\n",
              "      <td>1826.35</td>\n",
              "      <td>2.0</td>\n",
              "      <td>0.0</td>\n",
              "    </tr>\n",
              "    <tr>\n",
              "      <th>2986</th>\n",
              "      <td>2022-06-02</td>\n",
              "      <td>South Korea</td>\n",
              "      <td>Brazil</td>\n",
              "      <td>1.0</td>\n",
              "      <td>5.0</td>\n",
              "      <td>Friendly</td>\n",
              "      <td>Seoul</td>\n",
              "      <td>South Korea</td>\n",
              "      <td>False</td>\n",
              "      <td>1519.54</td>\n",
              "      <td>1522.85</td>\n",
              "      <td>29.0</td>\n",
              "      <td>0.0</td>\n",
              "      <td>1832.69</td>\n",
              "      <td>1823.42</td>\n",
              "      <td>1.0</td>\n",
              "      <td>-1.0</td>\n",
              "    </tr>\n",
              "    <tr>\n",
              "      <th>3054</th>\n",
              "      <td>2022-06-06</td>\n",
              "      <td>Japan</td>\n",
              "      <td>Brazil</td>\n",
              "      <td>0.0</td>\n",
              "      <td>1.0</td>\n",
              "      <td>Friendly</td>\n",
              "      <td>Tokyo</td>\n",
              "      <td>Japan</td>\n",
              "      <td>False</td>\n",
              "      <td>1553.44</td>\n",
              "      <td>1549.82</td>\n",
              "      <td>23.0</td>\n",
              "      <td>0.0</td>\n",
              "      <td>1832.69</td>\n",
              "      <td>1823.42</td>\n",
              "      <td>1.0</td>\n",
              "      <td>-1.0</td>\n",
              "    </tr>\n",
              "    <tr>\n",
              "      <th>3231</th>\n",
              "      <td>2022-09-23</td>\n",
              "      <td>Brazil</td>\n",
              "      <td>Ghana</td>\n",
              "      <td>3.0</td>\n",
              "      <td>0.0</td>\n",
              "      <td>Friendly</td>\n",
              "      <td>Le Havre</td>\n",
              "      <td>France</td>\n",
              "      <td>True</td>\n",
              "      <td>1837.56</td>\n",
              "      <td>1837.56</td>\n",
              "      <td>1.0</td>\n",
              "      <td>0.0</td>\n",
              "      <td>1393.47</td>\n",
              "      <td>1389.68</td>\n",
              "      <td>60.0</td>\n",
              "      <td>0.0</td>\n",
              "    </tr>\n",
              "    <tr>\n",
              "      <th>3300</th>\n",
              "      <td>2022-09-27</td>\n",
              "      <td>Brazil</td>\n",
              "      <td>Tunisia</td>\n",
              "      <td>5.0</td>\n",
              "      <td>1.0</td>\n",
              "      <td>Friendly</td>\n",
              "      <td>Paris</td>\n",
              "      <td>France</td>\n",
              "      <td>True</td>\n",
              "      <td>1837.56</td>\n",
              "      <td>1837.56</td>\n",
              "      <td>1.0</td>\n",
              "      <td>0.0</td>\n",
              "      <td>1507.86</td>\n",
              "      <td>1507.86</td>\n",
              "      <td>30.0</td>\n",
              "      <td>0.0</td>\n",
              "    </tr>\n",
              "  </tbody>\n",
              "</table>\n",
              "</div>\n",
              "      <button class=\"colab-df-convert\" onclick=\"convertToInteractive('df-091688e0-20b2-48af-ba25-a6399e2c6789')\"\n",
              "              title=\"Convert this dataframe to an interactive table.\"\n",
              "              style=\"display:none;\">\n",
              "        \n",
              "  <svg xmlns=\"http://www.w3.org/2000/svg\" height=\"24px\"viewBox=\"0 0 24 24\"\n",
              "       width=\"24px\">\n",
              "    <path d=\"M0 0h24v24H0V0z\" fill=\"none\"/>\n",
              "    <path d=\"M18.56 5.44l.94 2.06.94-2.06 2.06-.94-2.06-.94-.94-2.06-.94 2.06-2.06.94zm-11 1L8.5 8.5l.94-2.06 2.06-.94-2.06-.94L8.5 2.5l-.94 2.06-2.06.94zm10 10l.94 2.06.94-2.06 2.06-.94-2.06-.94-.94-2.06-.94 2.06-2.06.94z\"/><path d=\"M17.41 7.96l-1.37-1.37c-.4-.4-.92-.59-1.43-.59-.52 0-1.04.2-1.43.59L10.3 9.45l-7.72 7.72c-.78.78-.78 2.05 0 2.83L4 21.41c.39.39.9.59 1.41.59.51 0 1.02-.2 1.41-.59l7.78-7.78 2.81-2.81c.8-.78.8-2.07 0-2.86zM5.41 20L4 18.59l7.72-7.72 1.47 1.35L5.41 20z\"/>\n",
              "  </svg>\n",
              "      </button>\n",
              "      \n",
              "  <style>\n",
              "    .colab-df-container {\n",
              "      display:flex;\n",
              "      flex-wrap:wrap;\n",
              "      gap: 12px;\n",
              "    }\n",
              "\n",
              "    .colab-df-convert {\n",
              "      background-color: #E8F0FE;\n",
              "      border: none;\n",
              "      border-radius: 50%;\n",
              "      cursor: pointer;\n",
              "      display: none;\n",
              "      fill: #1967D2;\n",
              "      height: 32px;\n",
              "      padding: 0 0 0 0;\n",
              "      width: 32px;\n",
              "    }\n",
              "\n",
              "    .colab-df-convert:hover {\n",
              "      background-color: #E2EBFA;\n",
              "      box-shadow: 0px 1px 2px rgba(60, 64, 67, 0.3), 0px 1px 3px 1px rgba(60, 64, 67, 0.15);\n",
              "      fill: #174EA6;\n",
              "    }\n",
              "\n",
              "    [theme=dark] .colab-df-convert {\n",
              "      background-color: #3B4455;\n",
              "      fill: #D2E3FC;\n",
              "    }\n",
              "\n",
              "    [theme=dark] .colab-df-convert:hover {\n",
              "      background-color: #434B5C;\n",
              "      box-shadow: 0px 1px 3px 1px rgba(0, 0, 0, 0.15);\n",
              "      filter: drop-shadow(0px 1px 2px rgba(0, 0, 0, 0.3));\n",
              "      fill: #FFFFFF;\n",
              "    }\n",
              "  </style>\n",
              "\n",
              "      <script>\n",
              "        const buttonEl =\n",
              "          document.querySelector('#df-091688e0-20b2-48af-ba25-a6399e2c6789 button.colab-df-convert');\n",
              "        buttonEl.style.display =\n",
              "          google.colab.kernel.accessAllowed ? 'block' : 'none';\n",
              "\n",
              "        async function convertToInteractive(key) {\n",
              "          const element = document.querySelector('#df-091688e0-20b2-48af-ba25-a6399e2c6789');\n",
              "          const dataTable =\n",
              "            await google.colab.kernel.invokeFunction('convertToInteractive',\n",
              "                                                     [key], {});\n",
              "          if (!dataTable) return;\n",
              "\n",
              "          const docLinkHtml = 'Like what you see? Visit the ' +\n",
              "            '<a target=\"_blank\" href=https://colab.research.google.com/notebooks/data_table.ipynb>data table notebook</a>'\n",
              "            + ' to learn more about interactive tables.';\n",
              "          element.innerHTML = '';\n",
              "          dataTable['output_type'] = 'display_data';\n",
              "          await google.colab.output.renderOutput(dataTable, element);\n",
              "          const docLink = document.createElement('div');\n",
              "          docLink.innerHTML = docLinkHtml;\n",
              "          element.appendChild(docLink);\n",
              "        }\n",
              "      </script>\n",
              "    </div>\n",
              "  </div>\n",
              "  "
            ]
          },
          "metadata": {},
          "execution_count": 18
        }
      ]
    },
    {
      "cell_type": "markdown",
      "source": [
        "Now, we have the data ready to create features based on the games' results and FIFA rankings.\n",
        "\n",
        "# Features Engineering\n",
        "\n",
        "The idea here is to create possible features that have impact on predicting football games. By intuition, we say that features that impact could be:\n",
        "\n",
        "- Past game points made\n",
        "- Past goals scored and suffered\n",
        "- The importance of game (friendly or not)\n",
        "- Rank of the teams \n",
        "- Rank increasement of the teams\n",
        "- Goals made and suffered by ranking faced\n",
        "\n",
        "So, the first thing to do is create the feature that says which team won and how much points they made at game. "
      ],
      "metadata": {
        "id": "U_K-I2quwmQ2"
      }
    },
    {
      "cell_type": "code",
      "source": [
        "df = df_wc_ranked"
      ],
      "metadata": {
        "execution": {
          "iopub.status.busy": "2022-11-19T16:03:35.888019Z",
          "iopub.execute_input": "2022-11-19T16:03:35.888746Z",
          "iopub.status.idle": "2022-11-19T16:03:35.894255Z",
          "shell.execute_reply.started": "2022-11-19T16:03:35.888712Z",
          "shell.execute_reply": "2022-11-19T16:03:35.892886Z"
        },
        "trusted": true,
        "id": "jEaRwhofwmQ2"
      },
      "execution_count": 19,
      "outputs": []
    },
    {
      "cell_type": "code",
      "source": [
        "def result_finder(home, away):\n",
        "    if home > away:\n",
        "        return pd.Series([0, 3, 0])\n",
        "    if home < away:\n",
        "        return pd.Series([1, 0, 3])\n",
        "    else:\n",
        "        return pd.Series([2, 1, 1])\n",
        "\n",
        "results = df.apply(lambda x: result_finder(x[\"home_score\"], x[\"away_score\"]), axis=1)"
      ],
      "metadata": {
        "execution": {
          "iopub.status.busy": "2022-11-19T16:03:35.895765Z",
          "iopub.execute_input": "2022-11-19T16:03:35.896113Z",
          "iopub.status.idle": "2022-11-19T16:03:36.52543Z",
          "shell.execute_reply.started": "2022-11-19T16:03:35.896082Z",
          "shell.execute_reply": "2022-11-19T16:03:36.523931Z"
        },
        "trusted": true,
        "id": "IPeiSYYKwmQ3"
      },
      "execution_count": 20,
      "outputs": []
    },
    {
      "cell_type": "code",
      "source": [
        "df[[\"result\", \"home_team_points\", \"away_team_points\"]] = results"
      ],
      "metadata": {
        "execution": {
          "iopub.status.busy": "2022-11-19T16:03:36.527404Z",
          "iopub.execute_input": "2022-11-19T16:03:36.527901Z",
          "iopub.status.idle": "2022-11-19T16:03:36.535888Z",
          "shell.execute_reply.started": "2022-11-19T16:03:36.527847Z",
          "shell.execute_reply": "2022-11-19T16:03:36.53508Z"
        },
        "trusted": true,
        "id": "OViovLkswmQ3"
      },
      "execution_count": 21,
      "outputs": []
    },
    {
      "cell_type": "markdown",
      "source": [
        "The game points are 3 for win, 1 for draw and 0 for lose and are different than the FIFA rank points that are already in the database. Also, it's supposed that FIFA Rank points and FIFA Ranking of the same team are negative correlated, and we should use only one of them to create new features. This supposition is checked below:"
      ],
      "metadata": {
        "id": "kNin8WqqwmQ3"
      }
    },
    {
      "cell_type": "code",
      "source": [
        "import seaborn as sns\n",
        "import matplotlib.pyplot as plt\n",
        "\n",
        "plt.figure(figsize=(15, 10))\n",
        "sns.heatmap(df[[\"total_points_home\", \"rank_home\", \"total_points_away\", \"rank_away\"]].corr())\n",
        "plt.show()"
      ],
      "metadata": {
        "execution": {
          "iopub.status.busy": "2022-11-19T16:03:36.537495Z",
          "iopub.execute_input": "2022-11-19T16:03:36.537785Z",
          "iopub.status.idle": "2022-11-19T16:03:36.843409Z",
          "shell.execute_reply.started": "2022-11-19T16:03:36.537758Z",
          "shell.execute_reply": "2022-11-19T16:03:36.842239Z"
        },
        "trusted": true,
        "colab": {
          "base_uri": "https://localhost:8080/",
          "height": 596
        },
        "id": "RJcghmh9wmQ3",
        "outputId": "de994c3a-65a6-4c6b-9c24-3cd0cd28704d"
      },
      "execution_count": 22,
      "outputs": [
        {
          "output_type": "display_data",
          "data": {
            "text/plain": [
              "<Figure size 1080x720 with 2 Axes>"
            ],
            "image/png": "[encoded data removed]"
          },
          "metadata": {
            "needs_background": "light"
          }
        }
      ]
    },
    {
      "cell_type": "markdown",
      "source": [
        "Now, we create columns that will help in the creation of the features: ranking difference, points won at the game vs. team faced rank, and goals difference in the game. All features that are not differences should be created for the two teams (away and home)."
      ],
      "metadata": {
        "id": "J9AwN3wswmQ3"
      }
    },
    {
      "cell_type": "code",
      "source": [
        "df[\"rank_dif\"] = df[\"rank_home\"] - df[\"rank_away\"]\n",
        "df[\"sg\"] = df[\"home_score\"] - df[\"away_score\"]\n",
        "df[\"points_home_by_rank\"] = df[\"home_team_points\"]/df[\"rank_away\"]\n",
        "df[\"points_away_by_rank\"] = df[\"away_team_points\"]/df[\"rank_home\"]"
      ],
      "metadata": {
        "execution": {
          "iopub.status.busy": "2022-11-19T16:03:36.84545Z",
          "iopub.execute_input": "2022-11-19T16:03:36.846279Z",
          "iopub.status.idle": "2022-11-19T16:03:36.85671Z",
          "shell.execute_reply.started": "2022-11-19T16:03:36.846216Z",
          "shell.execute_reply": "2022-11-19T16:03:36.855655Z"
        },
        "trusted": true,
        "id": "FgCNf6WFwmQ3"
      },
      "execution_count": 23,
      "outputs": []
    },
    {
      "cell_type": "markdown",
      "source": [
        "In order to create the features, I'll separate the dataset in home team's and away team's dataset, unify them and calculate the past game values. After that, I'll separate again and merge them, retrieving the original dataset. This proccess optimizes the creation of the features."
      ],
      "metadata": {
        "id": "BST-wWQbwmQ3"
      }
    },
    {
      "cell_type": "code",
      "source": [
        "home_team = df[[\"date\", \"home_team\", \"home_score\", \"away_score\", \"rank_home\", \"rank_away\",\"rank_change_home\", \"total_points_home\", \"result\", \"rank_dif\", \"points_home_by_rank\", \"home_team_points\"]]\n",
        "\n",
        "away_team = df[[\"date\", \"away_team\", \"away_score\", \"home_score\", \"rank_away\", \"rank_home\",\"rank_change_away\", \"total_points_away\", \"result\", \"rank_dif\", \"points_away_by_rank\", \"away_team_points\"]]"
      ],
      "metadata": {
        "execution": {
          "iopub.status.busy": "2022-11-19T16:03:36.858224Z",
          "iopub.execute_input": "2022-11-19T16:03:36.858807Z",
          "iopub.status.idle": "2022-11-19T16:03:36.868856Z",
          "shell.execute_reply.started": "2022-11-19T16:03:36.858774Z",
          "shell.execute_reply": "2022-11-19T16:03:36.86808Z"
        },
        "trusted": true,
        "id": "IZpZl1iDwmQ3"
      },
      "execution_count": 24,
      "outputs": []
    },
    {
      "cell_type": "code",
      "source": [
        "home_team.columns = [h.replace(\"home_\", \"\").replace(\"_home\", \"\").replace(\"away_\", \"suf_\").replace(\"_away\", \"_suf\") for h in home_team.columns]\n",
        "\n",
        "away_team.columns = [a.replace(\"away_\", \"\").replace(\"_away\", \"\").replace(\"home_\", \"suf_\").replace(\"_home\", \"_suf\") for a in away_team.columns]"
      ],
      "metadata": {
        "execution": {
          "iopub.status.busy": "2022-11-19T16:03:36.870019Z",
          "iopub.execute_input": "2022-11-19T16:03:36.870553Z",
          "iopub.status.idle": "2022-11-19T16:03:36.87801Z",
          "shell.execute_reply.started": "2022-11-19T16:03:36.87052Z",
          "shell.execute_reply": "2022-11-19T16:03:36.876911Z"
        },
        "trusted": true,
        "id": "czEaJnKMwmQ4"
      },
      "execution_count": 25,
      "outputs": []
    },
    {
      "cell_type": "code",
      "source": [
        "team_stats = home_team.append(away_team)#.sort_values(\"date\")"
      ],
      "metadata": {
        "execution": {
          "iopub.status.busy": "2022-11-19T16:03:36.882625Z",
          "iopub.execute_input": "2022-11-19T16:03:36.882958Z",
          "iopub.status.idle": "2022-11-19T16:03:36.89592Z",
          "shell.execute_reply.started": "2022-11-19T16:03:36.88293Z",
          "shell.execute_reply": "2022-11-19T16:03:36.894985Z"
        },
        "trusted": true,
        "id": "5RugKTnfwmQ4"
      },
      "execution_count": 26,
      "outputs": []
    },
    {
      "cell_type": "code",
      "source": [
        "#this column will be used to calculate features for simulation\n",
        "team_stats_raw = team_stats.copy()"
      ],
      "metadata": {
        "execution": {
          "iopub.status.busy": "2022-11-19T16:03:36.897282Z",
          "iopub.execute_input": "2022-11-19T16:03:36.897602Z",
          "iopub.status.idle": "2022-11-19T16:03:36.908703Z",
          "shell.execute_reply.started": "2022-11-19T16:03:36.897575Z",
          "shell.execute_reply": "2022-11-19T16:03:36.90745Z"
        },
        "trusted": true,
        "id": "W_fXwdIUwmQ4"
      },
      "execution_count": 27,
      "outputs": []
    },
    {
      "cell_type": "markdown",
      "source": [
        "Now, we have a database ready to create predictive features. They will be:\n",
        "\n",
        "- Mean goals of the team in World Cup Cycle.\n",
        "- Mean goals of the team in last 5 games.\n",
        "- Mean goals suffered of the team in World Cup Cycle.\n",
        "- Mean goals suffered of the team in last 5 games.\n",
        "- Mean FIFA Rank that team faced in World Cup Cycle.\n",
        "- Mean FIFA Rank that team faced in last 5 games.\n",
        "- FIFA Points won at the cycle.\n",
        "- FIFA Points won in last 5 games.\n",
        "- Mean game points at the Cycle.\n",
        "- Mean game points at last 5 games.\n",
        "- Mean game points by rank faced at the Cycle.\n",
        "- Mean game points by rank faced at last 5 games."
      ],
      "metadata": {
        "id": "2z0L72g_wmQ4"
      }
    },
    {
      "cell_type": "code",
      "source": [
        "stats_val = []\n",
        "\n",
        "for index, row in team_stats.iterrows():\n",
        "    team = row[\"team\"]\n",
        "    date = row[\"date\"]\n",
        "    past_games = team_stats.loc[(team_stats[\"team\"] == team) & (team_stats[\"date\"] < date)].sort_values(by=['date'], ascending=False)\n",
        "    last5 = past_games.head(5)\n",
        "    \n",
        "    goals = past_games[\"score\"].mean()\n",
        "    goals_l5 = last5[\"score\"].mean()\n",
        "    \n",
        "    goals_suf = past_games[\"suf_score\"].mean()\n",
        "    goals_suf_l5 = last5[\"suf_score\"].mean()\n",
        "    \n",
        "    rank = past_games[\"rank_suf\"].mean()\n",
        "    rank_l5 = last5[\"rank_suf\"].mean()\n",
        "    \n",
        "    if len(last5) > 0:\n",
        "        points = past_games[\"total_points\"].values[0] - past_games[\"total_points\"].values[-1]#qtd de pontos ganhos\n",
        "        points_l5 = last5[\"total_points\"].values[0] - last5[\"total_points\"].values[-1] \n",
        "    else:\n",
        "        points = 0\n",
        "        points_l5 = 0\n",
        "        \n",
        "    gp = past_games[\"team_points\"].mean()\n",
        "    gp_l5 = last5[\"team_points\"].mean()\n",
        "    \n",
        "    gp_rank = past_games[\"points_by_rank\"].mean()\n",
        "    gp_rank_l5 = last5[\"points_by_rank\"].mean()\n",
        "    \n",
        "    stats_val.append([goals, goals_l5, goals_suf, goals_suf_l5, rank, rank_l5, points, points_l5, gp, gp_l5, gp_rank, gp_rank_l5])"
      ],
      "metadata": {
        "execution": {
          "iopub.status.busy": "2022-11-19T16:03:36.910217Z",
          "iopub.execute_input": "2022-11-19T16:03:36.910603Z",
          "iopub.status.idle": "2022-11-19T16:03:59.457419Z",
          "shell.execute_reply.started": "2022-11-19T16:03:36.910571Z",
          "shell.execute_reply": "2022-11-19T16:03:59.456223Z"
        },
        "trusted": true,
        "id": "saySQJIcwmQ4"
      },
      "execution_count": 28,
      "outputs": []
    },
    {
      "cell_type": "code",
      "source": [
        "stats_cols = [\"goals_mean\", \"goals_mean_l5\", \"goals_suf_mean\", \"goals_suf_mean_l5\", \"rank_mean\", \"rank_mean_l5\", \"points_mean\", \"points_mean_l5\", \"game_points_mean\", \"game_points_mean_l5\", \"game_points_rank_mean\", \"game_points_rank_mean_l5\"]\n",
        "\n",
        "stats_df = pd.DataFrame(stats_val, columns=stats_cols)\n",
        "\n",
        "full_df = pd.concat([team_stats.reset_index(drop=True), stats_df], axis=1, ignore_index=False)"
      ],
      "metadata": {
        "execution": {
          "iopub.status.busy": "2022-11-19T16:03:59.458813Z",
          "iopub.execute_input": "2022-11-19T16:03:59.459159Z",
          "iopub.status.idle": "2022-11-19T16:03:59.485538Z",
          "shell.execute_reply.started": "2022-11-19T16:03:59.459127Z",
          "shell.execute_reply": "2022-11-19T16:03:59.484619Z"
        },
        "trusted": true,
        "id": "WEYPeVT_wmQ4"
      },
      "execution_count": 29,
      "outputs": []
    },
    {
      "cell_type": "code",
      "source": [
        "home_team_stats = full_df.iloc[:int(full_df.shape[0]/2),:]\n",
        "away_team_stats = full_df.iloc[int(full_df.shape[0]/2):,:]"
      ],
      "metadata": {
        "execution": {
          "iopub.status.busy": "2022-11-19T16:03:59.487039Z",
          "iopub.execute_input": "2022-11-19T16:03:59.48751Z",
          "iopub.status.idle": "2022-11-19T16:03:59.494965Z",
          "shell.execute_reply.started": "2022-11-19T16:03:59.487464Z",
          "shell.execute_reply": "2022-11-19T16:03:59.493676Z"
        },
        "trusted": true,
        "id": "VPM1N7TzwmQ4"
      },
      "execution_count": 30,
      "outputs": []
    },
    {
      "cell_type": "markdown",
      "source": [
        "The new columns:"
      ],
      "metadata": {
        "id": "fwlPJmfPwmQ5"
      }
    },
    {
      "cell_type": "code",
      "source": [
        "home_team_stats.columns[-12:]"
      ],
      "metadata": {
        "execution": {
          "iopub.status.busy": "2022-11-19T16:03:59.496778Z",
          "iopub.execute_input": "2022-11-19T16:03:59.497154Z",
          "iopub.status.idle": "2022-11-19T16:03:59.514509Z",
          "shell.execute_reply.started": "2022-11-19T16:03:59.49712Z",
          "shell.execute_reply": "2022-11-19T16:03:59.513289Z"
        },
        "trusted": true,
        "colab": {
          "base_uri": "https://localhost:8080/"
        },
        "id": "iXB2iDq-wmQ5",
        "outputId": "b0bc0f39-e45d-4c58-ddf1-b28b01bcdabc"
      },
      "execution_count": 31,
      "outputs": [
        {
          "output_type": "execute_result",
          "data": {
            "text/plain": [
              "Index(['goals_mean', 'goals_mean_l5', 'goals_suf_mean', 'goals_suf_mean_l5',\n",
              "       'rank_mean', 'rank_mean_l5', 'points_mean', 'points_mean_l5',\n",
              "       'game_points_mean', 'game_points_mean_l5', 'game_points_rank_mean',\n",
              "       'game_points_rank_mean_l5'],\n",
              "      dtype='object')"
            ]
          },
          "metadata": {},
          "execution_count": 31
        }
      ]
    },
    {
      "cell_type": "code",
      "source": [
        "home_team_stats = home_team_stats[home_team_stats.columns[-12:]]\n",
        "away_team_stats = away_team_stats[away_team_stats.columns[-12:]]"
      ],
      "metadata": {
        "execution": {
          "iopub.status.busy": "2022-11-19T16:03:59.516147Z",
          "iopub.execute_input": "2022-11-19T16:03:59.51654Z",
          "iopub.status.idle": "2022-11-19T16:03:59.529746Z",
          "shell.execute_reply.started": "2022-11-19T16:03:59.516498Z",
          "shell.execute_reply": "2022-11-19T16:03:59.528315Z"
        },
        "trusted": true,
        "id": "JAT0ik6fwmQ5"
      },
      "execution_count": 32,
      "outputs": []
    },
    {
      "cell_type": "code",
      "source": [
        "home_team_stats.columns = ['home_'+str(col) for col in home_team_stats.columns]\n",
        "away_team_stats.columns = ['away_'+str(col) for col in away_team_stats.columns]"
      ],
      "metadata": {
        "execution": {
          "iopub.status.busy": "2022-11-19T16:03:59.531446Z",
          "iopub.execute_input": "2022-11-19T16:03:59.531844Z",
          "iopub.status.idle": "2022-11-19T16:03:59.541274Z",
          "shell.execute_reply.started": "2022-11-19T16:03:59.531792Z",
          "shell.execute_reply": "2022-11-19T16:03:59.539842Z"
        },
        "trusted": true,
        "id": "XSYLa8wBwmQ5"
      },
      "execution_count": 33,
      "outputs": []
    },
    {
      "cell_type": "markdown",
      "source": [
        "In order to unify the database, is needed to add home_ and away_ suffix for each column. After that, the data is ready to be merged."
      ],
      "metadata": {
        "id": "jsYADMyRwmQ5"
      }
    },
    {
      "cell_type": "code",
      "source": [
        "match_stats = pd.concat([home_team_stats, away_team_stats.reset_index(drop=True)], axis=1, ignore_index=False)"
      ],
      "metadata": {
        "execution": {
          "iopub.status.busy": "2022-11-19T16:03:59.542725Z",
          "iopub.execute_input": "2022-11-19T16:03:59.543464Z",
          "iopub.status.idle": "2022-11-19T16:03:59.555939Z",
          "shell.execute_reply.started": "2022-11-19T16:03:59.543429Z",
          "shell.execute_reply": "2022-11-19T16:03:59.554636Z"
        },
        "trusted": true,
        "id": "Mpzc8b5SwmQ5"
      },
      "execution_count": 34,
      "outputs": []
    },
    {
      "cell_type": "code",
      "source": [
        "full_df = pd.concat([df, match_stats.reset_index(drop=True)], axis=1, ignore_index=False)"
      ],
      "metadata": {
        "execution": {
          "iopub.status.busy": "2022-11-19T16:03:59.557208Z",
          "iopub.execute_input": "2022-11-19T16:03:59.557548Z",
          "iopub.status.idle": "2022-11-19T16:03:59.571197Z",
          "shell.execute_reply.started": "2022-11-19T16:03:59.557518Z",
          "shell.execute_reply": "2022-11-19T16:03:59.570002Z"
        },
        "trusted": true,
        "id": "Jecpu3xSwmQ5"
      },
      "execution_count": 35,
      "outputs": []
    },
    {
      "cell_type": "code",
      "source": [
        "full_df.columns"
      ],
      "metadata": {
        "execution": {
          "iopub.status.busy": "2022-11-19T16:03:59.572883Z",
          "iopub.execute_input": "2022-11-19T16:03:59.573265Z",
          "iopub.status.idle": "2022-11-19T16:03:59.584127Z",
          "shell.execute_reply.started": "2022-11-19T16:03:59.573211Z",
          "shell.execute_reply": "2022-11-19T16:03:59.583325Z"
        },
        "trusted": true,
        "colab": {
          "base_uri": "https://localhost:8080/"
        },
        "id": "_ZClfg-wwmQ6",
        "outputId": "9f5e8bda-58c8-4b44-cadc-790719cb7a23"
      },
      "execution_count": 36,
      "outputs": [
        {
          "output_type": "execute_result",
          "data": {
            "text/plain": [
              "Index(['date', 'home_team', 'away_team', 'home_score', 'away_score',\n",
              "       'tournament', 'city', 'country', 'neutral', 'total_points_home',\n",
              "       'previous_points_home', 'rank_home', 'rank_change_home',\n",
              "       'total_points_away', 'previous_points_away', 'rank_away',\n",
              "       'rank_change_away', 'result', 'home_team_points', 'away_team_points',\n",
              "       'rank_dif', 'sg', 'points_home_by_rank', 'points_away_by_rank',\n",
              "       'home_goals_mean', 'home_goals_mean_l5', 'home_goals_suf_mean',\n",
              "       'home_goals_suf_mean_l5', 'home_rank_mean', 'home_rank_mean_l5',\n",
              "       'home_points_mean', 'home_points_mean_l5', 'home_game_points_mean',\n",
              "       'home_game_points_mean_l5', 'home_game_points_rank_mean',\n",
              "       'home_game_points_rank_mean_l5', 'away_goals_mean',\n",
              "       'away_goals_mean_l5', 'away_goals_suf_mean', 'away_goals_suf_mean_l5',\n",
              "       'away_rank_mean', 'away_rank_mean_l5', 'away_points_mean',\n",
              "       'away_points_mean_l5', 'away_game_points_mean',\n",
              "       'away_game_points_mean_l5', 'away_game_points_rank_mean',\n",
              "       'away_game_points_rank_mean_l5'],\n",
              "      dtype='object')"
            ]
          },
          "metadata": {},
          "execution_count": 36
        }
      ]
    },
    {
      "cell_type": "markdown",
      "source": [
        "Now, to quantify game importance, is created a column that finds competition of the game."
      ],
      "metadata": {
        "id": "1rEVf9H_wmQ6"
      }
    },
    {
      "cell_type": "code",
      "source": [
        "def find_friendly(x):\n",
        "    if x == \"Friendly\":\n",
        "        return 1\n",
        "    else: return 0\n",
        "\n",
        "full_df[\"is_friendly\"] = full_df[\"tournament\"].apply(lambda x: find_friendly(x)) "
      ],
      "metadata": {
        "execution": {
          "iopub.status.busy": "2022-11-19T16:03:59.585423Z",
          "iopub.execute_input": "2022-11-19T16:03:59.585904Z",
          "iopub.status.idle": "2022-11-19T16:03:59.597599Z",
          "shell.execute_reply.started": "2022-11-19T16:03:59.585871Z",
          "shell.execute_reply": "2022-11-19T16:03:59.596301Z"
        },
        "trusted": true,
        "id": "XWDzkICxwmQ6"
      },
      "execution_count": 37,
      "outputs": []
    },
    {
      "cell_type": "code",
      "source": [
        "full_df = pd.get_dummies(full_df, columns=[\"is_friendly\"])"
      ],
      "metadata": {
        "execution": {
          "iopub.status.busy": "2022-11-19T16:03:59.599091Z",
          "iopub.execute_input": "2022-11-19T16:03:59.599521Z",
          "iopub.status.idle": "2022-11-19T16:03:59.620954Z",
          "shell.execute_reply.started": "2022-11-19T16:03:59.599486Z",
          "shell.execute_reply": "2022-11-19T16:03:59.619692Z"
        },
        "trusted": true,
        "id": "YGArixSewmQ6"
      },
      "execution_count": 38,
      "outputs": []
    },
    {
      "cell_type": "code",
      "source": [
        "full_df.columns"
      ],
      "metadata": {
        "execution": {
          "iopub.status.busy": "2022-11-19T16:03:59.622532Z",
          "iopub.execute_input": "2022-11-19T16:03:59.622889Z",
          "iopub.status.idle": "2022-11-19T16:03:59.6316Z",
          "shell.execute_reply.started": "2022-11-19T16:03:59.622855Z",
          "shell.execute_reply": "2022-11-19T16:03:59.630307Z"
        },
        "trusted": true,
        "colab": {
          "base_uri": "https://localhost:8080/"
        },
        "id": "WP3XjZBCwmQ6",
        "outputId": "810908b2-5b0b-4e81-c853-94f45bced90b"
      },
      "execution_count": 39,
      "outputs": [
        {
          "output_type": "execute_result",
          "data": {
            "text/plain": [
              "Index(['date', 'home_team', 'away_team', 'home_score', 'away_score',\n",
              "       'tournament', 'city', 'country', 'neutral', 'total_points_home',\n",
              "       'previous_points_home', 'rank_home', 'rank_change_home',\n",
              "       'total_points_away', 'previous_points_away', 'rank_away',\n",
              "       'rank_change_away', 'result', 'home_team_points', 'away_team_points',\n",
              "       'rank_dif', 'sg', 'points_home_by_rank', 'points_away_by_rank',\n",
              "       'home_goals_mean', 'home_goals_mean_l5', 'home_goals_suf_mean',\n",
              "       'home_goals_suf_mean_l5', 'home_rank_mean', 'home_rank_mean_l5',\n",
              "       'home_points_mean', 'home_points_mean_l5', 'home_game_points_mean',\n",
              "       'home_game_points_mean_l5', 'home_game_points_rank_mean',\n",
              "       'home_game_points_rank_mean_l5', 'away_goals_mean',\n",
              "       'away_goals_mean_l5', 'away_goals_suf_mean', 'away_goals_suf_mean_l5',\n",
              "       'away_rank_mean', 'away_rank_mean_l5', 'away_points_mean',\n",
              "       'away_points_mean_l5', 'away_game_points_mean',\n",
              "       'away_game_points_mean_l5', 'away_game_points_rank_mean',\n",
              "       'away_game_points_rank_mean_l5', 'is_friendly_0', 'is_friendly_1'],\n",
              "      dtype='object')"
            ]
          },
          "metadata": {},
          "execution_count": 39
        }
      ]
    },
    {
      "cell_type": "markdown",
      "source": [
        "And, after that, we select only columns that will help in Features' analysis."
      ],
      "metadata": {
        "id": "5IHA--bjwmQ6"
      }
    },
    {
      "cell_type": "code",
      "source": [
        "base_df = full_df[[\"date\", \"home_team\", \"away_team\", \"rank_home\", \"rank_away\",\"home_score\", \"away_score\",\"result\", \"rank_dif\", \"rank_change_home\", \"rank_change_away\", 'home_goals_mean',\n",
        "       'home_goals_mean_l5', 'home_goals_suf_mean', 'home_goals_suf_mean_l5',\n",
        "       'home_rank_mean', 'home_rank_mean_l5', 'home_points_mean',\n",
        "       'home_points_mean_l5', 'away_goals_mean', 'away_goals_mean_l5',\n",
        "       'away_goals_suf_mean', 'away_goals_suf_mean_l5', 'away_rank_mean',\n",
        "       'away_rank_mean_l5', 'away_points_mean', 'away_points_mean_l5','home_game_points_mean', 'home_game_points_mean_l5',\n",
        "       'home_game_points_rank_mean', 'home_game_points_rank_mean_l5','away_game_points_mean',\n",
        "       'away_game_points_mean_l5', 'away_game_points_rank_mean',\n",
        "       'away_game_points_rank_mean_l5',\n",
        "       'is_friendly_0', 'is_friendly_1']]\n",
        "\n",
        "base_df.tail()"
      ],
      "metadata": {
        "execution": {
          "iopub.status.busy": "2022-11-19T16:03:59.633061Z",
          "iopub.execute_input": "2022-11-19T16:03:59.63344Z",
          "iopub.status.idle": "2022-11-19T16:03:59.674294Z",
          "shell.execute_reply.started": "2022-11-19T16:03:59.633408Z",
          "shell.execute_reply": "2022-11-19T16:03:59.672919Z"
        },
        "trusted": true,
        "colab": {
          "base_uri": "https://localhost:8080/",
          "height": 386
        },
        "id": "Y_eAufk_wmQ6",
        "outputId": "dfa42f69-a393-48b0-b180-686fa81c0721"
      },
      "execution_count": 40,
      "outputs": [
        {
          "output_type": "execute_result",
          "data": {
            "text/plain": [
              "           date home_team         away_team  rank_home  rank_away  home_score  \\\n",
              "3331 2022-09-27    Norway            Serbia       36.0       25.0         0.0   \n",
              "3332 2022-09-27    Sweden          Slovenia       20.0       65.0         1.0   \n",
              "3333 2022-09-27    Kosovo            Cyprus      106.0      108.0         5.0   \n",
              "3334 2022-09-27    Greece  Northern Ireland       49.0       58.0         3.0   \n",
              "3335 2022-09-30      Fiji   Solomon Islands      163.0      137.0         1.0   \n",
              "\n",
              "      away_score  result  rank_dif  rank_change_home  ...  \\\n",
              "3331         2.0       1      11.0               0.0  ...   \n",
              "3332         1.0       2     -45.0               0.0  ...   \n",
              "3333         1.0       0      -2.0               0.0  ...   \n",
              "3334         1.0       0      -9.0               1.0  ...   \n",
              "3335         0.0       0      26.0               0.0  ...   \n",
              "\n",
              "      home_game_points_mean  home_game_points_mean_l5  \\\n",
              "3331               1.833333                       2.0   \n",
              "3332               1.607843                       0.6   \n",
              "3333               1.326087                       1.2   \n",
              "3334               1.590909                       2.4   \n",
              "3335               1.500000                       1.4   \n",
              "\n",
              "      home_game_points_rank_mean  home_game_points_rank_mean_l5  \\\n",
              "3331                    0.041984                       0.090235   \n",
              "3332                    0.048520                       0.009231   \n",
              "3333                    0.018478                       0.016825   \n",
              "3334                    0.050090                       0.028040   \n",
              "3335                    0.009432                       0.008868   \n",
              "\n",
              "      away_game_points_mean  away_game_points_mean_l5  \\\n",
              "3331               1.866667                       2.0   \n",
              "3332               1.404762                       1.0   \n",
              "3333               0.767442                       1.0   \n",
              "3334               1.139535                       1.0   \n",
              "3335               1.714286                       2.0   \n",
              "\n",
              "      away_game_points_rank_mean  away_game_points_rank_mean_l5  \\\n",
              "3331                    0.053327                       0.073887   \n",
              "3332                    0.026035                       0.029545   \n",
              "3333                    0.009687                       0.019652   \n",
              "3334                    0.022315                       0.009470   \n",
              "3335                    0.010013                       0.012387   \n",
              "\n",
              "      is_friendly_0  is_friendly_1  \n",
              "3331              1              0  \n",
              "3332              1              0  \n",
              "3333              1              0  \n",
              "3334              1              0  \n",
              "3335              1              0  \n",
              "\n",
              "[5 rows x 37 columns]"
            ],
            "text/html": [
              "\n",
              "  <div id=\"df-74e99980-8ba6-472a-84e6-0773c350f200\">\n",
              "    <div class=\"colab-df-container\">\n",
              "      <div>\n",
              "<style scoped>\n",
              "    .dataframe tbody tr th:only-of-type {\n",
              "        vertical-align: middle;\n",
              "    }\n",
              "\n",
              "    .dataframe tbody tr th {\n",
              "        vertical-align: top;\n",
              "    }\n",
              "\n",
              "    .dataframe thead th {\n",
              "        text-align: right;\n",
              "    }\n",
              "</style>\n",
              "<table border=\"1\" class=\"dataframe\">\n",
              "  <thead>\n",
              "    <tr style=\"text-align: right;\">\n",
              "      <th></th>\n",
              "      <th>date</th>\n",
              "      <th>home_team</th>\n",
              "      <th>away_team</th>\n",
              "      <th>rank_home</th>\n",
              "      <th>rank_away</th>\n",
              "      <th>home_score</th>\n",
              "      <th>away_score</th>\n",
              "      <th>result</th>\n",
              "      <th>rank_dif</th>\n",
              "      <th>rank_change_home</th>\n",
              "      <th>...</th>\n",
              "      <th>home_game_points_mean</th>\n",
              "      <th>home_game_points_mean_l5</th>\n",
              "      <th>home_game_points_rank_mean</th>\n",
              "      <th>home_game_points_rank_mean_l5</th>\n",
              "      <th>away_game_points_mean</th>\n",
              "      <th>away_game_points_mean_l5</th>\n",
              "      <th>away_game_points_rank_mean</th>\n",
              "      <th>away_game_points_rank_mean_l5</th>\n",
              "      <th>is_friendly_0</th>\n",
              "      <th>is_friendly_1</th>\n",
              "    </tr>\n",
              "  </thead>\n",
              "  <tbody>\n",
              "    <tr>\n",
              "      <th>3331</th>\n",
              "      <td>2022-09-27</td>\n",
              "      <td>Norway</td>\n",
              "      <td>Serbia</td>\n",
              "      <td>36.0</td>\n",
              "      <td>25.0</td>\n",
              "      <td>0.0</td>\n",
              "      <td>2.0</td>\n",
              "      <td>1</td>\n",
              "      <td>11.0</td>\n",
              "      <td>0.0</td>\n",
              "      <td>...</td>\n",
              "      <td>1.833333</td>\n",
              "      <td>2.0</td>\n",
              "      <td>0.041984</td>\n",
              "      <td>0.090235</td>\n",
              "      <td>1.866667</td>\n",
              "      <td>2.0</td>\n",
              "      <td>0.053327</td>\n",
              "      <td>0.073887</td>\n",
              "      <td>1</td>\n",
              "      <td>0</td>\n",
              "    </tr>\n",
              "    <tr>\n",
              "      <th>3332</th>\n",
              "      <td>2022-09-27</td>\n",
              "      <td>Sweden</td>\n",
              "      <td>Slovenia</td>\n",
              "      <td>20.0</td>\n",
              "      <td>65.0</td>\n",
              "      <td>1.0</td>\n",
              "      <td>1.0</td>\n",
              "      <td>2</td>\n",
              "      <td>-45.0</td>\n",
              "      <td>0.0</td>\n",
              "      <td>...</td>\n",
              "      <td>1.607843</td>\n",
              "      <td>0.6</td>\n",
              "      <td>0.048520</td>\n",
              "      <td>0.009231</td>\n",
              "      <td>1.404762</td>\n",
              "      <td>1.0</td>\n",
              "      <td>0.026035</td>\n",
              "      <td>0.029545</td>\n",
              "      <td>1</td>\n",
              "      <td>0</td>\n",
              "    </tr>\n",
              "    <tr>\n",
              "      <th>3333</th>\n",
              "      <td>2022-09-27</td>\n",
              "      <td>Kosovo</td>\n",
              "      <td>Cyprus</td>\n",
              "      <td>106.0</td>\n",
              "      <td>108.0</td>\n",
              "      <td>5.0</td>\n",
              "      <td>1.0</td>\n",
              "      <td>0</td>\n",
              "      <td>-2.0</td>\n",
              "      <td>0.0</td>\n",
              "      <td>...</td>\n",
              "      <td>1.326087</td>\n",
              "      <td>1.2</td>\n",
              "      <td>0.018478</td>\n",
              "      <td>0.016825</td>\n",
              "      <td>0.767442</td>\n",
              "      <td>1.0</td>\n",
              "      <td>0.009687</td>\n",
              "      <td>0.019652</td>\n",
              "      <td>1</td>\n",
              "      <td>0</td>\n",
              "    </tr>\n",
              "    <tr>\n",
              "      <th>3334</th>\n",
              "      <td>2022-09-27</td>\n",
              "      <td>Greece</td>\n",
              "      <td>Northern Ireland</td>\n",
              "      <td>49.0</td>\n",
              "      <td>58.0</td>\n",
              "      <td>3.0</td>\n",
              "      <td>1.0</td>\n",
              "      <td>0</td>\n",
              "      <td>-9.0</td>\n",
              "      <td>1.0</td>\n",
              "      <td>...</td>\n",
              "      <td>1.590909</td>\n",
              "      <td>2.4</td>\n",
              "      <td>0.050090</td>\n",
              "      <td>0.028040</td>\n",
              "      <td>1.139535</td>\n",
              "      <td>1.0</td>\n",
              "      <td>0.022315</td>\n",
              "      <td>0.009470</td>\n",
              "      <td>1</td>\n",
              "      <td>0</td>\n",
              "    </tr>\n",
              "    <tr>\n",
              "      <th>3335</th>\n",
              "      <td>2022-09-30</td>\n",
              "      <td>Fiji</td>\n",
              "      <td>Solomon Islands</td>\n",
              "      <td>163.0</td>\n",
              "      <td>137.0</td>\n",
              "      <td>1.0</td>\n",
              "      <td>0.0</td>\n",
              "      <td>0</td>\n",
              "      <td>26.0</td>\n",
              "      <td>0.0</td>\n",
              "      <td>...</td>\n",
              "      <td>1.500000</td>\n",
              "      <td>1.4</td>\n",
              "      <td>0.009432</td>\n",
              "      <td>0.008868</td>\n",
              "      <td>1.714286</td>\n",
              "      <td>2.0</td>\n",
              "      <td>0.010013</td>\n",
              "      <td>0.012387</td>\n",
              "      <td>1</td>\n",
              "      <td>0</td>\n",
              "    </tr>\n",
              "  </tbody>\n",
              "</table>\n",
              "<p>5 rows × 37 columns</p>\n",
              "</div>\n",
              "      <button class=\"colab-df-convert\" onclick=\"convertToInteractive('df-74e99980-8ba6-472a-84e6-0773c350f200')\"\n",
              "              title=\"Convert this dataframe to an interactive table.\"\n",
              "              style=\"display:none;\">\n",
              "        \n",
              "  <svg xmlns=\"http://www.w3.org/2000/svg\" height=\"24px\"viewBox=\"0 0 24 24\"\n",
              "       width=\"24px\">\n",
              "    <path d=\"M0 0h24v24H0V0z\" fill=\"none\"/>\n",
              "    <path d=\"M18.56 5.44l.94 2.06.94-2.06 2.06-.94-2.06-.94-.94-2.06-.94 2.06-2.06.94zm-11 1L8.5 8.5l.94-2.06 2.06-.94-2.06-.94L8.5 2.5l-.94 2.06-2.06.94zm10 10l.94 2.06.94-2.06 2.06-.94-2.06-.94-.94-2.06-.94 2.06-2.06.94z\"/><path d=\"M17.41 7.96l-1.37-1.37c-.4-.4-.92-.59-1.43-.59-.52 0-1.04.2-1.43.59L10.3 9.45l-7.72 7.72c-.78.78-.78 2.05 0 2.83L4 21.41c.39.39.9.59 1.41.59.51 0 1.02-.2 1.41-.59l7.78-7.78 2.81-2.81c.8-.78.8-2.07 0-2.86zM5.41 20L4 18.59l7.72-7.72 1.47 1.35L5.41 20z\"/>\n",
              "  </svg>\n",
              "      </button>\n",
              "      \n",
              "  <style>\n",
              "    .colab-df-container {\n",
              "      display:flex;\n",
              "      flex-wrap:wrap;\n",
              "      gap: 12px;\n",
              "    }\n",
              "\n",
              "    .colab-df-convert {\n",
              "      background-color: #E8F0FE;\n",
              "      border: none;\n",
              "      border-radius: 50%;\n",
              "      cursor: pointer;\n",
              "      display: none;\n",
              "      fill: #1967D2;\n",
              "      height: 32px;\n",
              "      padding: 0 0 0 0;\n",
              "      width: 32px;\n",
              "    }\n",
              "\n",
              "    .colab-df-convert:hover {\n",
              "      background-color: #E2EBFA;\n",
              "      box-shadow: 0px 1px 2px rgba(60, 64, 67, 0.3), 0px 1px 3px 1px rgba(60, 64, 67, 0.15);\n",
              "      fill: #174EA6;\n",
              "    }\n",
              "\n",
              "    [theme=dark] .colab-df-convert {\n",
              "      background-color: #3B4455;\n",
              "      fill: #D2E3FC;\n",
              "    }\n",
              "\n",
              "    [theme=dark] .colab-df-convert:hover {\n",
              "      background-color: #434B5C;\n",
              "      box-shadow: 0px 1px 3px 1px rgba(0, 0, 0, 0.15);\n",
              "      filter: drop-shadow(0px 1px 2px rgba(0, 0, 0, 0.3));\n",
              "      fill: #FFFFFF;\n",
              "    }\n",
              "  </style>\n",
              "\n",
              "      <script>\n",
              "        const buttonEl =\n",
              "          document.querySelector('#df-74e99980-8ba6-472a-84e6-0773c350f200 button.colab-df-convert');\n",
              "        buttonEl.style.display =\n",
              "          google.colab.kernel.accessAllowed ? 'block' : 'none';\n",
              "\n",
              "        async function convertToInteractive(key) {\n",
              "          const element = document.querySelector('#df-74e99980-8ba6-472a-84e6-0773c350f200');\n",
              "          const dataTable =\n",
              "            await google.colab.kernel.invokeFunction('convertToInteractive',\n",
              "                                                     [key], {});\n",
              "          if (!dataTable) return;\n",
              "\n",
              "          const docLinkHtml = 'Like what you see? Visit the ' +\n",
              "            '<a target=\"_blank\" href=https://colab.research.google.com/notebooks/data_table.ipynb>data table notebook</a>'\n",
              "            + ' to learn more about interactive tables.';\n",
              "          element.innerHTML = '';\n",
              "          dataTable['output_type'] = 'display_data';\n",
              "          await google.colab.output.renderOutput(dataTable, element);\n",
              "          const docLink = document.createElement('div');\n",
              "          docLink.innerHTML = docLinkHtml;\n",
              "          element.appendChild(docLink);\n",
              "        }\n",
              "      </script>\n",
              "    </div>\n",
              "  </div>\n",
              "  "
            ]
          },
          "metadata": {},
          "execution_count": 40
        }
      ]
    },
    {
      "cell_type": "code",
      "source": [
        "base_df.isna().sum()"
      ],
      "metadata": {
        "execution": {
          "iopub.status.busy": "2022-11-19T16:03:59.677195Z",
          "iopub.execute_input": "2022-11-19T16:03:59.677685Z",
          "iopub.status.idle": "2022-11-19T16:03:59.691359Z",
          "shell.execute_reply.started": "2022-11-19T16:03:59.677641Z",
          "shell.execute_reply": "2022-11-19T16:03:59.689958Z"
        },
        "trusted": true,
        "colab": {
          "base_uri": "https://localhost:8080/"
        },
        "id": "xA8LValBwmQ7",
        "outputId": "222bbbdf-4960-4f85-8db8-a1f4a5a6fb18"
      },
      "execution_count": 41,
      "outputs": [
        {
          "output_type": "execute_result",
          "data": {
            "text/plain": [
              "date                               0\n",
              "home_team                          0\n",
              "away_team                          0\n",
              "rank_home                          0\n",
              "rank_away                          0\n",
              "home_score                         0\n",
              "away_score                         0\n",
              "result                             0\n",
              "rank_dif                           0\n",
              "rank_change_home                   0\n",
              "rank_change_away                   0\n",
              "home_goals_mean                  101\n",
              "home_goals_mean_l5               101\n",
              "home_goals_suf_mean              101\n",
              "home_goals_suf_mean_l5           101\n",
              "home_rank_mean                   101\n",
              "home_rank_mean_l5                101\n",
              "home_points_mean                   0\n",
              "home_points_mean_l5                0\n",
              "away_goals_mean                  100\n",
              "away_goals_mean_l5               100\n",
              "away_goals_suf_mean              100\n",
              "away_goals_suf_mean_l5           100\n",
              "away_rank_mean                   100\n",
              "away_rank_mean_l5                100\n",
              "away_points_mean                   0\n",
              "away_points_mean_l5                0\n",
              "home_game_points_mean            101\n",
              "home_game_points_mean_l5         101\n",
              "home_game_points_rank_mean       101\n",
              "home_game_points_rank_mean_l5    101\n",
              "away_game_points_mean            100\n",
              "away_game_points_mean_l5         100\n",
              "away_game_points_rank_mean       100\n",
              "away_game_points_rank_mean_l5    100\n",
              "is_friendly_0                      0\n",
              "is_friendly_1                      0\n",
              "dtype: int64"
            ]
          },
          "metadata": {},
          "execution_count": 41
        }
      ]
    },
    {
      "cell_type": "markdown",
      "source": [
        "The games with NA are the ones who mean could not be calculated (games from the beginning of the dataset). Those will be dropped."
      ],
      "metadata": {
        "id": "lnq7X0OiwmQ7"
      }
    },
    {
      "cell_type": "code",
      "source": [
        "base_df_no_fg = base_df.dropna()"
      ],
      "metadata": {
        "execution": {
          "iopub.status.busy": "2022-11-19T16:03:59.693642Z",
          "iopub.execute_input": "2022-11-19T16:03:59.694066Z",
          "iopub.status.idle": "2022-11-19T16:03:59.706861Z",
          "shell.execute_reply.started": "2022-11-19T16:03:59.694024Z",
          "shell.execute_reply": "2022-11-19T16:03:59.70552Z"
        },
        "trusted": true,
        "id": "-2OKRaaywmQ7"
      },
      "execution_count": 42,
      "outputs": []
    },
    {
      "cell_type": "markdown",
      "source": [
        "# Data Analysis\n",
        "\n",
        "Now, we need to analyze all features that were created and check if they have predictive power. Also, if they don't have, we need to create some that have, like differences of home and away teams. To analyze the predictive power, I'll assign draw games as a lose of the home team and will create a binary problem. "
      ],
      "metadata": {
        "id": "53cwqco1wmQ7"
      }
    },
    {
      "cell_type": "code",
      "source": [
        "df = base_df_no_fg"
      ],
      "metadata": {
        "execution": {
          "iopub.status.busy": "2022-11-19T16:03:59.708554Z",
          "iopub.execute_input": "2022-11-19T16:03:59.709045Z",
          "iopub.status.idle": "2022-11-19T16:03:59.717061Z",
          "shell.execute_reply.started": "2022-11-19T16:03:59.709006Z",
          "shell.execute_reply": "2022-11-19T16:03:59.715857Z"
        },
        "trusted": true,
        "id": "0NBWCUKywmQ7"
      },
      "execution_count": 43,
      "outputs": []
    },
    {
      "cell_type": "code",
      "source": [
        "def no_draw(x):\n",
        "    if x == 2:\n",
        "        return 1\n",
        "    else:\n",
        "        return x\n",
        "    \n",
        "df[\"target\"] = df[\"result\"].apply(lambda x: no_draw(x))"
      ],
      "metadata": {
        "execution": {
          "iopub.status.busy": "2022-11-19T16:03:59.71833Z",
          "iopub.execute_input": "2022-11-19T16:03:59.718699Z",
          "iopub.status.idle": "2022-11-19T16:03:59.73603Z",
          "shell.execute_reply.started": "2022-11-19T16:03:59.718665Z",
          "shell.execute_reply": "2022-11-19T16:03:59.734667Z"
        },
        "trusted": true,
        "colab": {
          "base_uri": "https://localhost:8080/"
        },
        "id": "APKzDkpPwmQ7",
        "outputId": "5e5144b0-3d8f-4278-e7a9-45f2d4a003fb"
      },
      "execution_count": 44,
      "outputs": [
        {
          "output_type": "stream",
          "name": "stderr",
          "text": [
            "<ipython-input-44-fd45a11c0adc>:7: SettingWithCopyWarning: \n",
            "A value is trying to be set on a copy of a slice from a DataFrame.\n",
            "Try using .loc[row_indexer,col_indexer] = value instead\n",
            "\n",
            "See the caveats in the documentation: https://pandas.pydata.org/pandas-docs/stable/user_guide/indexing.html#returning-a-view-versus-a-copy\n",
            "  df[\"target\"] = df[\"result\"].apply(lambda x: no_draw(x))\n"
          ]
        }
      ]
    },
    {
      "cell_type": "markdown",
      "source": [
        "Analysis that will be made:\n",
        "\n",
        "- Violin and boxplot to analyze if the features have different distributions according to the target\n",
        "- Scatter plots to analyze correlations"
      ],
      "metadata": {
        "id": "0Gstlmr8wmQ8"
      }
    },
    {
      "cell_type": "code",
      "source": [
        "data1 = df[list(df.columns[8:20].values) + [\"target\"]]\n",
        "data2 = df[df.columns[20:]]"
      ],
      "metadata": {
        "execution": {
          "iopub.status.busy": "2022-11-19T16:03:59.738026Z",
          "iopub.execute_input": "2022-11-19T16:03:59.738414Z",
          "iopub.status.idle": "2022-11-19T16:03:59.753585Z",
          "shell.execute_reply.started": "2022-11-19T16:03:59.738379Z",
          "shell.execute_reply": "2022-11-19T16:03:59.752349Z"
        },
        "trusted": true,
        "id": "_NGWUv_5wmQ8"
      },
      "execution_count": 45,
      "outputs": []
    },
    {
      "cell_type": "code",
      "source": [
        "scaled = (data1[:-1] - data1[:-1].mean()) / data1[:-1].std()\n",
        "scaled[\"target\"] = data1[\"target\"]\n",
        "violin1 = pd.melt(scaled,id_vars=\"target\", var_name=\"features\", value_name=\"value\")\n",
        "\n",
        "scaled = (data2[:-1] - data2[:-1].mean()) / data2[:-1].std()\n",
        "scaled[\"target\"] = data2[\"target\"]\n",
        "violin2 = pd.melt(scaled,id_vars=\"target\", var_name=\"features\", value_name=\"value\")"
      ],
      "metadata": {
        "execution": {
          "iopub.status.busy": "2022-11-19T16:03:59.755522Z",
          "iopub.execute_input": "2022-11-19T16:03:59.755889Z",
          "iopub.status.idle": "2022-11-19T16:03:59.787051Z",
          "shell.execute_reply.started": "2022-11-19T16:03:59.755856Z",
          "shell.execute_reply": "2022-11-19T16:03:59.786162Z"
        },
        "trusted": true,
        "id": "fndxY3_gwmQ8"
      },
      "execution_count": 46,
      "outputs": []
    },
    {
      "cell_type": "code",
      "source": [
        "plt.figure(figsize=(15,10))\n",
        "sns.violinplot(x=\"features\", y=\"value\", hue=\"target\", data=violin1,split=True, inner=\"quart\")\n",
        "plt.xticks(rotation=90)\n",
        "plt.show()"
      ],
      "metadata": {
        "execution": {
          "iopub.status.busy": "2022-11-19T16:03:59.788844Z",
          "iopub.execute_input": "2022-11-19T16:03:59.789299Z",
          "iopub.status.idle": "2022-11-19T16:04:00.438317Z",
          "shell.execute_reply.started": "2022-11-19T16:03:59.789233Z",
          "shell.execute_reply": "2022-11-19T16:04:00.4371Z"
        },
        "trusted": true,
        "colab": {
          "base_uri": "https://localhost:8080/",
          "height": 723
        },
        "id": "OT8gOhcxwmQ8",
        "outputId": "86217f40-8e8e-4148-8471-d1034f4df653"
      },
      "execution_count": 47,
      "outputs": [
        {
          "output_type": "display_data",
          "data": {
            "text/plain": [
              "<Figure size 1080x720 with 1 Axes>"
            ],
            "image/png": "[encoded data removed]"
          },
          "metadata": {
            "needs_background": "light"
          }
        }
      ]
    },
    {
      "cell_type": "code",
      "source": [
        "plt.figure(figsize=(15,10))\n",
        "sns.violinplot(x=\"features\", y=\"value\", hue=\"target\", data=violin2,split=True, inner=\"quart\")\n",
        "plt.xticks(rotation=90)\n",
        "plt.show()"
      ],
      "metadata": {
        "execution": {
          "iopub.status.busy": "2022-11-19T16:04:00.439989Z",
          "iopub.execute_input": "2022-11-19T16:04:00.440502Z",
          "iopub.status.idle": "2022-11-19T16:04:01.28762Z",
          "shell.execute_reply.started": "2022-11-19T16:04:00.440458Z",
          "shell.execute_reply": "2022-11-19T16:04:01.286474Z"
        },
        "trusted": true,
        "colab": {
          "base_uri": "https://localhost:8080/",
          "height": 767
        },
        "id": "h5URy99fwmQ8",
        "outputId": "ebb89e28-5038-44a0-aa5e-84bc3dd776d3"
      },
      "execution_count": 48,
      "outputs": [
        {
          "output_type": "display_data",
          "data": {
            "text/plain": [
              "<Figure size 1080x720 with 1 Axes>"
            ],
            "image/png": "[encoded data removed]"
          },
          "metadata": {
            "needs_background": "light"
          }
        }
      ]
    },
    {
      "cell_type": "markdown",
      "source": [
        "With the plots, we find that rank difference is the only good separator of the data. But, we can create features that get the differences between home and away team and analyze if they are good separating the data."
      ],
      "metadata": {
        "id": "YO2nEjtFwmQ8"
      }
    },
    {
      "cell_type": "code",
      "source": [
        "dif = df.copy()\n",
        "dif.loc[:, \"goals_dif\"] = dif[\"home_goals_mean\"] - dif[\"away_goals_mean\"]\n",
        "dif.loc[:, \"goals_dif_l5\"] = dif[\"home_goals_mean_l5\"] - dif[\"away_goals_mean_l5\"]\n",
        "dif.loc[:, \"goals_suf_dif\"] = dif[\"home_goals_suf_mean\"] - dif[\"away_goals_suf_mean\"]\n",
        "dif.loc[:, \"goals_suf_dif_l5\"] = dif[\"home_goals_suf_mean_l5\"] - dif[\"away_goals_suf_mean_l5\"]\n",
        "dif.loc[:, \"goals_made_suf_dif\"] = dif[\"home_goals_mean\"] - dif[\"away_goals_suf_mean\"]\n",
        "dif.loc[:, \"goals_made_suf_dif_l5\"] = dif[\"home_goals_mean_l5\"] - dif[\"away_goals_suf_mean_l5\"]\n",
        "dif.loc[:, \"goals_suf_made_dif\"] = dif[\"home_goals_suf_mean\"] - dif[\"away_goals_mean\"]\n",
        "dif.loc[:, \"goals_suf_made_dif_l5\"] = dif[\"home_goals_suf_mean_l5\"] - dif[\"away_goals_mean_l5\"]"
      ],
      "metadata": {
        "execution": {
          "iopub.status.busy": "2022-11-19T16:04:01.289414Z",
          "iopub.execute_input": "2022-11-19T16:04:01.289828Z",
          "iopub.status.idle": "2022-11-19T16:04:01.308648Z",
          "shell.execute_reply.started": "2022-11-19T16:04:01.289791Z",
          "shell.execute_reply": "2022-11-19T16:04:01.307286Z"
        },
        "trusted": true,
        "id": "NLUQAkZEwmQ8"
      },
      "execution_count": 49,
      "outputs": []
    },
    {
      "cell_type": "code",
      "source": [
        "data_difs = dif.iloc[:, -8:]\n",
        "scaled = (data_difs - data_difs.mean()) / data_difs.std()\n",
        "scaled[\"target\"] = data2[\"target\"]\n",
        "violin = pd.melt(scaled,id_vars=\"target\", var_name=\"features\", value_name=\"value\")\n",
        "\n",
        "plt.figure(figsize=(10,10))\n",
        "sns.violinplot(x=\"features\", y=\"value\", hue=\"target\", data=violin,split=True, inner=\"quart\")\n",
        "plt.xticks(rotation=90)\n",
        "plt.show()"
      ],
      "metadata": {
        "execution": {
          "iopub.status.busy": "2022-11-19T16:04:01.310044Z",
          "iopub.execute_input": "2022-11-19T16:04:01.310403Z",
          "iopub.status.idle": "2022-11-19T16:04:02.138901Z",
          "shell.execute_reply.started": "2022-11-19T16:04:01.31037Z",
          "shell.execute_reply": "2022-11-19T16:04:02.137443Z"
        },
        "trusted": true,
        "colab": {
          "base_uri": "https://localhost:8080/",
          "height": 708
        },
        "id": "9adx5-hpwmQ8",
        "outputId": "efd4da29-3b5e-4e65-d4e4-62346af233c5"
      },
      "execution_count": 50,
      "outputs": [
        {
          "output_type": "display_data",
          "data": {
            "text/plain": [
              "<Figure size 720x720 with 1 Axes>"
            ],
            "image/png": "[encoded data removed]"
          },
          "metadata": {
            "needs_background": "light"
          }
        }
      ]
    },
    {
      "cell_type": "markdown",
      "source": [
        "With that plot, we see that goal differences are good separator, and goals suffered difference too. Differences between goals made and goals suffered of the teams are not very good separators.\n",
        "\n",
        "Now, we have 5 features:\n",
        "\n",
        "- rank_dif\n",
        "- goals_dif\n",
        "- goals_dif_l5\n",
        "- goals_suf_dif\n",
        "- goals_suf_dif_l5\n",
        "\n",
        "We can create other features, like differences of points made, differences of points made by rank faced and differences of rank faced."
      ],
      "metadata": {
        "id": "5hOwRjfpwmQ8"
      }
    },
    {
      "cell_type": "code",
      "source": [
        "dif.loc[:, \"dif_points\"] = dif[\"home_game_points_mean\"] - dif[\"away_game_points_mean\"]\n",
        "dif.loc[:, \"dif_points_l5\"] = dif[\"home_game_points_mean_l5\"] - dif[\"away_game_points_mean_l5\"]\n",
        "dif.loc[:, \"dif_points_rank\"] = dif[\"home_game_points_rank_mean\"] - dif[\"away_game_points_rank_mean\"]\n",
        "dif.loc[:, \"dif_points_rank_l5\"] = dif[\"home_game_points_rank_mean_l5\"] - dif[\"away_game_points_rank_mean_l5\"]"
      ],
      "metadata": {
        "execution": {
          "iopub.status.busy": "2022-11-19T16:04:02.140465Z",
          "iopub.execute_input": "2022-11-19T16:04:02.140815Z",
          "iopub.status.idle": "2022-11-19T16:04:02.152358Z",
          "shell.execute_reply.started": "2022-11-19T16:04:02.140783Z",
          "shell.execute_reply": "2022-11-19T16:04:02.151089Z"
        },
        "trusted": true,
        "id": "WZvoXKU4wmQ9"
      },
      "execution_count": 51,
      "outputs": []
    },
    {
      "cell_type": "code",
      "source": [
        "dif.loc[:, \"dif_rank_agst\"] = dif[\"home_rank_mean\"] - dif[\"away_rank_mean\"]\n",
        "dif.loc[:, \"dif_rank_agst_l5\"] = dif[\"home_rank_mean_l5\"] - dif[\"away_rank_mean_l5\"]"
      ],
      "metadata": {
        "execution": {
          "iopub.status.busy": "2022-11-19T16:04:02.154034Z",
          "iopub.execute_input": "2022-11-19T16:04:02.155511Z",
          "iopub.status.idle": "2022-11-19T16:04:02.171935Z",
          "shell.execute_reply.started": "2022-11-19T16:04:02.155475Z",
          "shell.execute_reply": "2022-11-19T16:04:02.170898Z"
        },
        "trusted": true,
        "id": "8J5q9fv2wmQ9"
      },
      "execution_count": 52,
      "outputs": []
    },
    {
      "cell_type": "markdown",
      "source": [
        "Also, we can calculate goals made and suffered by rank, and check this difference."
      ],
      "metadata": {
        "id": "RxIPWxGkwmQ9"
      }
    },
    {
      "cell_type": "code",
      "source": [
        "dif.loc[:, \"goals_per_ranking_dif\"] = (dif[\"home_goals_mean\"] / dif[\"home_rank_mean\"]) - (dif[\"away_goals_mean\"] / dif[\"away_rank_mean\"])\n",
        "dif.loc[:, \"goals_per_ranking_suf_dif\"] = (dif[\"home_goals_suf_mean\"] / dif[\"home_rank_mean\"]) - (dif[\"away_goals_suf_mean\"] / dif[\"away_rank_mean\"])\n",
        "dif.loc[:, \"goals_per_ranking_dif_l5\"] = (dif[\"home_goals_mean_l5\"] / dif[\"home_rank_mean\"]) - (dif[\"away_goals_mean_l5\"] / dif[\"away_rank_mean\"])\n",
        "dif.loc[:, \"goals_per_ranking_suf_dif_l5\"] = (dif[\"home_goals_suf_mean_l5\"] / dif[\"home_rank_mean\"]) - (dif[\"away_goals_suf_mean_l5\"] / dif[\"away_rank_mean\"])"
      ],
      "metadata": {
        "execution": {
          "iopub.status.busy": "2022-11-19T16:04:02.181142Z",
          "iopub.execute_input": "2022-11-19T16:04:02.181575Z",
          "iopub.status.idle": "2022-11-19T16:04:02.194506Z",
          "shell.execute_reply.started": "2022-11-19T16:04:02.181537Z",
          "shell.execute_reply": "2022-11-19T16:04:02.193454Z"
        },
        "trusted": true,
        "id": "t4BIk0jSwmQ9"
      },
      "execution_count": 53,
      "outputs": []
    },
    {
      "cell_type": "code",
      "source": [
        "data_difs = dif.iloc[:, -10:]\n",
        "scaled = (data_difs - data_difs.mean()) / data_difs.std()\n",
        "scaled[\"target\"] = data2[\"target\"]\n",
        "violin = pd.melt(scaled,id_vars=\"target\", var_name=\"features\", value_name=\"value\")\n",
        "\n",
        "plt.figure(figsize=(15,10))\n",
        "sns.violinplot(x=\"features\", y=\"value\", hue=\"target\", data=violin,split=True, inner=\"quart\")\n",
        "plt.xticks(rotation=90)\n",
        "plt.show()"
      ],
      "metadata": {
        "execution": {
          "iopub.status.busy": "2022-11-19T16:04:02.195702Z",
          "iopub.execute_input": "2022-11-19T16:04:02.196486Z",
          "iopub.status.idle": "2022-11-19T16:04:02.802203Z",
          "shell.execute_reply.started": "2022-11-19T16:04:02.19645Z",
          "shell.execute_reply": "2022-11-19T16:04:02.801038Z"
        },
        "trusted": true,
        "colab": {
          "base_uri": "https://localhost:8080/",
          "height": 739
        },
        "id": "XK2gNyVywmQ9",
        "outputId": "4fa8b871-cc45-47d4-d0d8-08bd9927e454"
      },
      "execution_count": 54,
      "outputs": [
        {
          "output_type": "display_data",
          "data": {
            "text/plain": [
              "<Figure size 1080x720 with 1 Axes>"
            ],
            "image/png": "[encoded data removed]"
          },
          "metadata": {
            "needs_background": "light"
          }
        }
      ]
    },
    {
      "cell_type": "markdown",
      "source": [
        "Due to the low values, the violin plot was not a good choice to analyze if features are really separating the data in this case. We will see then the boxplot:"
      ],
      "metadata": {
        "id": "A26A5Ag0wmQ9"
      }
    },
    {
      "cell_type": "code",
      "source": [
        "plt.figure(figsize=(15,10))\n",
        "sns.boxplot(x=\"features\", y=\"value\", hue=\"target\", data=violin)\n",
        "plt.xticks(rotation=90)\n",
        "plt.show()"
      ],
      "metadata": {
        "execution": {
          "iopub.status.busy": "2022-11-19T16:04:02.803708Z",
          "iopub.execute_input": "2022-11-19T16:04:02.804614Z",
          "iopub.status.idle": "2022-11-19T16:04:03.419825Z",
          "shell.execute_reply.started": "2022-11-19T16:04:02.804576Z",
          "shell.execute_reply": "2022-11-19T16:04:03.418709Z"
        },
        "trusted": true,
        "colab": {
          "base_uri": "https://localhost:8080/",
          "height": 739
        },
        "id": "9-OzOpQOwmQ9",
        "outputId": "26612a63-a6a1-4b65-912b-8a3359b426bb"
      },
      "execution_count": 55,
      "outputs": [
        {
          "output_type": "display_data",
          "data": {
            "text/plain": [
              "<Figure size 1080x720 with 1 Axes>"
            ],
            "image/png": "[encoded data removed]"
          },
          "metadata": {
            "needs_background": "light"
          }
        }
      ]
    },
    {
      "cell_type": "markdown",
      "source": [
        "Difference of points (full and last 5 games), difference of points by ranking faced (full and last 5 games) and difference of rank faced (full and last 5 games) are good features. Also, some of the generated features have very similar distributions which will be analyzed using scatterplots."
      ],
      "metadata": {
        "id": "UOwNYSWKwmQ9"
      }
    },
    {
      "cell_type": "code",
      "source": [
        "sns.jointplot(data = data_difs, x = 'goals_per_ranking_dif', y = 'goals_per_ranking_dif_l5', kind=\"reg\")\n",
        "plt.show()"
      ],
      "metadata": {
        "execution": {
          "iopub.status.busy": "2022-11-19T16:04:03.421537Z",
          "iopub.execute_input": "2022-11-19T16:04:03.421921Z",
          "iopub.status.idle": "2022-11-19T16:04:05.800371Z",
          "shell.execute_reply.started": "2022-11-19T16:04:03.421889Z",
          "shell.execute_reply": "2022-11-19T16:04:05.799125Z"
        },
        "trusted": true,
        "colab": {
          "base_uri": "https://localhost:8080/",
          "height": 441
        },
        "id": "fQbYDNgkwmQ9",
        "outputId": "fcea27e8-a4a2-4d99-c1ea-852db8feaf01"
      },
      "execution_count": 56,
      "outputs": [
        {
          "output_type": "display_data",
          "data": {
            "text/plain": [
              "<Figure size 432x432 with 3 Axes>"
            ],
            "image/png": "[encoded data removed]"
          },
          "metadata": {
            "needs_background": "light"
          }
        }
      ]
    },
    {
      "cell_type": "markdown",
      "source": [
        "Goals difference by ranking faced and its last 5 games version has very similar distributions. So, we will use only the full version (goals_per_ranking_dif)."
      ],
      "metadata": {
        "id": "xgV3yE7lwmQ-"
      }
    },
    {
      "cell_type": "code",
      "source": [
        "sns.jointplot(data = data_difs, x = 'dif_rank_agst', y = 'dif_rank_agst_l5', kind=\"reg\")\n",
        "plt.show()"
      ],
      "metadata": {
        "execution": {
          "iopub.status.busy": "2022-11-19T16:04:05.801975Z",
          "iopub.execute_input": "2022-11-19T16:04:05.80236Z",
          "iopub.status.idle": "2022-11-19T16:04:06.869617Z",
          "shell.execute_reply.started": "2022-11-19T16:04:05.802326Z",
          "shell.execute_reply": "2022-11-19T16:04:06.86833Z"
        },
        "trusted": true,
        "colab": {
          "base_uri": "https://localhost:8080/",
          "height": 441
        },
        "id": "PbxAt6YEwmQ-",
        "outputId": "4c42dc80-7c24-4189-bb0f-46acb408f0e8"
      },
      "execution_count": 57,
      "outputs": [
        {
          "output_type": "display_data",
          "data": {
            "text/plain": [
              "<Figure size 432x432 with 3 Axes>"
            ],
            "image/png": "[encoded data removed]"
          },
          "metadata": {
            "needs_background": "light"
          }
        }
      ]
    },
    {
      "cell_type": "code",
      "source": [
        "sns.jointplot(data = data_difs, x = 'dif_points', y = 'dif_points_l5', kind=\"reg\")\n",
        "plt.show()"
      ],
      "metadata": {
        "execution": {
          "iopub.status.busy": "2022-11-19T16:04:06.871322Z",
          "iopub.execute_input": "2022-11-19T16:04:06.871667Z",
          "iopub.status.idle": "2022-11-19T16:04:07.722616Z",
          "shell.execute_reply.started": "2022-11-19T16:04:06.871636Z",
          "shell.execute_reply": "2022-11-19T16:04:07.721179Z"
        },
        "trusted": true,
        "colab": {
          "base_uri": "https://localhost:8080/",
          "height": 441
        },
        "id": "FodcSrDJwmQ-",
        "outputId": "d6de25d1-965e-476b-8868-31a9523319f7"
      },
      "execution_count": 58,
      "outputs": [
        {
          "output_type": "display_data",
          "data": {
            "text/plain": [
              "<Figure size 432x432 with 3 Axes>"
            ],
            "image/png": "[encoded data removed]"
          },
          "metadata": {
            "needs_background": "light"
          }
        }
      ]
    },
    {
      "cell_type": "code",
      "source": [
        "sns.jointplot(data = data_difs, x = 'dif_points_rank', y = 'dif_points_rank_l5', kind=\"reg\")\n",
        "plt.show()"
      ],
      "metadata": {
        "execution": {
          "iopub.status.busy": "2022-11-19T16:04:07.724887Z",
          "iopub.execute_input": "2022-11-19T16:04:07.725602Z",
          "iopub.status.idle": "2022-11-19T16:04:10.453428Z",
          "shell.execute_reply.started": "2022-11-19T16:04:07.72556Z",
          "shell.execute_reply": "2022-11-19T16:04:10.452318Z"
        },
        "trusted": true,
        "colab": {
          "base_uri": "https://localhost:8080/",
          "height": 441
        },
        "id": "9BeSCV5UwmQ-",
        "outputId": "e5a89139-e786-470a-c171-caa7f270eb7d"
      },
      "execution_count": 59,
      "outputs": [
        {
          "output_type": "display_data",
          "data": {
            "text/plain": [
              "<Figure size 432x432 with 3 Axes>"
            ],
            "image/png": "[encoded data removed]"
          },
          "metadata": {
            "needs_background": "light"
          }
        }
      ]
    },
    {
      "cell_type": "markdown",
      "source": [
        "For the differences of rank faced, game points by rank faced and mean game points by rank faced, the two versions (full and 5 games) are not so similar. So, we will use both.\n",
        "\n",
        "Based on that, final features are:\n",
        "\n",
        "\n",
        "- rank_dif\n",
        "- goals_dif\n",
        "- goals_dif_l5\n",
        "- goals_suf_dif\n",
        "- goals_suf_dif_l5\n",
        "- dif_rank_agst\n",
        "- dif_rank_agst_l5\n",
        "- goals_per_ranking_dif\n",
        "- dif_points_rank\n",
        "- dif_points_rank_l5\n",
        "- is_friendly"
      ],
      "metadata": {
        "id": "n_z1aRJBwmQ-"
      }
    },
    {
      "cell_type": "code",
      "source": [
        "def create_db(df):\n",
        "    columns = [\"home_team\", \"away_team\", \"target\", \"rank_dif\", \"home_goals_mean\", \"home_rank_mean\", \"away_goals_mean\", \"away_rank_mean\", \"home_rank_mean_l5\", \"away_rank_mean_l5\", \"home_goals_suf_mean\", \"away_goals_suf_mean\", \"home_goals_mean_l5\", \"away_goals_mean_l5\", \"home_goals_suf_mean_l5\", \"away_goals_suf_mean_l5\", \"home_game_points_rank_mean\", \"home_game_points_rank_mean_l5\", \"away_game_points_rank_mean\", \"away_game_points_rank_mean_l5\",\"is_friendly_0\", \"is_friendly_1\"]\n",
        "    \n",
        "    base = df.loc[:, columns]\n",
        "    base.loc[:, \"goals_dif\"] = base[\"home_goals_mean\"] - base[\"away_goals_mean\"]\n",
        "    base.loc[:, \"goals_dif_l5\"] = base[\"home_goals_mean_l5\"] - base[\"away_goals_mean_l5\"]\n",
        "    base.loc[:, \"goals_suf_dif\"] = base[\"home_goals_suf_mean\"] - base[\"away_goals_suf_mean\"]\n",
        "    base.loc[:, \"goals_suf_dif_l5\"] = base[\"home_goals_suf_mean_l5\"] - base[\"away_goals_suf_mean_l5\"]\n",
        "    base.loc[:, \"goals_per_ranking_dif\"] = (base[\"home_goals_mean\"] / base[\"home_rank_mean\"]) - (base[\"away_goals_mean\"] / base[\"away_rank_mean\"])\n",
        "    base.loc[:, \"dif_rank_agst\"] = base[\"home_rank_mean\"] - base[\"away_rank_mean\"]\n",
        "    base.loc[:, \"dif_rank_agst_l5\"] = base[\"home_rank_mean_l5\"] - base[\"away_rank_mean_l5\"]\n",
        "    base.loc[:, \"dif_points_rank\"] = base[\"home_game_points_rank_mean\"] - base[\"away_game_points_rank_mean\"]\n",
        "    base.loc[:, \"dif_points_rank_l5\"] = base[\"home_game_points_rank_mean_l5\"] - base[\"away_game_points_rank_mean_l5\"]\n",
        "    \n",
        "    model_df = base[[\"home_team\", \"away_team\", \"target\", \"rank_dif\", \"goals_dif\", \"goals_dif_l5\", \"goals_suf_dif\", \"goals_suf_dif_l5\", \"goals_per_ranking_dif\", \"dif_rank_agst\", \"dif_rank_agst_l5\", \"dif_points_rank\", \"dif_points_rank_l5\", \"is_friendly_0\", \"is_friendly_1\"]]\n",
        "    return model_df"
      ],
      "metadata": {
        "execution": {
          "iopub.status.busy": "2022-11-19T16:04:10.455185Z",
          "iopub.execute_input": "2022-11-19T16:04:10.455687Z",
          "iopub.status.idle": "2022-11-19T16:04:10.468041Z",
          "shell.execute_reply.started": "2022-11-19T16:04:10.455642Z",
          "shell.execute_reply": "2022-11-19T16:04:10.466758Z"
        },
        "trusted": true,
        "id": "V8gpNoMvwmQ-"
      },
      "execution_count": 60,
      "outputs": []
    },
    {
      "cell_type": "code",
      "source": [
        "model_db = create_db(df)"
      ],
      "metadata": {
        "execution": {
          "iopub.status.busy": "2022-11-19T16:04:10.469566Z",
          "iopub.execute_input": "2022-11-19T16:04:10.469955Z",
          "iopub.status.idle": "2022-11-19T16:04:10.49316Z",
          "shell.execute_reply.started": "2022-11-19T16:04:10.469906Z",
          "shell.execute_reply": "2022-11-19T16:04:10.491802Z"
        },
        "trusted": true,
        "id": "BdsRh5S3wmQ-"
      },
      "execution_count": 61,
      "outputs": []
    },
    {
      "cell_type": "code",
      "source": [
        "model_db"
      ],
      "metadata": {
        "execution": {
          "iopub.status.busy": "2022-11-19T16:04:10.494759Z",
          "iopub.execute_input": "2022-11-19T16:04:10.495103Z",
          "iopub.status.idle": "2022-11-19T16:04:10.525671Z",
          "shell.execute_reply.started": "2022-11-19T16:04:10.495072Z",
          "shell.execute_reply": "2022-11-19T16:04:10.524653Z"
        },
        "trusted": true,
        "colab": {
          "base_uri": "https://localhost:8080/",
          "height": 522
        },
        "id": "W3yeF-BewmQ-",
        "outputId": "4c9e6dc5-0bc6-48a0-fb11-ed829f5f76b3"
      },
      "execution_count": 62,
      "outputs": [
        {
          "output_type": "execute_result",
          "data": {
            "text/plain": [
              "       home_team         away_team  target  rank_dif  goals_dif  goals_dif_l5  \\\n",
              "4       Barbados              Cuba       1     -21.0   2.000000           2.0   \n",
              "6       Barbados              Cuba       1     -21.0   1.000000           1.0   \n",
              "31      Mongolia              Guam       1      -4.0   4.000000           4.0   \n",
              "32         Nepal            Bhutan       0     -22.0   1.000000           1.0   \n",
              "33    Bangladesh          Pakistan       0      -7.0  -1.000000          -1.0   \n",
              "...          ...               ...     ...       ...        ...           ...   \n",
              "3331      Norway            Serbia       1      11.0  -0.038095          -0.8   \n",
              "3332      Sweden          Slovenia       1     -45.0   0.030812           0.2   \n",
              "3333      Kosovo            Cyprus       0      -2.0   0.667341           0.6   \n",
              "3334      Greece  Northern Ireland       0      -9.0   0.067653           0.2   \n",
              "3335        Fiji   Solomon Islands       0      26.0  -1.119048          -0.6   \n",
              "\n",
              "      goals_suf_dif  goals_suf_dif_l5  goals_per_ranking_dif  dif_rank_agst  \\\n",
              "4          1.000000               1.0               0.037037     -92.000000   \n",
              "6          0.500000               0.5               0.008511     -35.500000   \n",
              "31        -1.000000              -1.0               0.021622       0.000000   \n",
              "32         0.000000               0.0               0.004975       7.000000   \n",
              "33        -0.500000              -0.5              -0.007200      30.500000   \n",
              "...             ...               ...                    ...            ...   \n",
              "3331      -0.230159               0.0              -0.005282       9.014286   \n",
              "3332       0.137255               0.2               0.009459     -25.102241   \n",
              "3333      -0.463094               0.0               0.007625       7.037917   \n",
              "3334      -0.369979              -1.2              -0.002915      16.024841   \n",
              "3335      -0.634921              -0.8              -0.006351      -7.476190   \n",
              "\n",
              "      dif_rank_agst_l5  dif_points_rank  dif_points_rank_l5  is_friendly_0  \\\n",
              "4                -92.0         0.018519            0.018519              0   \n",
              "6                -35.5         0.008897            0.008897              0   \n",
              "31                 0.0         0.016216            0.016216              1   \n",
              "32                 7.0         0.000000            0.000000              1   \n",
              "33                30.5        -0.010437           -0.010437              1   \n",
              "...                ...              ...                 ...            ...   \n",
              "3331              -3.4        -0.011343            0.016348              1   \n",
              "3332              10.2         0.022485           -0.020314              1   \n",
              "3333               1.6         0.008791           -0.002827              1   \n",
              "3334               0.6         0.027775            0.018570              1   \n",
              "3335               5.8        -0.000581           -0.003519              1   \n",
              "\n",
              "      is_friendly_1  \n",
              "4                 1  \n",
              "6                 1  \n",
              "31                0  \n",
              "32                0  \n",
              "33                0  \n",
              "...             ...  \n",
              "3331              0  \n",
              "3332              0  \n",
              "3333              0  \n",
              "3334              0  \n",
              "3335              0  \n",
              "\n",
              "[3201 rows x 15 columns]"
            ],
            "text/html": [
              "\n",
              "  <div id=\"df-8a752fac-0c31-4284-81b3-715d025f8b27\">\n",
              "    <div class=\"colab-df-container\">\n",
              "      <div>\n",
              "<style scoped>\n",
              "    .dataframe tbody tr th:only-of-type {\n",
              "        vertical-align: middle;\n",
              "    }\n",
              "\n",
              "    .dataframe tbody tr th {\n",
              "        vertical-align: top;\n",
              "    }\n",
              "\n",
              "    .dataframe thead th {\n",
              "        text-align: right;\n",
              "    }\n",
              "</style>\n",
              "<table border=\"1\" class=\"dataframe\">\n",
              "  <thead>\n",
              "    <tr style=\"text-align: right;\">\n",
              "      <th></th>\n",
              "      <th>home_team</th>\n",
              "      <th>away_team</th>\n",
              "      <th>target</th>\n",
              "      <th>rank_dif</th>\n",
              "      <th>goals_dif</th>\n",
              "      <th>goals_dif_l5</th>\n",
              "      <th>goals_suf_dif</th>\n",
              "      <th>goals_suf_dif_l5</th>\n",
              "      <th>goals_per_ranking_dif</th>\n",
              "      <th>dif_rank_agst</th>\n",
              "      <th>dif_rank_agst_l5</th>\n",
              "      <th>dif_points_rank</th>\n",
              "      <th>dif_points_rank_l5</th>\n",
              "      <th>is_friendly_0</th>\n",
              "      <th>is_friendly_1</th>\n",
              "    </tr>\n",
              "  </thead>\n",
              "  <tbody>\n",
              "    <tr>\n",
              "      <th>4</th>\n",
              "      <td>Barbados</td>\n",
              "      <td>Cuba</td>\n",
              "      <td>1</td>\n",
              "      <td>-21.0</td>\n",
              "      <td>2.000000</td>\n",
              "      <td>2.0</td>\n",
              "      <td>1.000000</td>\n",
              "      <td>1.0</td>\n",
              "      <td>0.037037</td>\n",
              "      <td>-92.000000</td>\n",
              "      <td>-92.0</td>\n",
              "      <td>0.018519</td>\n",
              "      <td>0.018519</td>\n",
              "      <td>0</td>\n",
              "      <td>1</td>\n",
              "    </tr>\n",
              "    <tr>\n",
              "      <th>6</th>\n",
              "      <td>Barbados</td>\n",
              "      <td>Cuba</td>\n",
              "      <td>1</td>\n",
              "      <td>-21.0</td>\n",
              "      <td>1.000000</td>\n",
              "      <td>1.0</td>\n",
              "      <td>0.500000</td>\n",
              "      <td>0.5</td>\n",
              "      <td>0.008511</td>\n",
              "      <td>-35.500000</td>\n",
              "      <td>-35.5</td>\n",
              "      <td>0.008897</td>\n",
              "      <td>0.008897</td>\n",
              "      <td>0</td>\n",
              "      <td>1</td>\n",
              "    </tr>\n",
              "    <tr>\n",
              "      <th>31</th>\n",
              "      <td>Mongolia</td>\n",
              "      <td>Guam</td>\n",
              "      <td>1</td>\n",
              "      <td>-4.0</td>\n",
              "      <td>4.000000</td>\n",
              "      <td>4.0</td>\n",
              "      <td>-1.000000</td>\n",
              "      <td>-1.0</td>\n",
              "      <td>0.021622</td>\n",
              "      <td>0.000000</td>\n",
              "      <td>0.0</td>\n",
              "      <td>0.016216</td>\n",
              "      <td>0.016216</td>\n",
              "      <td>1</td>\n",
              "      <td>0</td>\n",
              "    </tr>\n",
              "    <tr>\n",
              "      <th>32</th>\n",
              "      <td>Nepal</td>\n",
              "      <td>Bhutan</td>\n",
              "      <td>0</td>\n",
              "      <td>-22.0</td>\n",
              "      <td>1.000000</td>\n",
              "      <td>1.0</td>\n",
              "      <td>0.000000</td>\n",
              "      <td>0.0</td>\n",
              "      <td>0.004975</td>\n",
              "      <td>7.000000</td>\n",
              "      <td>7.0</td>\n",
              "      <td>0.000000</td>\n",
              "      <td>0.000000</td>\n",
              "      <td>1</td>\n",
              "      <td>0</td>\n",
              "    </tr>\n",
              "    <tr>\n",
              "      <th>33</th>\n",
              "      <td>Bangladesh</td>\n",
              "      <td>Pakistan</td>\n",
              "      <td>0</td>\n",
              "      <td>-7.0</td>\n",
              "      <td>-1.000000</td>\n",
              "      <td>-1.0</td>\n",
              "      <td>-0.500000</td>\n",
              "      <td>-0.5</td>\n",
              "      <td>-0.007200</td>\n",
              "      <td>30.500000</td>\n",
              "      <td>30.5</td>\n",
              "      <td>-0.010437</td>\n",
              "      <td>-0.010437</td>\n",
              "      <td>1</td>\n",
              "      <td>0</td>\n",
              "    </tr>\n",
              "    <tr>\n",
              "      <th>...</th>\n",
              "      <td>...</td>\n",
              "      <td>...</td>\n",
              "      <td>...</td>\n",
              "      <td>...</td>\n",
              "      <td>...</td>\n",
              "      <td>...</td>\n",
              "      <td>...</td>\n",
              "      <td>...</td>\n",
              "      <td>...</td>\n",
              "      <td>...</td>\n",
              "      <td>...</td>\n",
              "      <td>...</td>\n",
              "      <td>...</td>\n",
              "      <td>...</td>\n",
              "      <td>...</td>\n",
              "    </tr>\n",
              "    <tr>\n",
              "      <th>3331</th>\n",
              "      <td>Norway</td>\n",
              "      <td>Serbia</td>\n",
              "      <td>1</td>\n",
              "      <td>11.0</td>\n",
              "      <td>-0.038095</td>\n",
              "      <td>-0.8</td>\n",
              "      <td>-0.230159</td>\n",
              "      <td>0.0</td>\n",
              "      <td>-0.005282</td>\n",
              "      <td>9.014286</td>\n",
              "      <td>-3.4</td>\n",
              "      <td>-0.011343</td>\n",
              "      <td>0.016348</td>\n",
              "      <td>1</td>\n",
              "      <td>0</td>\n",
              "    </tr>\n",
              "    <tr>\n",
              "      <th>3332</th>\n",
              "      <td>Sweden</td>\n",
              "      <td>Slovenia</td>\n",
              "      <td>1</td>\n",
              "      <td>-45.0</td>\n",
              "      <td>0.030812</td>\n",
              "      <td>0.2</td>\n",
              "      <td>0.137255</td>\n",
              "      <td>0.2</td>\n",
              "      <td>0.009459</td>\n",
              "      <td>-25.102241</td>\n",
              "      <td>10.2</td>\n",
              "      <td>0.022485</td>\n",
              "      <td>-0.020314</td>\n",
              "      <td>1</td>\n",
              "      <td>0</td>\n",
              "    </tr>\n",
              "    <tr>\n",
              "      <th>3333</th>\n",
              "      <td>Kosovo</td>\n",
              "      <td>Cyprus</td>\n",
              "      <td>0</td>\n",
              "      <td>-2.0</td>\n",
              "      <td>0.667341</td>\n",
              "      <td>0.6</td>\n",
              "      <td>-0.463094</td>\n",
              "      <td>0.0</td>\n",
              "      <td>0.007625</td>\n",
              "      <td>7.037917</td>\n",
              "      <td>1.6</td>\n",
              "      <td>0.008791</td>\n",
              "      <td>-0.002827</td>\n",
              "      <td>1</td>\n",
              "      <td>0</td>\n",
              "    </tr>\n",
              "    <tr>\n",
              "      <th>3334</th>\n",
              "      <td>Greece</td>\n",
              "      <td>Northern Ireland</td>\n",
              "      <td>0</td>\n",
              "      <td>-9.0</td>\n",
              "      <td>0.067653</td>\n",
              "      <td>0.2</td>\n",
              "      <td>-0.369979</td>\n",
              "      <td>-1.2</td>\n",
              "      <td>-0.002915</td>\n",
              "      <td>16.024841</td>\n",
              "      <td>0.6</td>\n",
              "      <td>0.027775</td>\n",
              "      <td>0.018570</td>\n",
              "      <td>1</td>\n",
              "      <td>0</td>\n",
              "    </tr>\n",
              "    <tr>\n",
              "      <th>3335</th>\n",
              "      <td>Fiji</td>\n",
              "      <td>Solomon Islands</td>\n",
              "      <td>0</td>\n",
              "      <td>26.0</td>\n",
              "      <td>-1.119048</td>\n",
              "      <td>-0.6</td>\n",
              "      <td>-0.634921</td>\n",
              "      <td>-0.8</td>\n",
              "      <td>-0.006351</td>\n",
              "      <td>-7.476190</td>\n",
              "      <td>5.8</td>\n",
              "      <td>-0.000581</td>\n",
              "      <td>-0.003519</td>\n",
              "      <td>1</td>\n",
              "      <td>0</td>\n",
              "    </tr>\n",
              "  </tbody>\n",
              "</table>\n",
              "<p>3201 rows × 15 columns</p>\n",
              "</div>\n",
              "      <button class=\"colab-df-convert\" onclick=\"convertToInteractive('df-8a752fac-0c31-4284-81b3-715d025f8b27')\"\n",
              "              title=\"Convert this dataframe to an interactive table.\"\n",
              "              style=\"display:none;\">\n",
              "        \n",
              "  <svg xmlns=\"http://www.w3.org/2000/svg\" height=\"24px\"viewBox=\"0 0 24 24\"\n",
              "       width=\"24px\">\n",
              "    <path d=\"M0 0h24v24H0V0z\" fill=\"none\"/>\n",
              "    <path d=\"M18.56 5.44l.94 2.06.94-2.06 2.06-.94-2.06-.94-.94-2.06-.94 2.06-2.06.94zm-11 1L8.5 8.5l.94-2.06 2.06-.94-2.06-.94L8.5 2.5l-.94 2.06-2.06.94zm10 10l.94 2.06.94-2.06 2.06-.94-2.06-.94-.94-2.06-.94 2.06-2.06.94z\"/><path d=\"M17.41 7.96l-1.37-1.37c-.4-.4-.92-.59-1.43-.59-.52 0-1.04.2-1.43.59L10.3 9.45l-7.72 7.72c-.78.78-.78 2.05 0 2.83L4 21.41c.39.39.9.59 1.41.59.51 0 1.02-.2 1.41-.59l7.78-7.78 2.81-2.81c.8-.78.8-2.07 0-2.86zM5.41 20L4 18.59l7.72-7.72 1.47 1.35L5.41 20z\"/>\n",
              "  </svg>\n",
              "      </button>\n",
              "      \n",
              "  <style>\n",
              "    .colab-df-container {\n",
              "      display:flex;\n",
              "      flex-wrap:wrap;\n",
              "      gap: 12px;\n",
              "    }\n",
              "\n",
              "    .colab-df-convert {\n",
              "      background-color: #E8F0FE;\n",
              "      border: none;\n",
              "      border-radius: 50%;\n",
              "      cursor: pointer;\n",
              "      display: none;\n",
              "      fill: #1967D2;\n",
              "      height: 32px;\n",
              "      padding: 0 0 0 0;\n",
              "      width: 32px;\n",
              "    }\n",
              "\n",
              "    .colab-df-convert:hover {\n",
              "      background-color: #E2EBFA;\n",
              "      box-shadow: 0px 1px 2px rgba(60, 64, 67, 0.3), 0px 1px 3px 1px rgba(60, 64, 67, 0.15);\n",
              "      fill: #174EA6;\n",
              "    }\n",
              "\n",
              "    [theme=dark] .colab-df-convert {\n",
              "      background-color: #3B4455;\n",
              "      fill: #D2E3FC;\n",
              "    }\n",
              "\n",
              "    [theme=dark] .colab-df-convert:hover {\n",
              "      background-color: #434B5C;\n",
              "      box-shadow: 0px 1px 3px 1px rgba(0, 0, 0, 0.15);\n",
              "      filter: drop-shadow(0px 1px 2px rgba(0, 0, 0, 0.3));\n",
              "      fill: #FFFFFF;\n",
              "    }\n",
              "  </style>\n",
              "\n",
              "      <script>\n",
              "        const buttonEl =\n",
              "          document.querySelector('#df-8a752fac-0c31-4284-81b3-715d025f8b27 button.colab-df-convert');\n",
              "        buttonEl.style.display =\n",
              "          google.colab.kernel.accessAllowed ? 'block' : 'none';\n",
              "\n",
              "        async function convertToInteractive(key) {\n",
              "          const element = document.querySelector('#df-8a752fac-0c31-4284-81b3-715d025f8b27');\n",
              "          const dataTable =\n",
              "            await google.colab.kernel.invokeFunction('convertToInteractive',\n",
              "                                                     [key], {});\n",
              "          if (!dataTable) return;\n",
              "\n",
              "          const docLinkHtml = 'Like what you see? Visit the ' +\n",
              "            '<a target=\"_blank\" href=https://colab.research.google.com/notebooks/data_table.ipynb>data table notebook</a>'\n",
              "            + ' to learn more about interactive tables.';\n",
              "          element.innerHTML = '';\n",
              "          dataTable['output_type'] = 'display_data';\n",
              "          await google.colab.output.renderOutput(dataTable, element);\n",
              "          const docLink = document.createElement('div');\n",
              "          docLink.innerHTML = docLinkHtml;\n",
              "          element.appendChild(docLink);\n",
              "        }\n",
              "      </script>\n",
              "    </div>\n",
              "  </div>\n",
              "  "
            ]
          },
          "metadata": {},
          "execution_count": 62
        }
      ]
    },
    {
      "cell_type": "markdown",
      "source": [
        "# The model\n",
        "\n",
        "Now that we have a database ready and with columns with predictive power, we can start our modelling. \n",
        "\n",
        "Two models will be tested: Random Forest and Gradient Boosting. The selected will be the one with best recall."
      ],
      "metadata": {
        "id": "U-m1R4d4wmQ-"
      }
    },
    {
      "cell_type": "code",
      "source": [
        "X = model_db.iloc[:, 3:]\n",
        "y = model_db[[\"target\"]]"
      ],
      "metadata": {
        "execution": {
          "iopub.status.busy": "2022-11-19T16:04:10.527167Z",
          "iopub.execute_input": "2022-11-19T16:04:10.5275Z",
          "iopub.status.idle": "2022-11-19T16:04:10.540069Z",
          "shell.execute_reply.started": "2022-11-19T16:04:10.527471Z",
          "shell.execute_reply": "2022-11-19T16:04:10.538758Z"
        },
        "trusted": true,
        "id": "IZLphfVVwmQ_"
      },
      "execution_count": 63,
      "outputs": []
    },
    {
      "cell_type": "code",
      "source": [
        "from sklearn.ensemble import RandomForestClassifier, GradientBoostingClassifier\n",
        "from sklearn.model_selection import train_test_split, GridSearchCV"
      ],
      "metadata": {
        "execution": {
          "iopub.status.busy": "2022-11-19T16:04:10.541485Z",
          "iopub.execute_input": "2022-11-19T16:04:10.541963Z",
          "iopub.status.idle": "2022-11-19T16:04:10.555071Z",
          "shell.execute_reply.started": "2022-11-19T16:04:10.541918Z",
          "shell.execute_reply": "2022-11-19T16:04:10.553935Z"
        },
        "trusted": true,
        "id": "zR3Ll1m2wmQ_"
      },
      "execution_count": 64,
      "outputs": []
    },
    {
      "cell_type": "code",
      "source": [
        "X_train, X_test, y_train, y_test = train_test_split(X, y, test_size= 0.2, random_state=1)"
      ],
      "metadata": {
        "execution": {
          "iopub.status.busy": "2022-11-19T16:04:10.556653Z",
          "iopub.execute_input": "2022-11-19T16:04:10.557282Z",
          "iopub.status.idle": "2022-11-19T16:04:10.579573Z",
          "shell.execute_reply.started": "2022-11-19T16:04:10.55723Z",
          "shell.execute_reply": "2022-11-19T16:04:10.578308Z"
        },
        "trusted": true,
        "id": "vJbcM8xhwmQ_"
      },
      "execution_count": 65,
      "outputs": []
    },
    {
      "cell_type": "code",
      "source": [
        "gb = GradientBoostingClassifier(random_state=5)\n",
        "\n",
        "params = {\"learning_rate\": [0.01, 0.1, 0.5],\n",
        "            \"min_samples_split\": [5, 10],\n",
        "            \"min_samples_leaf\": [3, 5],\n",
        "            \"max_depth\":[3,5,10],\n",
        "            \"max_features\":[\"sqrt\"],\n",
        "            \"n_estimators\":[100, 200]\n",
        "         } \n",
        "\n",
        "gb_cv = GridSearchCV(gb, params, cv = 3, n_jobs = -1, verbose = False)\n",
        "\n",
        "gb_cv.fit(X_train.values, np.ravel(y_train))"
      ],
      "metadata": {
        "execution": {
          "iopub.status.busy": "2022-11-19T16:04:10.583801Z",
          "iopub.execute_input": "2022-11-19T16:04:10.58428Z",
          "iopub.status.idle": "2022-11-19T16:05:06.413026Z",
          "shell.execute_reply.started": "2022-11-19T16:04:10.584205Z",
          "shell.execute_reply": "2022-11-19T16:05:06.411945Z"
        },
        "trusted": true,
        "colab": {
          "base_uri": "https://localhost:8080/"
        },
        "id": "8oirnR2zwmQ_",
        "outputId": "ae186b70-d51e-439c-c9c7-7ab1154cbcc4"
      },
      "execution_count": 66,
      "outputs": [
        {
          "output_type": "execute_result",
          "data": {
            "text/plain": [
              "GridSearchCV(cv=3, estimator=GradientBoostingClassifier(random_state=5),\n",
              "             n_jobs=-1,\n",
              "             param_grid={'learning_rate': [0.01, 0.1, 0.5],\n",
              "                         'max_depth': [3, 5, 10], 'max_features': ['sqrt'],\n",
              "                         'min_samples_leaf': [3, 5],\n",
              "                         'min_samples_split': [5, 10],\n",
              "                         'n_estimators': [100, 200]},\n",
              "             verbose=False)"
            ]
          },
          "metadata": {},
          "execution_count": 66
        }
      ]
    },
    {
      "cell_type": "code",
      "source": [
        "gb = gb_cv.best_estimator_"
      ],
      "metadata": {
        "execution": {
          "iopub.status.busy": "2022-11-19T16:05:06.414295Z",
          "iopub.execute_input": "2022-11-19T16:05:06.414622Z",
          "iopub.status.idle": "2022-11-19T16:05:06.419211Z",
          "shell.execute_reply.started": "2022-11-19T16:05:06.41459Z",
          "shell.execute_reply": "2022-11-19T16:05:06.41831Z"
        },
        "trusted": true,
        "id": "OhrNQ4-rwmQ_"
      },
      "execution_count": 67,
      "outputs": []
    },
    {
      "cell_type": "code",
      "source": [
        "gb"
      ],
      "metadata": {
        "execution": {
          "iopub.status.busy": "2022-11-19T16:05:06.420657Z",
          "iopub.execute_input": "2022-11-19T16:05:06.421212Z",
          "iopub.status.idle": "2022-11-19T16:05:06.435299Z",
          "shell.execute_reply.started": "2022-11-19T16:05:06.421179Z",
          "shell.execute_reply": "2022-11-19T16:05:06.434184Z"
        },
        "trusted": true,
        "colab": {
          "base_uri": "https://localhost:8080/"
        },
        "id": "w7AI2NJpwmQ_",
        "outputId": "688eadd6-250c-416a-9b09-000ddb0c48cd"
      },
      "execution_count": 68,
      "outputs": [
        {
          "output_type": "execute_result",
          "data": {
            "text/plain": [
              "GradientBoostingClassifier(max_features='sqrt', min_samples_leaf=5,\n",
              "                           min_samples_split=5, random_state=5)"
            ]
          },
          "metadata": {},
          "execution_count": 68
        }
      ]
    },
    {
      "cell_type": "code",
      "source": [
        "params_rf = {\"max_depth\": [20],\n",
        "                \"min_samples_split\": [10],\n",
        "                \"max_leaf_nodes\": [175],\n",
        "                \"min_samples_leaf\": [5],\n",
        "                \"n_estimators\": [250],\n",
        "                 \"max_features\": [\"sqrt\"],\n",
        "                }\n",
        "\n",
        "rf = RandomForestClassifier(random_state=1)\n",
        "\n",
        "rf_cv = GridSearchCV(rf, params_rf, cv = 3, n_jobs = -1, verbose = False)\n",
        "\n",
        "rf_cv.fit(X_train.values, np.ravel(y_train))"
      ],
      "metadata": {
        "execution": {
          "iopub.status.busy": "2022-11-19T16:05:06.436954Z",
          "iopub.execute_input": "2022-11-19T16:05:06.437373Z",
          "iopub.status.idle": "2022-11-19T16:05:09.237012Z",
          "shell.execute_reply.started": "2022-11-19T16:05:06.437335Z",
          "shell.execute_reply": "2022-11-19T16:05:09.235743Z"
        },
        "trusted": true,
        "colab": {
          "base_uri": "https://localhost:8080/"
        },
        "id": "6Xkf_GZDwmQ_",
        "outputId": "564932fc-fe08-4f51-febf-08c5d2e543b0"
      },
      "execution_count": 69,
      "outputs": [
        {
          "output_type": "execute_result",
          "data": {
            "text/plain": [
              "GridSearchCV(cv=3, estimator=RandomForestClassifier(random_state=1), n_jobs=-1,\n",
              "             param_grid={'max_depth': [20], 'max_features': ['sqrt'],\n",
              "                         'max_leaf_nodes': [175], 'min_samples_leaf': [5],\n",
              "                         'min_samples_split': [10], 'n_estimators': [250]},\n",
              "             verbose=False)"
            ]
          },
          "metadata": {},
          "execution_count": 69
        }
      ]
    },
    {
      "cell_type": "code",
      "source": [
        "rf = rf_cv.best_estimator_"
      ],
      "metadata": {
        "execution": {
          "iopub.status.busy": "2022-11-19T16:05:09.238658Z",
          "iopub.execute_input": "2022-11-19T16:05:09.239014Z",
          "iopub.status.idle": "2022-11-19T16:05:09.243741Z",
          "shell.execute_reply.started": "2022-11-19T16:05:09.238982Z",
          "shell.execute_reply": "2022-11-19T16:05:09.24254Z"
        },
        "trusted": true,
        "id": "F9OtRPPrwmQ_"
      },
      "execution_count": 70,
      "outputs": []
    },
    {
      "cell_type": "code",
      "source": [
        "from sklearn.metrics import confusion_matrix, roc_curve, roc_auc_score"
      ],
      "metadata": {
        "execution": {
          "iopub.status.busy": "2022-11-19T16:05:09.244957Z",
          "iopub.execute_input": "2022-11-19T16:05:09.245707Z",
          "iopub.status.idle": "2022-11-19T16:05:09.25858Z",
          "shell.execute_reply.started": "2022-11-19T16:05:09.245658Z",
          "shell.execute_reply": "2022-11-19T16:05:09.257274Z"
        },
        "trusted": true,
        "id": "gAEPyhatwmQ_"
      },
      "execution_count": 71,
      "outputs": []
    },
    {
      "cell_type": "code",
      "source": [
        "def analyze(model):\n",
        "    fpr, tpr, _ = roc_curve(y_test, model.predict_proba(X_test.values)[:,1]) #test AUC\n",
        "    plt.figure(figsize=(15,10))\n",
        "    plt.plot([0, 1], [0, 1], 'k--')\n",
        "    plt.plot(fpr, tpr, label=\"test\")\n",
        "\n",
        "    fpr_train, tpr_train, _ = roc_curve(y_train, model.predict_proba(X_train.values)[:,1]) #train AUC\n",
        "    plt.plot(fpr_train, tpr_train, label=\"train\")\n",
        "    auc_test = roc_auc_score(y_test, model.predict_proba(X_test.values)[:,1])\n",
        "    auc_train = roc_auc_score(y_train, model.predict_proba(X_train.values)[:,1])\n",
        "    plt.legend()\n",
        "    plt.title('AUC score is %.2f on test and %.2f on training'%(auc_test, auc_train))\n",
        "    plt.show()\n",
        "    \n",
        "    plt.figure(figsize=(15, 10))\n",
        "    cm = confusion_matrix(y_test, model.predict(X_test.values))\n",
        "    sns.heatmap(cm, annot=True, fmt=\"d\")"
      ],
      "metadata": {
        "execution": {
          "iopub.status.busy": "2022-11-19T16:05:09.259978Z",
          "iopub.execute_input": "2022-11-19T16:05:09.260323Z",
          "iopub.status.idle": "2022-11-19T16:05:09.272577Z",
          "shell.execute_reply.started": "2022-11-19T16:05:09.260293Z",
          "shell.execute_reply": "2022-11-19T16:05:09.271361Z"
        },
        "trusted": true,
        "id": "0Oha0WPYwmQ_"
      },
      "execution_count": 72,
      "outputs": []
    },
    {
      "cell_type": "code",
      "source": [
        "analyze(gb)"
      ],
      "metadata": {
        "execution": {
          "iopub.status.busy": "2022-11-19T16:05:09.276381Z",
          "iopub.execute_input": "2022-11-19T16:05:09.27677Z",
          "iopub.status.idle": "2022-11-19T16:05:09.852558Z",
          "shell.execute_reply.started": "2022-11-19T16:05:09.276736Z",
          "shell.execute_reply": "2022-11-19T16:05:09.85139Z"
        },
        "trusted": true,
        "colab": {
          "base_uri": "https://localhost:8080/",
          "height": 1000
        },
        "id": "d_MZ_6S8wmRA",
        "outputId": "71e74a36-707b-4b4c-83b7-9ced72e01a32"
      },
      "execution_count": 73,
      "outputs": [
        {
          "output_type": "display_data",
          "data": {
            "text/plain": [
              "<Figure size 1080x720 with 1 Axes>"
            ],
            "image/png": "[encoded data removed]"
          },
          "metadata": {
            "needs_background": "light"
          }
        },
        {
          "output_type": "display_data",
          "data": {
            "text/plain": [
              "<Figure size 1080x720 with 2 Axes>"
            ],
            "image/png": "[encoded data removed]"
          },
          "metadata": {
            "needs_background": "light"
          }
        }
      ]
    },
    {
      "cell_type": "code",
      "source": [
        "analyze(rf)"
      ],
      "metadata": {
        "execution": {
          "iopub.status.busy": "2022-11-19T16:05:09.853848Z",
          "iopub.execute_input": "2022-11-19T16:05:09.854178Z",
          "iopub.status.idle": "2022-11-19T16:05:10.836476Z",
          "shell.execute_reply.started": "2022-11-19T16:05:09.854147Z",
          "shell.execute_reply": "2022-11-19T16:05:10.835294Z"
        },
        "trusted": true,
        "colab": {
          "base_uri": "https://localhost:8080/",
          "height": 1000
        },
        "id": "h2ZOrfYrwmRA",
        "outputId": "2404d6f9-b27e-4428-96e2-299b3d30f82c"
      },
      "execution_count": 74,
      "outputs": [
        {
          "output_type": "display_data",
          "data": {
            "text/plain": [
              "<Figure size 1080x720 with 1 Axes>"
            ],
            "image/png": "[encoded data removed]"
          },
          "metadata": {
            "needs_background": "light"
          }
        },
        {
          "output_type": "display_data",
          "data": {
            "text/plain": [
              "<Figure size 1080x720 with 2 Axes>"
            ],
            "image/png": "[encoded data removed]"
          },
          "metadata": {
            "needs_background": "light"
          }
        }
      ]
    },
    {
      "cell_type": "markdown",
      "source": [
        "The Random Forest model is a little bit better but seems to underfit. So, we will use the Gradient Boosting Model."
      ],
      "metadata": {
        "id": "Qq1fhvfiwmRA"
      }
    },
    {
      "cell_type": "code",
      "source": [
        "from operator import itemgetter"
      ],
      "metadata": {
        "execution": {
          "iopub.status.busy": "2022-11-19T16:05:10.838026Z",
          "iopub.execute_input": "2022-11-19T16:05:10.838427Z",
          "iopub.status.idle": "2022-11-19T16:05:10.844444Z",
          "shell.execute_reply.started": "2022-11-19T16:05:10.838392Z",
          "shell.execute_reply": "2022-11-19T16:05:10.843164Z"
        },
        "trusted": true,
        "id": "7RzoTXWYwmRA"
      },
      "execution_count": 75,
      "outputs": []
    },
    {
      "cell_type": "markdown",
      "source": [
        "# WC Simulation\n",
        "\n",
        "The first thing is to create FIFA World Cup games. To do this, I'll get in the wikipedia the teams and group phase matches."
      ],
      "metadata": {
        "id": "n9jwZ9WUwmRA"
      }
    },
    {
      "cell_type": "code",
      "source": [
        "matches = []\n",
        "groups = [\"A\", \"B\", \"C\", \"D\", \"E\", \"F\", \"G\", \"H\"]\n",
        "group_count = 0 \n",
        "\n",
        "table = {\n",
        "    'A': [ ['Qatar', 0, []],  ['Ecuador', 0, []],  ['Senegal', 0, []],  ['Netherlands', 0, []] ] , \n",
        "    'B': [ ['England', 0, []],  ['Iran', 0, []],  ['United States', 0, []],  ['Wales', 0, []] ] ,\n",
        "    'C': [ ['Argentina', 0, []],  ['Saudi Arabia', 0, []],  ['Mexico', 0, []],  ['Poland', 0, []] ] ,\n",
        "    'D': [ ['France', 0, []],  ['Australia', 0, []],  ['Denmark', 0, []],  ['Tunisia', 0, []] ] ,\n",
        "    'E': [ ['Spain', 0, []],  ['Costa Rica', 0, []],  ['Germany', 0, []],  ['Japan', 0, []] ] ,\n",
        "    'F': [ ['Belgium', 0, []],  ['Canada', 0, []],  ['Morocco', 0, []],  ['Croatia', 0, []] ] ,\n",
        "    'G': [ ['Brazil', 0, []],  ['Serbia', 0, []],  ['Switzerland', 0, []],  ['Cameroon', 0, []] ] ,\n",
        "    'H': [ ['Portugal', 0, []],  ['Ghana', 0, []],  ['Uruguay', 0, []],  ['South Korea', 0, []] ]\n",
        "}\n",
        "\n",
        "matches = [\n",
        "  ('A', 'Qatar', 'Ecuador'),  ('A', 'Senegal', 'Netherlands'),  ('A', 'Qatar', 'Senegal'),\n",
        "  ('A', 'Netherlands', 'Ecuador'),  ('A', 'Ecuador', 'Senegal'),  ('A', 'Netherlands', 'Qatar'),\n",
        "\n",
        "  ('B', 'England', 'Iran'),  ('B', 'United States', 'Wales'),  ('B', 'Wales', 'Iran'),\n",
        "  ('B', 'England', 'United States'),  ('B', 'Wales', 'England'),  ('B', 'Iran', 'United States'),\n",
        "\n",
        "  ('C', 'Argentina', 'Saudi Arabia'),  ('C', 'Mexico', 'Poland'),  ('C', 'Poland', 'Saudi Arabia'),\n",
        "  ('C', 'Argentina', 'Mexico'),  ('C', 'Poland', 'Argentina'),  ('C', 'Saudi Arabia', 'Mexico'),\n",
        "\n",
        "  ('D', 'Denmark', 'Tunisia'),  ('D', 'France', 'Australia'),  ('D', 'Tunisia', 'Australia'),\n",
        "  ('D', 'France', 'Denmark'),  ('D', 'Australia', 'Denmark'),  ('D', 'Tunisia', 'France'),\n",
        "\n",
        "  ('E', 'Germany', 'Japan'),  ('E', 'Spain', 'Costa Rica'),  ('E', 'Japan', 'Costa Rica'),\n",
        "  ('E', 'Spain', 'Germany'),  ('E', 'Japan', 'Spain'),  ('E', 'Costa Rica', 'Germany'),\n",
        "\n",
        "  ('F', 'Morocco', 'Croatia'),  ('F', 'Belgium', 'Canada'),  ('F', 'Belgium', 'Morocco'),\n",
        "  ('F', 'Croatia', 'Canada'),  ('F', 'Croatia', 'Belgium'),  ('F', 'Canada', 'Morocco'),\n",
        "\n",
        "  ('G', 'Switzerland', 'Cameroon'),  ('G', 'Brazil', 'Serbia'),  ('G', 'Cameroon', 'Serbia'),\n",
        "  ('G', 'Brazil', 'Switzerland'),  ('G', 'Serbia', 'Switzerland'),  ('G', 'Cameroon', 'Brazil'),\n",
        "\n",
        "  ('H', 'Uruguay', 'South Korea'),  ('H', 'Portugal', 'Ghana'),  ('H', 'South Korea', 'Ghana'),\n",
        "  ('H', 'Portugal', 'Uruguay'),  ('H', 'Ghana', 'Uruguay'),  ('H', 'South Korea', 'Portugal')\n",
        " ]\n",
        "    \n"
      ],
      "metadata": {
        "id": "kh366b7y5K8L"
      },
      "execution_count": 76,
      "outputs": []
    },
    {
      "cell_type": "code",
      "source": [
        "table"
      ],
      "metadata": {
        "execution": {
          "iopub.status.busy": "2022-11-19T16:05:11.790101Z",
          "iopub.execute_input": "2022-11-19T16:05:11.790671Z",
          "iopub.status.idle": "2022-11-19T16:05:11.806005Z",
          "shell.execute_reply.started": "2022-11-19T16:05:11.790637Z",
          "shell.execute_reply": "2022-11-19T16:05:11.804937Z"
        },
        "trusted": true,
        "colab": {
          "base_uri": "https://localhost:8080/"
        },
        "id": "qJavvrN4wmRA",
        "outputId": "477680b8-6332-425d-d24e-08314a6426b0"
      },
      "execution_count": 77,
      "outputs": [
        {
          "output_type": "execute_result",
          "data": {
            "text/plain": [
              "{'A': [['Qatar', 0, []],\n",
              "  ['Ecuador', 0, []],\n",
              "  ['Senegal', 0, []],\n",
              "  ['Netherlands', 0, []]],\n",
              " 'B': [['England', 0, []],\n",
              "  ['Iran', 0, []],\n",
              "  ['United States', 0, []],\n",
              "  ['Wales', 0, []]],\n",
              " 'C': [['Argentina', 0, []],\n",
              "  ['Saudi Arabia', 0, []],\n",
              "  ['Mexico', 0, []],\n",
              "  ['Poland', 0, []]],\n",
              " 'D': [['France', 0, []],\n",
              "  ['Australia', 0, []],\n",
              "  ['Denmark', 0, []],\n",
              "  ['Tunisia', 0, []]],\n",
              " 'E': [['Spain', 0, []],\n",
              "  ['Costa Rica', 0, []],\n",
              "  ['Germany', 0, []],\n",
              "  ['Japan', 0, []]],\n",
              " 'F': [['Belgium', 0, []],\n",
              "  ['Canada', 0, []],\n",
              "  ['Morocco', 0, []],\n",
              "  ['Croatia', 0, []]],\n",
              " 'G': [['Brazil', 0, []],\n",
              "  ['Serbia', 0, []],\n",
              "  ['Switzerland', 0, []],\n",
              "  ['Cameroon', 0, []]],\n",
              " 'H': [['Portugal', 0, []],\n",
              "  ['Ghana', 0, []],\n",
              "  ['Uruguay', 0, []],\n",
              "  ['South Korea', 0, []]]}"
            ]
          },
          "metadata": {},
          "execution_count": 77
        }
      ]
    },
    {
      "cell_type": "markdown",
      "source": [
        "Above, we also store the team's points at the group and its probabilities of win in each game. The mean of team's wins probabilities will be used as tiebreaker when two teams have the same number of points."
      ],
      "metadata": {
        "id": "lrWM8nQWwmRA"
      }
    },
    {
      "cell_type": "code",
      "source": [
        "matches[:48]"
      ],
      "metadata": {
        "execution": {
          "iopub.status.busy": "2022-11-19T16:05:11.807444Z",
          "iopub.execute_input": "2022-11-19T16:05:11.808534Z",
          "iopub.status.idle": "2022-11-19T16:05:11.819128Z",
          "shell.execute_reply.started": "2022-11-19T16:05:11.80849Z",
          "shell.execute_reply": "2022-11-19T16:05:11.818299Z"
        },
        "trusted": true,
        "colab": {
          "base_uri": "https://localhost:8080/"
        },
        "id": "TZwMMhiYwmRB",
        "outputId": "c6152b27-6a19-4d53-cae4-ddb1ed425ac2"
      },
      "execution_count": 78,
      "outputs": [
        {
          "output_type": "execute_result",
          "data": {
            "text/plain": [
              "[('A', 'Qatar', 'Ecuador'),\n",
              " ('A', 'Senegal', 'Netherlands'),\n",
              " ('A', 'Qatar', 'Senegal'),\n",
              " ('A', 'Netherlands', 'Ecuador'),\n",
              " ('A', 'Ecuador', 'Senegal'),\n",
              " ('A', 'Netherlands', 'Qatar'),\n",
              " ('B', 'England', 'Iran'),\n",
              " ('B', 'United States', 'Wales'),\n",
              " ('B', 'Wales', 'Iran'),\n",
              " ('B', 'England', 'United States'),\n",
              " ('B', 'Wales', 'England'),\n",
              " ('B', 'Iran', 'United States'),\n",
              " ('C', 'Argentina', 'Saudi Arabia'),\n",
              " ('C', 'Mexico', 'Poland'),\n",
              " ('C', 'Poland', 'Saudi Arabia'),\n",
              " ('C', 'Argentina', 'Mexico'),\n",
              " ('C', 'Poland', 'Argentina'),\n",
              " ('C', 'Saudi Arabia', 'Mexico'),\n",
              " ('D', 'Denmark', 'Tunisia'),\n",
              " ('D', 'France', 'Australia'),\n",
              " ('D', 'Tunisia', 'Australia'),\n",
              " ('D', 'France', 'Denmark'),\n",
              " ('D', 'Australia', 'Denmark'),\n",
              " ('D', 'Tunisia', 'France'),\n",
              " ('E', 'Germany', 'Japan'),\n",
              " ('E', 'Spain', 'Costa Rica'),\n",
              " ('E', 'Japan', 'Costa Rica'),\n",
              " ('E', 'Spain', 'Germany'),\n",
              " ('E', 'Japan', 'Spain'),\n",
              " ('E', 'Costa Rica', 'Germany'),\n",
              " ('F', 'Morocco', 'Croatia'),\n",
              " ('F', 'Belgium', 'Canada'),\n",
              " ('F', 'Belgium', 'Morocco'),\n",
              " ('F', 'Croatia', 'Canada'),\n",
              " ('F', 'Croatia', 'Belgium'),\n",
              " ('F', 'Canada', 'Morocco'),\n",
              " ('G', 'Switzerland', 'Cameroon'),\n",
              " ('G', 'Brazil', 'Serbia'),\n",
              " ('G', 'Cameroon', 'Serbia'),\n",
              " ('G', 'Brazil', 'Switzerland'),\n",
              " ('G', 'Serbia', 'Switzerland'),\n",
              " ('G', 'Cameroon', 'Brazil'),\n",
              " ('H', 'Uruguay', 'South Korea'),\n",
              " ('H', 'Portugal', 'Ghana'),\n",
              " ('H', 'South Korea', 'Ghana'),\n",
              " ('H', 'Portugal', 'Uruguay'),\n",
              " ('H', 'Ghana', 'Uruguay'),\n",
              " ('H', 'South Korea', 'Portugal')]"
            ]
          },
          "metadata": {},
          "execution_count": 78
        }
      ]
    },
    {
      "cell_type": "markdown",
      "source": [
        "I will use last game stats as the stats for each team involved in the game. Like, for Brazil vs Serbia, the stats of Brazil is the ones they had in the last game and for Serbia too."
      ],
      "metadata": {
        "id": "nqt_ZZrkwmRB"
      }
    },
    {
      "cell_type": "code",
      "source": [
        "def find_stats(team_1):\n",
        "#team_1 = \"Qatar\"\n",
        "    past_games = team_stats_raw[(team_stats_raw[\"team\"] == team_1)].sort_values(\"date\")\n",
        "    last5 = team_stats_raw[(team_stats_raw[\"team\"] == team_1)].sort_values(\"date\").tail(5)\n",
        "\n",
        "    team_1_rank = past_games[\"rank\"].values[-1]\n",
        "    team_1_goals = past_games.score.mean()\n",
        "    team_1_goals_l5 = last5.score.mean()\n",
        "    team_1_goals_suf = past_games.suf_score.mean()\n",
        "    team_1_goals_suf_l5 = last5.suf_score.mean()\n",
        "    team_1_rank_suf = past_games.rank_suf.mean()\n",
        "    team_1_rank_suf_l5 = last5.rank_suf.mean()\n",
        "    team_1_gp_rank = past_games.points_by_rank.mean()\n",
        "    team_1_gp_rank_l5 = last5.points_by_rank.mean()\n",
        "\n",
        "    return [team_1_rank, team_1_goals, team_1_goals_l5, team_1_goals_suf, team_1_goals_suf_l5, team_1_rank_suf, team_1_rank_suf_l5, team_1_gp_rank, team_1_gp_rank_l5]"
      ],
      "metadata": {
        "execution": {
          "iopub.status.busy": "2022-11-19T16:05:11.820833Z",
          "iopub.execute_input": "2022-11-19T16:05:11.821233Z",
          "iopub.status.idle": "2022-11-19T16:05:11.832339Z",
          "shell.execute_reply.started": "2022-11-19T16:05:11.8212Z",
          "shell.execute_reply": "2022-11-19T16:05:11.831022Z"
        },
        "trusted": true,
        "id": "BlRLYVwXwmRB"
      },
      "execution_count": 79,
      "outputs": []
    },
    {
      "cell_type": "code",
      "source": [
        "def find_features(team_1, team_2):\n",
        "    rank_dif = team_1[0] - team_2[0]\n",
        "    goals_dif = team_1[1] - team_2[1]\n",
        "    goals_dif_l5 = team_1[2] - team_2[2]\n",
        "    goals_suf_dif = team_1[3] - team_2[3]\n",
        "    goals_suf_dif_l5 = team_1[4] - team_2[4]\n",
        "    goals_per_ranking_dif = (team_1[1]/team_1[5]) - (team_2[1]/team_2[5])\n",
        "    dif_rank_agst = team_1[5] - team_2[5]\n",
        "    dif_rank_agst_l5 = team_1[6] - team_2[6]\n",
        "    dif_gp_rank = team_1[7] - team_2[7]\n",
        "    dif_gp_rank_l5 = team_1[8] - team_2[8]\n",
        "    \n",
        "    return [rank_dif, goals_dif, goals_dif_l5, goals_suf_dif, goals_suf_dif_l5, goals_per_ranking_dif, dif_rank_agst, dif_rank_agst_l5, dif_gp_rank, dif_gp_rank_l5, 1, 0]"
      ],
      "metadata": {
        "execution": {
          "iopub.status.busy": "2022-11-19T16:05:11.834296Z",
          "iopub.execute_input": "2022-11-19T16:05:11.83501Z",
          "iopub.status.idle": "2022-11-19T16:05:11.846997Z",
          "shell.execute_reply.started": "2022-11-19T16:05:11.834974Z",
          "shell.execute_reply": "2022-11-19T16:05:11.845638Z"
        },
        "trusted": true,
        "id": "Zgif2N-hwmRB"
      },
      "execution_count": 80,
      "outputs": []
    },
    {
      "cell_type": "markdown",
      "source": [
        "Now, we are able to simulate.\n",
        "\n",
        "Since the model simulates if team 1 will win or not win, it's needed to create some criteria to define a draw. Also, since we have not home advantage at World Cup, the idea is to predict game two times, changing team 1 and team 2. The team with the highest mean of probabilities will be assigned as winner. At the group phase, if \"home team\" win as team 1 and loses as team 2, or if \"home team\" win as team 2 and loses at team 1, there will be assigned a draw in that match."
      ],
      "metadata": {
        "id": "fXQjmk7ZwmRB"
      }
    },
    {
      "cell_type": "markdown",
      "source": [
        "2022 World Cup Group Round Results:\n",
        "\n",
        "- A: Netherlands 7, Senegal 6, Ecuador 4, Qatar 0\n",
        "- B: England 7, United States 5, Iran 3, Wales 1\n",
        "- C: Argentina 6, Poland 4, Mexico 4, Saudi Arabia 3\n",
        "- D: France 6, Australia 6, Tunisia 4, Denmark 1\n",
        "- E: Japan 6, Spain 4, Germany 4, Costa Rica 3\n",
        "- F: Morocco 7, Croatia 5, Belgium 4, Canada 0\n",
        "- G: Brazil 6, Switzerland 6, Cameroon 4, Serbia 1\n",
        "- H: Portugal 6, South Korea 4, Uruguay 4, Ghana 3"
      ],
      "metadata": {
        "id": "v265FFN_IAyF"
      }
    },
    {
      "cell_type": "markdown",
      "source": [
        "The group phase predicted no surprises, or maybe the draw between Brazil and Switzerland or France and Denmark. For the playoffs phase, I'll predict and show it graphically as made [here](https://www.kaggle.com/code/agostontorok/soccer-world-cup-2018-winner). "
      ],
      "metadata": {
        "id": "41cS8yn_wmRB"
      }
    },
    {
      "cell_type": "code",
      "source": [],
      "metadata": {
        "id": "VqMwiyL5WpnH"
      },
      "execution_count": null,
      "outputs": []
    },
    {
      "cell_type": "markdown",
      "source": [
        "## Simulate playoffs by each knockout round"
      ],
      "metadata": {
        "id": "7e_07kRRWwjN"
      }
    },
    {
      "cell_type": "markdown",
      "source": [
        "## [1] Round of 16"
      ],
      "metadata": {
        "id": "UOl5yFFU1q7j"
      }
    },
    {
      "cell_type": "code",
      "source": [
        "playoffs16 = {\"Round of 16\": []}\n",
        "advanced =[\n",
        "    ['Netherlands', 'Senegal'], ['England', 'United States'], ['Argentina', 'Poland'], ['France', 'Australia'],\n",
        "    ['Japan', 'Spain'], ['Morocco', 'Croatia'], ['Brazil', 'Switzerland'], ['Portugal', 'South Korea']\n",
        "]"
      ],
      "metadata": {
        "id": "wRM9jdZ8qSdi"
      },
      "execution_count": 103,
      "outputs": []
    },
    {
      "cell_type": "code",
      "source": [
        "for p in playoffs16.keys():\n",
        "    playoffs16[p] = []\n",
        "\n",
        "actual_round = \"\"\n",
        "next_rounds = []\n",
        "\n",
        "for p in playoffs16.keys():\n",
        "    if p == \"Round of 16\":\n",
        "        control = []\n",
        "        for a in range(0, len(advanced*2), 1):\n",
        "            if a < len(advanced):\n",
        "                if a % 2 == 0:\n",
        "                    control.append((advanced*2)[a][0])\n",
        "                else:\n",
        "                    control.append((advanced*2)[a][1])\n",
        "            else:\n",
        "                if a % 2 == 0:\n",
        "                    control.append((advanced*2)[a][1])\n",
        "                else:\n",
        "                    control.append((advanced*2)[a][0])\n",
        "\n",
        "        playoffs16[p] = [[control[c], control[c+1]] for c in range(0, len(control)-1, 1) if c%2 == 0]\n",
        "        \n",
        "        for i in range(0, len(playoffs16[p]), 1):\n",
        "            game = playoffs16[p][i]\n",
        "            \n",
        "            home = game[0]\n",
        "            away = game[1]\n",
        "            team_1 = find_stats(home)\n",
        "            team_2 = find_stats(away)\n",
        "\n",
        "            features_g1 = find_features(team_1, team_2)\n",
        "            features_g2 = find_features(team_2, team_1)\n",
        "            \n",
        "            probs_g1 = gb.predict_proba([features_g1])\n",
        "            probs_g2 = gb.predict_proba([features_g2])\n",
        "            \n",
        "            team_1_prob = (probs_g1[0][0] + probs_g2[0][1])/2\n",
        "            team_2_prob = (probs_g2[0][0] + probs_g1[0][1])/2\n",
        "            \n",
        "            if actual_round != p:\n",
        "                print(\"-\"*10)\n",
        "                print(\"Starting simulation of %s\"%(p))\n",
        "                print(\"-\"*10)\n",
        "                print(\"\\n\")\n",
        "            \n",
        "            if team_1_prob < team_2_prob:\n",
        "                print(\"%s vs. %s: %s advances with prob %.2f\"%(home, away, away, team_2_prob))\n",
        "                next_rounds.append(away)\n",
        "            else:\n",
        "                print(\"%s vs. %s: %s advances with prob %.2f\"%(home, away, home, team_1_prob))\n",
        "                next_rounds.append(home)\n",
        "            \n",
        "            game.append([team_1_prob, team_2_prob])\n",
        "            playoffs16[p][i] = game\n",
        "            actual_round = p"
      ],
      "metadata": {
        "colab": {
          "base_uri": "https://localhost:8080/"
        },
        "id": "IOXhnCahWpqy",
        "outputId": "c1694da7-47db-4ab8-ef59-589e9544ead0"
      },
      "execution_count": 104,
      "outputs": [
        {
          "output_type": "stream",
          "name": "stdout",
          "text": [
            "----------\n",
            "Starting simulation of Round of 16\n",
            "----------\n",
            "\n",
            "\n",
            "Netherlands vs. United States: United States advances with prob 0.60\n",
            "Argentina vs. Australia: Argentina advances with prob 0.80\n",
            "Japan vs. Croatia: Croatia advances with prob 0.61\n",
            "Brazil vs. South Korea: Brazil advances with prob 0.80\n",
            "Senegal vs. England: England advances with prob 0.66\n",
            "Poland vs. France: France advances with prob 0.66\n",
            "Spain vs. Morocco: Spain advances with prob 0.67\n",
            "Switzerland vs. Portugal: Portugal advances with prob 0.61\n"
          ]
        }
      ]
    },
    {
      "cell_type": "code",
      "source": [
        "next_rounds_predicted = next_rounds\n",
        "next_rounds_results = ['Netherlands', 'Argentina', 'Croatia', 'Brazil',\n",
        " 'England', 'France', 'Morocco', 'Portugal']"
      ],
      "metadata": {
        "id": "OiE17rk7WpuI"
      },
      "execution_count": 105,
      "outputs": []
    },
    {
      "cell_type": "code",
      "source": [
        "print(next_rounds_predicted)\n",
        "print(next_rounds_results)"
      ],
      "metadata": {
        "colab": {
          "base_uri": "https://localhost:8080/"
        },
        "id": "yMy-jEHDWpxp",
        "outputId": "bab4e4b4-12be-4983-fd2d-ccfc4c690037"
      },
      "execution_count": 106,
      "outputs": [
        {
          "output_type": "stream",
          "name": "stdout",
          "text": [
            "['United States', 'Argentina', 'Croatia', 'Brazil', 'England', 'France', 'Spain', 'Portugal']\n",
            "['Netherlands', 'Argentina', 'Croatia', 'Brazil', 'England', 'France', 'Morocco', 'Portugal']\n"
          ]
        }
      ]
    },
    {
      "cell_type": "markdown",
      "source": [
        "2022 World Cup Knockout Round Actual Results (Round of 16)\n",
        "\n",
        "- Netherlands 3 vs. United States 1\n",
        "- Argentina 2 vs. Australia 1\n",
        "- England 3 vs. Senegal 0\n",
        "- France 3 vs. Poland 1\n",
        "- Croatia 4 vs. Japan 1\n",
        "- Brazil 4 vs. South Korea 1\n",
        "- Morocco 3 vs. Spain 0 \n",
        "- Portugal 6 vs. Switzerland 1"
      ],
      "metadata": {
        "id": "-avTsmZF3Uvr"
      }
    },
    {
      "cell_type": "code",
      "source": [],
      "metadata": {
        "id": "BsNc0EpsWp06"
      },
      "execution_count": null,
      "outputs": []
    },
    {
      "cell_type": "markdown",
      "source": [
        "## [2] Quarter Final (Round of 8)"
      ],
      "metadata": {
        "id": "JyJNhoNtaY8M"
      }
    },
    {
      "cell_type": "code",
      "source": [
        "playoffs8 = {\"Round of 8\": []}\n",
        "advanced = next_rounds_results\n",
        "next_rounds = advanced\n",
        "print(advanced)"
      ],
      "metadata": {
        "colab": {
          "base_uri": "https://localhost:8080/"
        },
        "id": "oSrPgNOPqnQT",
        "outputId": "541072b7-c9e5-45e1-bc9f-0ca0928ee2c5"
      },
      "execution_count": 107,
      "outputs": [
        {
          "output_type": "stream",
          "name": "stdout",
          "text": [
            "['Netherlands', 'Argentina', 'Croatia', 'Brazil', 'England', 'France', 'Morocco', 'Portugal']\n"
          ]
        }
      ]
    },
    {
      "cell_type": "code",
      "source": [
        "for p in playoffs8.keys():\n",
        "    playoffs8[p] = []\n",
        "\n",
        "\n",
        "for p in playoffs8.keys():\n",
        "        playoffs8[p] = [[next_rounds[c], next_rounds[c+1]] for c in range(0, len(next_rounds)-1, 1) if c%2 == 0]\n",
        "        next_rounds = []\n",
        "        for i in range(0, len(playoffs8[p])):\n",
        "            game = playoffs8[p][i]\n",
        "            home = game[0]\n",
        "            away = game[1]\n",
        "            team_1 = find_stats(home)\n",
        "            team_2 = find_stats(away)\n",
        "            \n",
        "            features_g1 = find_features(team_1, team_2)\n",
        "            features_g2 = find_features(team_2, team_1)\n",
        "            \n",
        "            probs_g1 = gb.predict_proba([features_g1])\n",
        "            probs_g2 = gb.predict_proba([features_g2])\n",
        "            \n",
        "            team_1_prob = (probs_g1[0][0] + probs_g2[0][1])/2\n",
        "            team_2_prob = (probs_g2[0][0] + probs_g1[0][1])/2\n",
        "            \n",
        "            if actual_round != p:\n",
        "                print(\"-\"*10)\n",
        "                print(\"Starting simulation of %s\"%(p))\n",
        "                print(\"-\"*10)\n",
        "                print(\"\\n\")\n",
        "            \n",
        "            if team_1_prob < team_2_prob:\n",
        "                print(\"%s vs. %s: %s advances with prob %.2f\"%(home, away, away, team_2_prob))\n",
        "                next_rounds.append(away)\n",
        "            else:\n",
        "                print(\"%s vs. %s: %s advances with prob %.2f\"%(home, away, home, team_1_prob))\n",
        "                next_rounds.append(home)\n",
        "            game.append([team_1_prob, team_2_prob])\n",
        "            playoffs8[p][i] = game\n",
        "            actual_round = p"
      ],
      "metadata": {
        "colab": {
          "base_uri": "https://localhost:8080/"
        },
        "id": "B5GApPr_aYFt",
        "outputId": "9324c38a-2811-435a-939a-a026941589b7"
      },
      "execution_count": 108,
      "outputs": [
        {
          "output_type": "stream",
          "name": "stdout",
          "text": [
            "----------\n",
            "Starting simulation of Round of 8\n",
            "----------\n",
            "\n",
            "\n",
            "Netherlands vs. Argentina: Argentina advances with prob 0.64\n",
            "Croatia vs. Brazil: Brazil advances with prob 0.68\n",
            "England vs. France: France advances with prob 0.51\n",
            "Morocco vs. Portugal: Portugal advances with prob 0.75\n"
          ]
        }
      ]
    },
    {
      "cell_type": "code",
      "source": [
        "next_rounds_predicted = next_rounds\n",
        "#next_rounds_results = ['www', 'xxx', 'yyy', 'zzz']\n",
        "next_rounds_results = next_rounds"
      ],
      "metadata": {
        "id": "lN2aMQaIaYNS"
      },
      "execution_count": 109,
      "outputs": []
    },
    {
      "cell_type": "code",
      "source": [
        "print(next_rounds_predicted)\n",
        "print(next_rounds_results)"
      ],
      "metadata": {
        "colab": {
          "base_uri": "https://localhost:8080/"
        },
        "id": "qikCnCtxaYTB",
        "outputId": "01cfb7d1-5e08-46ab-abbf-ea9f005188ff"
      },
      "execution_count": 110,
      "outputs": [
        {
          "output_type": "stream",
          "name": "stdout",
          "text": [
            "['Argentina', 'Brazil', 'France', 'Portugal']\n",
            "['Argentina', 'Brazil', 'France', 'Portugal']\n"
          ]
        }
      ]
    },
    {
      "cell_type": "markdown",
      "source": [
        "2022 World Cup Knockout Round Actual Results (Quarter Final)\n",
        "\n",
        "- XXX vs. YYY\n",
        "- WWW vs. ZZZ"
      ],
      "metadata": {
        "id": "1PZlPdwq3v0A"
      }
    },
    {
      "cell_type": "code",
      "source": [],
      "metadata": {
        "id": "clDg8x6zzkhd"
      },
      "execution_count": null,
      "outputs": []
    },
    {
      "cell_type": "markdown",
      "source": [
        "## [3] Semi Final (Round of 4)"
      ],
      "metadata": {
        "id": "iBSHHWzLxJZf"
      }
    },
    {
      "cell_type": "code",
      "source": [
        "playoffs4 = {\"Round of 4\": []}\n",
        "advanced = next_rounds_results\n",
        "next_rounds = advanced\n",
        "print(advanced)"
      ],
      "metadata": {
        "colab": {
          "base_uri": "https://localhost:8080/"
        },
        "id": "oIkXl4h8aYVc",
        "outputId": "9a063c6e-6ad8-4a88-fc7c-4a244d50c288"
      },
      "execution_count": 111,
      "outputs": [
        {
          "output_type": "stream",
          "name": "stdout",
          "text": [
            "['Argentina', 'Brazil', 'France', 'Portugal']\n"
          ]
        }
      ]
    },
    {
      "cell_type": "code",
      "source": [
        "for p in playoffs4.keys():\n",
        "    playoffs4[p] = []\n",
        "\n",
        "\n",
        "for p in playoffs4.keys():\n",
        "        playoffs4[p] = [[next_rounds[c], next_rounds[c+1]] for c in range(0, len(next_rounds)-1, 1) if c%2 == 0]\n",
        "        next_rounds = []\n",
        "        for i in range(0, len(playoffs4[p])):\n",
        "            game = playoffs4[p][i]\n",
        "            home = game[0]\n",
        "            away = game[1]\n",
        "            team_1 = find_stats(home)\n",
        "            team_2 = find_stats(away)\n",
        "            \n",
        "            features_g1 = find_features(team_1, team_2)\n",
        "            features_g2 = find_features(team_2, team_1)\n",
        "            \n",
        "            probs_g1 = gb.predict_proba([features_g1])\n",
        "            probs_g2 = gb.predict_proba([features_g2])\n",
        "            \n",
        "            team_1_prob = (probs_g1[0][0] + probs_g2[0][1])/2\n",
        "            team_2_prob = (probs_g2[0][0] + probs_g1[0][1])/2\n",
        "            \n",
        "            if actual_round != p:\n",
        "                print(\"-\"*10)\n",
        "                print(\"Starting simulation of %s\"%(p))\n",
        "                print(\"-\"*10)\n",
        "                print(\"\\n\")\n",
        "            \n",
        "            if team_1_prob < team_2_prob:\n",
        "                print(\"%s vs. %s: %s advances with prob %.2f\"%(home, away, away, team_2_prob))\n",
        "                next_rounds.append(away)\n",
        "            else:\n",
        "                print(\"%s vs. %s: %s advances with prob %.2f\"%(home, away, home, team_1_prob))\n",
        "                next_rounds.append(home)\n",
        "            game.append([team_1_prob, team_2_prob])\n",
        "            playoffs4[p][i] = game\n",
        "            actual_round = p"
      ],
      "metadata": {
        "colab": {
          "base_uri": "https://localhost:8080/"
        },
        "id": "XXmq5XLnxYbQ",
        "outputId": "4e2e1d81-1a70-4bc2-f71d-6075c45483fb"
      },
      "execution_count": 112,
      "outputs": [
        {
          "output_type": "stream",
          "name": "stdout",
          "text": [
            "----------\n",
            "Starting simulation of Round of 4\n",
            "----------\n",
            "\n",
            "\n",
            "Argentina vs. Brazil: Argentina advances with prob 0.52\n",
            "France vs. Portugal: Portugal advances with prob 0.61\n"
          ]
        }
      ]
    },
    {
      "cell_type": "code",
      "source": [
        "next_rounds_predicted = next_rounds\n",
        "#next_rounds_results = ['xxx', 'yyy']\n",
        "next_rounds_results = next_rounds"
      ],
      "metadata": {
        "id": "qgZ64DNTxYeZ"
      },
      "execution_count": 113,
      "outputs": []
    },
    {
      "cell_type": "code",
      "source": [
        "print(next_rounds_predicted)\n",
        "print(next_rounds_results)"
      ],
      "metadata": {
        "colab": {
          "base_uri": "https://localhost:8080/"
        },
        "id": "KccZHd9OxYia",
        "outputId": "f585ce95-7c45-4361-eeb2-7adf14e5741a"
      },
      "execution_count": 114,
      "outputs": [
        {
          "output_type": "stream",
          "name": "stdout",
          "text": [
            "['Argentina', 'Portugal']\n",
            "['Argentina', 'Portugal']\n"
          ]
        }
      ]
    },
    {
      "cell_type": "markdown",
      "source": [
        "2022 World Cup Knockout Round Actual Results (Semi Final)\n",
        "\n",
        "- XXX vs. YYY\n",
        "\n"
      ],
      "metadata": {
        "id": "EcHEbUnP4Ah1"
      }
    },
    {
      "cell_type": "code",
      "source": [],
      "metadata": {
        "id": "xCSAu1JDysrJ"
      },
      "execution_count": null,
      "outputs": []
    },
    {
      "cell_type": "markdown",
      "source": [
        "## [4] Final (Round of 2)"
      ],
      "metadata": {
        "id": "qr9lLqGlyt8l"
      }
    },
    {
      "cell_type": "code",
      "source": [
        "playoffs2 = {\"Round of 2\": []}\n",
        "advanced = next_rounds_results\n",
        "next_rounds = advanced\n",
        "print(advanced)"
      ],
      "metadata": {
        "colab": {
          "base_uri": "https://localhost:8080/"
        },
        "id": "MvWds9t-ysum",
        "outputId": "974cbb80-8057-4b7f-b538-c84cbfc5d23c"
      },
      "execution_count": 115,
      "outputs": [
        {
          "output_type": "stream",
          "name": "stdout",
          "text": [
            "['Argentina', 'Portugal']\n"
          ]
        }
      ]
    },
    {
      "cell_type": "code",
      "source": [
        "for p in playoffs2.keys():\n",
        "    playoffs2[p] = []\n",
        "\n",
        "\n",
        "for p in playoffs2.keys():\n",
        "        playoffs2[p] = [[next_rounds[c], next_rounds[c+1]] for c in range(0, len(next_rounds)-1, 1) if c%2 == 0]\n",
        "        next_rounds = []\n",
        "        for i in range(0, len(playoffs2[p])):\n",
        "            game = playoffs2[p][i]\n",
        "            home = game[0]\n",
        "            away = game[1]\n",
        "            team_1 = find_stats(home)\n",
        "            team_2 = find_stats(away)\n",
        "            \n",
        "            features_g1 = find_features(team_1, team_2)\n",
        "            features_g2 = find_features(team_2, team_1)\n",
        "            \n",
        "            probs_g1 = gb.predict_proba([features_g1])\n",
        "            probs_g2 = gb.predict_proba([features_g2])\n",
        "            \n",
        "            team_1_prob = (probs_g1[0][0] + probs_g2[0][1])/2\n",
        "            team_2_prob = (probs_g2[0][0] + probs_g1[0][1])/2\n",
        "            \n",
        "            if actual_round != p:\n",
        "                print(\"-\"*10)\n",
        "                print(\"Starting simulation of %s\"%(p))\n",
        "                print(\"-\"*10)\n",
        "                print(\"\\n\")\n",
        "            \n",
        "            if team_1_prob < team_2_prob:\n",
        "                print(\"%s vs. %s: %s advances with prob %.2f\"%(home, away, away, team_2_prob))\n",
        "                next_rounds.append(away)\n",
        "            else:\n",
        "                print(\"%s vs. %s: %s advances with prob %.2f\"%(home, away, home, team_1_prob))\n",
        "                next_rounds.append(home)\n",
        "            game.append([team_1_prob, team_2_prob])\n",
        "            playoffs2[p][i] = game\n",
        "            actual_round = p"
      ],
      "metadata": {
        "colab": {
          "base_uri": "https://localhost:8080/"
        },
        "id": "HVrmQHQAysxl",
        "outputId": "0630d549-8717-4856-d85a-b3c0af37dcd8"
      },
      "execution_count": 116,
      "outputs": [
        {
          "output_type": "stream",
          "name": "stdout",
          "text": [
            "----------\n",
            "Starting simulation of Round of 2\n",
            "----------\n",
            "\n",
            "\n",
            "Argentina vs. Portugal: Argentina advances with prob 0.55\n"
          ]
        }
      ]
    },
    {
      "cell_type": "code",
      "source": [
        "next_rounds_predicted = next_rounds\n",
        "#next_rounds_results = ['xxx']\n",
        "next_rounds_results = next_rounds"
      ],
      "metadata": {
        "id": "_dnSBkIuys0e"
      },
      "execution_count": 117,
      "outputs": []
    },
    {
      "cell_type": "code",
      "source": [
        "print(next_rounds_predicted)\n",
        "print(next_rounds_results)"
      ],
      "metadata": {
        "colab": {
          "base_uri": "https://localhost:8080/"
        },
        "id": "DfgDPL9Qys3N",
        "outputId": "29fdbd1d-8bac-4417-ef4a-ed8f53c863a4"
      },
      "execution_count": 118,
      "outputs": [
        {
          "output_type": "stream",
          "name": "stdout",
          "text": [
            "['Argentina']\n",
            "['Argentina']\n"
          ]
        }
      ]
    },
    {
      "cell_type": "markdown",
      "source": [
        "2022 World Cup Knockout Round Actual Results (Final)\n",
        "\n",
        "- WWW"
      ],
      "metadata": {
        "id": "7ZQZeRlC4IXP"
      }
    },
    {
      "cell_type": "code",
      "source": [],
      "metadata": {
        "id": "jqlMJFnXys5u"
      },
      "execution_count": null,
      "outputs": []
    }
  ]
}