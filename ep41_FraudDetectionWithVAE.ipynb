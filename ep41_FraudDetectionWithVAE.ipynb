{
  "nbformat": 4,
  "nbformat_minor": 0,
  "metadata": {
    "colab": {
      "provenance": [],
      "collapsed_sections": []
    },
    "kernelspec": {
      "name": "python3",
      "display_name": "Python 3"
    },
    "language_info": {
      "name": "python"
    }
  },
  "cells": [
    {
      "cell_type": "markdown",
      "source": [
        "# Episode 41. Credit Card Fraud Detection With VAE"
      ],
      "metadata": {
        "id": "Co2QmJ2r9-34"
      }
    },
    {
      "cell_type": "markdown",
      "source": [
        "## Preparation Steps From Episode 35"
      ],
      "metadata": {
        "id": "UIk1tWMR_lmU"
      }
    },
    {
      "cell_type": "code",
      "source": [
        "# import libraries\n",
        "import numpy as np\n",
        "import pandas as pd\n",
        "import seaborn as sns\n",
        "import matplotlib.pyplot as plt\n",
        "from sklearn.model_selection import train_test_split\n",
        "from sklearn.preprocessing import StandardScaler\n",
        "import tensorflow as tf\n",
        "from tensorflow.keras.layers import Input, Dense, Lambda\n",
        "from tensorflow.keras.models import Model\n",
        "from tensorflow.keras import backend as K\n",
        "from tensorflow.keras import metrics\n",
        "from tensorflow.keras import regularizers"
      ],
      "metadata": {
        "id": "EaSLWUZX9_I-"
      },
      "execution_count": null,
      "outputs": []
    },
    {
      "cell_type": "code",
      "source": [
        "# Set Environment Variables\n",
        "%matplotlib inline\n",
        "RANDOM_SEED = 27\n",
        "LABELS = [\"Normal\", \"Fraud\"]"
      ],
      "metadata": {
        "id": "JBPr7Mt-_Bj_"
      },
      "execution_count": null,
      "outputs": []
    },
    {
      "cell_type": "code",
      "source": [
        "# Kaggle Credit Card Fraud Detection Data: https://www.kaggle.com/mlg-ulb/creditcardfraud6\n",
        "# Mount Your Account at Google Drive\n",
        "from google.colab import drive\n",
        "drive.mount('./mount')"
      ],
      "metadata": {
        "colab": {
          "base_uri": "https://localhost:8080/"
        },
        "id": "Vy8NwYlZ9_Pg",
        "outputId": "49be8e35-ced7-40a8-a6ff-6d3c95a313fc"
      },
      "execution_count": null,
      "outputs": [
        {
          "output_type": "stream",
          "name": "stdout",
          "text": [
            "Mounted at ./mount\n"
          ]
        }
      ]
    },
    {
      "cell_type": "code",
      "source": [
        "df = pd.read_csv(\"mount/My Drive/Colab Notebooks/creditcard.csv\")"
      ],
      "metadata": {
        "id": "4MdoHiel9_Ta"
      },
      "execution_count": null,
      "outputs": []
    },
    {
      "cell_type": "code",
      "source": [
        "# Time is irrelevant\n",
        "df2 = df.drop(['Time'], axis=1)\n",
        "# Standardize Amount\n",
        "#df2['Amount'] = StandardScaler().fit_transform(df2['Amount'].values.reshape(-1, 1))\n",
        "# split data\n",
        "X_train, X_test = train_test_split(df2, test_size=0.2, random_state=RANDOM_SEED)\n",
        "# Train on Normal (Class=0)\n",
        "X_train = X_train[X_train.Class == 0]\n",
        "# \"Class\" variable is not needed\n",
        "X_train = X_train.drop(['Class'], axis=1)\n",
        "# test data\n",
        "y_test = X_test['Class']\n",
        "X_test = X_test.drop(['Class'], axis=1)\n",
        "\n",
        "# Standardize data based on mean & sd of X_train\n",
        "mean = X_train.mean(axis=0)\n",
        "std = X_train.std(axis=0)\n",
        "X_train = (X_train - mean) / std\n",
        "X_test = (X_test - mean) / std\n",
        "\n",
        "# convert to numpy\n",
        "X_train = X_train.to_numpy()\n",
        "X_test = X_test.to_numpy()\n",
        "y_test = y_test.to_numpy()"
      ],
      "metadata": {
        "id": "5wkNh8a9-KgT"
      },
      "execution_count": null,
      "outputs": []
    },
    {
      "cell_type": "code",
      "source": [
        "# check standardization of the data\n",
        "print(np.mean(X_train,axis=0))\n",
        "print(np.std(X_train,axis=0))\n",
        "print(np.mean(X_test,axis=0))\n",
        "print(np.std(X_test,axis=0))"
      ],
      "metadata": {
        "id": "WGBeuOqa-Kjk"
      },
      "execution_count": null,
      "outputs": []
    },
    {
      "cell_type": "markdown",
      "source": [
        "## Now Start Fraud Detection"
      ],
      "metadata": {
        "id": "6dtSVGmHCtcw"
      }
    },
    {
      "cell_type": "markdown",
      "source": [
        "### (1) Set Up Variational Autoencoder Network"
      ],
      "metadata": {
        "id": "PeqOP18O5xw2"
      }
    },
    {
      "cell_type": "code",
      "source": [
        "import tensorflow as tf\n",
        "from tensorflow.keras.layers import Input, Dense, Lambda\n",
        "from tensorflow.keras.models import Model\n",
        "from tensorflow.keras import backend as K\n",
        "from tensorflow.keras import metrics\n",
        "from tensorflow.keras import regularizers"
      ],
      "metadata": {
        "id": "65SlRyJL6ZpJ"
      },
      "execution_count": null,
      "outputs": []
    },
    {
      "cell_type": "code",
      "source": [
        "# defining the key parameters\n",
        "batch_size = 100\n",
        "original_dim = 29\n",
        "latent_dim = 5\n",
        "intermediate_dim1 = 20\n",
        "intermediate_dim2 = 10\n",
        "epochs = 50\n",
        "epsilon_std = 1.0"
      ],
      "metadata": {
        "id": "JhnRM9xp5qos"
      },
      "execution_count": null,
      "outputs": []
    },
    {
      "cell_type": "code",
      "source": [
        "# sampling from mean and sd in VAE\n",
        "def sampling(args: tuple):\n",
        "    # we grab the variables from the tuple\n",
        "    z_mean, z_log_var = args\n",
        "    epsilon = K.random_normal(shape=(K.shape(z_mean)[0], latent_dim), mean=0.,\n",
        "                              stddev=epsilon_std)\n",
        "    return z_mean + K.exp(z_log_var / 2) * epsilon"
      ],
      "metadata": {
        "id": "ZsHkjMETWkP_"
      },
      "execution_count": null,
      "outputs": []
    },
    {
      "cell_type": "code",
      "source": [
        "#########################\n",
        "# input to our encoder\n",
        "#########################\n",
        "x = Input(shape=(original_dim,), name=\"input\")\n",
        "# intermediate layer\n",
        "#h1 = Dense(intermediate_dim1, activation='tanh', name=\"encoding1\")(x)\n",
        "h1 = Dense(intermediate_dim1, activation=\"tanh\", name=\"encoding1\", activity_regularizer=regularizers.l1(10e-5))(x)\n",
        "h = Dense(intermediate_dim2, activation='relu', name=\"encoding\")(h1)\n",
        "# defining the mean of the latent space\n",
        "z_mean = Dense(latent_dim, name=\"mean\")(h)\n",
        "# defining the log variance of the latent space\n",
        "z_log_var = Dense(latent_dim, name=\"log-variance\")(h)\n",
        "# note that \"output_shape\" isn't necessary with the TensorFlow backend\n",
        "z = Lambda(sampling, output_shape=(latent_dim,))([z_mean, z_log_var])\n",
        "# defining the encoder as a keras model\n",
        "encoder = Model(x, [z_mean, z_log_var, z], name=\"encoder\")\n",
        "# print out summary of what we just did\n",
        "encoder.summary()"
      ],
      "metadata": {
        "id": "ROnHTL-LWkUK",
        "colab": {
          "base_uri": "https://localhost:8080/"
        },
        "outputId": "2e3867a6-4977-43b1-88cd-2d62d19d6a41"
      },
      "execution_count": null,
      "outputs": [
        {
          "output_type": "stream",
          "name": "stdout",
          "text": [
            "Model: \"encoder\"\n",
            "__________________________________________________________________________________________________\n",
            " Layer (type)                   Output Shape         Param #     Connected to                     \n",
            "==================================================================================================\n",
            " input (InputLayer)             [(None, 29)]         0           []                               \n",
            "                                                                                                  \n",
            " encoding1 (Dense)              (None, 20)           600         ['input[0][0]']                  \n",
            "                                                                                                  \n",
            " encoding (Dense)               (None, 10)           210         ['encoding1[0][0]']              \n",
            "                                                                                                  \n",
            " mean (Dense)                   (None, 5)            55          ['encoding[0][0]']               \n",
            "                                                                                                  \n",
            " log-variance (Dense)           (None, 5)            55          ['encoding[0][0]']               \n",
            "                                                                                                  \n",
            " lambda (Lambda)                (None, 5)            0           ['mean[0][0]',                   \n",
            "                                                                  'log-variance[0][0]']           \n",
            "                                                                                                  \n",
            "==================================================================================================\n",
            "Total params: 920\n",
            "Trainable params: 920\n",
            "Non-trainable params: 0\n",
            "__________________________________________________________________________________________________\n"
          ]
        }
      ]
    },
    {
      "cell_type": "code",
      "source": [
        "#########################\n",
        "# Input to the decoder\n",
        "#########################\n",
        "input_decoder = Input(shape=(latent_dim,), name=\"decoder_input\")\n",
        "# taking the latent space to intermediate dimension\n",
        "decoder_h1 = Dense(intermediate_dim2, activation='relu', name=\"decoder_h2\")(input_decoder)\n",
        "decoder_h = Dense(intermediate_dim1, activation='relu', name=\"decoder_h\")(decoder_h1)\n",
        "# getting the mean from the original dimension\n",
        "x_decoded = Dense(original_dim, activation='tanh', name=\"flat_decoded\")(decoder_h)\n",
        "# defining the decoder as a keras model\n",
        "decoder = Model(input_decoder, x_decoded, name=\"decoder\")\n",
        "decoder.summary()"
      ],
      "metadata": {
        "id": "-DwdMUSTWkW-",
        "colab": {
          "base_uri": "https://localhost:8080/"
        },
        "outputId": "94f99d8e-77da-4681-ffea-001d466f42dc"
      },
      "execution_count": null,
      "outputs": [
        {
          "output_type": "stream",
          "name": "stdout",
          "text": [
            "Model: \"decoder\"\n",
            "_________________________________________________________________\n",
            " Layer (type)                Output Shape              Param #   \n",
            "=================================================================\n",
            " decoder_input (InputLayer)  [(None, 5)]               0         \n",
            "                                                                 \n",
            " decoder_h2 (Dense)          (None, 10)                60        \n",
            "                                                                 \n",
            " decoder_h (Dense)           (None, 20)                220       \n",
            "                                                                 \n",
            " flat_decoded (Dense)        (None, 29)                609       \n",
            "                                                                 \n",
            "=================================================================\n",
            "Total params: 889\n",
            "Trainable params: 889\n",
            "Non-trainable params: 0\n",
            "_________________________________________________________________\n"
          ]
        }
      ]
    },
    {
      "cell_type": "code",
      "source": [
        "##########################\n",
        "# Variational Autoencoder\n",
        "##########################\n",
        "# grab the output. Recall, that we need to grab the 3rd element our sampling z\n",
        "output_combined = decoder(encoder(x)[2])\n",
        "# link the input and the overall output\n",
        "vae = Model(x, output_combined)\n",
        "# print out what the overall model looks like\n",
        "vae.summary()"
      ],
      "metadata": {
        "id": "vbk62db2WkZn",
        "colab": {
          "base_uri": "https://localhost:8080/"
        },
        "outputId": "91d0b79d-10dc-48e2-9df3-ee5c1460d7af"
      },
      "execution_count": null,
      "outputs": [
        {
          "output_type": "stream",
          "name": "stdout",
          "text": [
            "Model: \"model_1\"\n",
            "_________________________________________________________________\n",
            " Layer (type)                Output Shape              Param #   \n",
            "=================================================================\n",
            " input (InputLayer)          [(None, 29)]              0         \n",
            "                                                                 \n",
            " encoder (Functional)        [(None, 5),               920       \n",
            "                              (None, 5),                         \n",
            "                              (None, 5)]                         \n",
            "                                                                 \n",
            " decoder (Functional)        (None, 29)                889       \n",
            "                                                                 \n",
            "=================================================================\n",
            "Total params: 1,809\n",
            "Trainable params: 1,809\n",
            "Non-trainable params: 0\n",
            "_________________________________________________________________\n"
          ]
        }
      ]
    },
    {
      "cell_type": "code",
      "source": [
        "# Defina VAE Loss Function\n",
        "def vae_loss(x: tf.Tensor, x_decoded_mean: tf.Tensor,z_log_var=z_log_var, z_mean=z_mean, original_dim=original_dim):\n",
        "    xent_loss = original_dim * metrics.binary_crossentropy(x, x_decoded_mean)\n",
        "    kl_loss = - 0.5 * K.sum(1 + z_log_var - K.square(z_mean) - K.exp(z_log_var), axis=-1)\n",
        "    vae_loss = K.mean(xent_loss + kl_loss)\n",
        "    return vae_loss"
      ],
      "metadata": {
        "id": "8WjoRPpdWkca",
        "colab": {
          "base_uri": "https://localhost:8080/",
          "height": 236
        },
        "outputId": "8d99ea82-22d3-46a8-c05c-a7e504ccef53"
      },
      "execution_count": 1,
      "outputs": [
        {
          "output_type": "error",
          "ename": "NameError",
          "evalue": "ignored",
          "traceback": [
            "\u001b[0;31m---------------------------------------------------------------------------\u001b[0m",
            "\u001b[0;31mNameError\u001b[0m                                 Traceback (most recent call last)",
            "\u001b[0;32m<ipython-input-1-e5d09ef03b04>\u001b[0m in \u001b[0;36m<module>\u001b[0;34m\u001b[0m\n\u001b[1;32m      1\u001b[0m \u001b[0;31m# Defina VAE Loss Function\u001b[0m\u001b[0;34m\u001b[0m\u001b[0;34m\u001b[0m\u001b[0;34m\u001b[0m\u001b[0m\n\u001b[0;32m----> 2\u001b[0;31m \u001b[0;32mdef\u001b[0m \u001b[0mvae_loss\u001b[0m\u001b[0;34m(\u001b[0m\u001b[0mx\u001b[0m\u001b[0;34m:\u001b[0m \u001b[0mtf\u001b[0m\u001b[0;34m.\u001b[0m\u001b[0mTensor\u001b[0m\u001b[0;34m,\u001b[0m \u001b[0mx_decoded_mean\u001b[0m\u001b[0;34m:\u001b[0m \u001b[0mtf\u001b[0m\u001b[0;34m.\u001b[0m\u001b[0mTensor\u001b[0m\u001b[0;34m,\u001b[0m\u001b[0mz_log_var\u001b[0m\u001b[0;34m=\u001b[0m\u001b[0mz_log_var\u001b[0m\u001b[0;34m,\u001b[0m \u001b[0mz_mean\u001b[0m\u001b[0;34m=\u001b[0m\u001b[0mz_mean\u001b[0m\u001b[0;34m,\u001b[0m \u001b[0moriginal_dim\u001b[0m\u001b[0;34m=\u001b[0m\u001b[0moriginal_dim\u001b[0m\u001b[0;34m)\u001b[0m\u001b[0;34m:\u001b[0m\u001b[0;34m\u001b[0m\u001b[0;34m\u001b[0m\u001b[0m\n\u001b[0m\u001b[1;32m      3\u001b[0m     \u001b[0mxent_loss\u001b[0m \u001b[0;34m=\u001b[0m \u001b[0moriginal_dim\u001b[0m \u001b[0;34m*\u001b[0m \u001b[0mmetrics\u001b[0m\u001b[0;34m.\u001b[0m\u001b[0mbinary_crossentropy\u001b[0m\u001b[0;34m(\u001b[0m\u001b[0mx\u001b[0m\u001b[0;34m,\u001b[0m \u001b[0mx_decoded_mean\u001b[0m\u001b[0;34m)\u001b[0m\u001b[0;34m\u001b[0m\u001b[0;34m\u001b[0m\u001b[0m\n\u001b[1;32m      4\u001b[0m     \u001b[0mkl_loss\u001b[0m \u001b[0;34m=\u001b[0m \u001b[0;34m-\u001b[0m \u001b[0;36m0.5\u001b[0m \u001b[0;34m*\u001b[0m \u001b[0mK\u001b[0m\u001b[0;34m.\u001b[0m\u001b[0msum\u001b[0m\u001b[0;34m(\u001b[0m\u001b[0;36m1\u001b[0m \u001b[0;34m+\u001b[0m \u001b[0mz_log_var\u001b[0m \u001b[0;34m-\u001b[0m \u001b[0mK\u001b[0m\u001b[0;34m.\u001b[0m\u001b[0msquare\u001b[0m\u001b[0;34m(\u001b[0m\u001b[0mz_mean\u001b[0m\u001b[0;34m)\u001b[0m \u001b[0;34m-\u001b[0m \u001b[0mK\u001b[0m\u001b[0;34m.\u001b[0m\u001b[0mexp\u001b[0m\u001b[0;34m(\u001b[0m\u001b[0mz_log_var\u001b[0m\u001b[0;34m)\u001b[0m\u001b[0;34m,\u001b[0m \u001b[0maxis\u001b[0m\u001b[0;34m=\u001b[0m\u001b[0;34m-\u001b[0m\u001b[0;36m1\u001b[0m\u001b[0;34m)\u001b[0m\u001b[0;34m\u001b[0m\u001b[0;34m\u001b[0m\u001b[0m\n\u001b[1;32m      5\u001b[0m     \u001b[0mvae_loss\u001b[0m \u001b[0;34m=\u001b[0m \u001b[0mK\u001b[0m\u001b[0;34m.\u001b[0m\u001b[0mmean\u001b[0m\u001b[0;34m(\u001b[0m\u001b[0mxent_loss\u001b[0m \u001b[0;34m+\u001b[0m \u001b[0mkl_loss\u001b[0m\u001b[0;34m)\u001b[0m\u001b[0;34m\u001b[0m\u001b[0;34m\u001b[0m\u001b[0m\n",
            "\u001b[0;31mNameError\u001b[0m: name 'z_log_var' is not defined"
          ]
        }
      ]
    },
    {
      "cell_type": "code",
      "source": [
        "vae.compile(optimizer='adam', loss=vae_loss, metrics=['accuracy'])"
      ],
      "metadata": {
        "id": "2p7iGPS-Wkfh"
      },
      "execution_count": null,
      "outputs": []
    },
    {
      "cell_type": "markdown",
      "source": [
        "### (2) Train Neural Network"
      ],
      "metadata": {
        "id": "waiNSchtXFj7"
      }
    },
    {
      "cell_type": "code",
      "source": [
        "history = vae.fit(X_train, X_train,\n",
        "                    epochs=epochs,\n",
        "                    batch_size=batch_size,\n",
        "                    shuffle=True,\n",
        "                    validation_data=(X_test, X_test),\n",
        "                    verbose=1).history"
      ],
      "metadata": {
        "id": "hhYg1VmjWkiN",
        "colab": {
          "base_uri": "https://localhost:8080/"
        },
        "outputId": "9a2d7887-0cca-4ae4-e13f-b1a33eb8b3ed"
      },
      "execution_count": null,
      "outputs": [
        {
          "output_type": "stream",
          "name": "stdout",
          "text": [
            "Epoch 1/50\n",
            "2275/2275 [==============================] - 7s 3ms/step - loss: 0.8000 - accuracy: 0.1579 - val_loss: 0.7697 - val_accuracy: 0.1716\n",
            "Epoch 2/50\n",
            "2275/2275 [==============================] - 6s 3ms/step - loss: 0.6893 - accuracy: 0.2381 - val_loss: 0.7134 - val_accuracy: 0.2774\n",
            "Epoch 3/50\n",
            "2275/2275 [==============================] - 6s 2ms/step - loss: 0.6588 - accuracy: 0.2980 - val_loss: 0.6973 - val_accuracy: 0.3112\n",
            "Epoch 4/50\n",
            "2275/2275 [==============================] - 5s 2ms/step - loss: 0.6464 - accuracy: 0.3136 - val_loss: 0.6868 - val_accuracy: 0.3228\n",
            "Epoch 5/50\n",
            "2275/2275 [==============================] - 6s 3ms/step - loss: 0.6359 - accuracy: 0.3137 - val_loss: 0.6769 - val_accuracy: 0.3131\n",
            "Epoch 6/50\n",
            "2275/2275 [==============================] - 6s 3ms/step - loss: 0.6276 - accuracy: 0.3063 - val_loss: 0.6689 - val_accuracy: 0.3082\n",
            "Epoch 7/50\n",
            "2275/2275 [==============================] - 6s 3ms/step - loss: 0.6197 - accuracy: 0.2991 - val_loss: 0.6616 - val_accuracy: 0.2904\n",
            "Epoch 8/50\n",
            "2275/2275 [==============================] - 7s 3ms/step - loss: 0.6138 - accuracy: 0.3046 - val_loss: 0.6559 - val_accuracy: 0.3056\n",
            "Epoch 9/50\n",
            "2275/2275 [==============================] - 6s 2ms/step - loss: 0.6084 - accuracy: 0.3059 - val_loss: 0.6515 - val_accuracy: 0.2992\n",
            "Epoch 10/50\n",
            "2275/2275 [==============================] - 6s 3ms/step - loss: 0.6044 - accuracy: 0.3095 - val_loss: 0.6481 - val_accuracy: 0.3128\n",
            "Epoch 11/50\n",
            "2275/2275 [==============================] - 6s 2ms/step - loss: 0.6015 - accuracy: 0.3118 - val_loss: 0.6446 - val_accuracy: 0.3164\n",
            "Epoch 12/50\n",
            "2275/2275 [==============================] - 6s 3ms/step - loss: 0.5989 - accuracy: 0.3145 - val_loss: 0.6430 - val_accuracy: 0.3127\n",
            "Epoch 13/50\n",
            "2275/2275 [==============================] - 6s 2ms/step - loss: 0.5976 - accuracy: 0.3157 - val_loss: 0.6411 - val_accuracy: 0.3146\n",
            "Epoch 14/50\n",
            "2275/2275 [==============================] - 7s 3ms/step - loss: 0.5959 - accuracy: 0.3174 - val_loss: 0.6392 - val_accuracy: 0.3176\n",
            "Epoch 15/50\n",
            "2275/2275 [==============================] - 7s 3ms/step - loss: 0.5948 - accuracy: 0.3183 - val_loss: 0.6380 - val_accuracy: 0.3136\n",
            "Epoch 16/50\n",
            "2275/2275 [==============================] - 6s 3ms/step - loss: 0.5939 - accuracy: 0.3192 - val_loss: 0.6371 - val_accuracy: 0.3158\n",
            "Epoch 17/50\n",
            "2275/2275 [==============================] - 6s 3ms/step - loss: 0.5930 - accuracy: 0.3210 - val_loss: 0.6372 - val_accuracy: 0.3220\n",
            "Epoch 18/50\n",
            "2275/2275 [==============================] - 6s 3ms/step - loss: 0.5924 - accuracy: 0.3227 - val_loss: 0.6352 - val_accuracy: 0.3199\n",
            "Epoch 19/50\n",
            "2275/2275 [==============================] - 6s 3ms/step - loss: 0.5912 - accuracy: 0.3233 - val_loss: 0.6354 - val_accuracy: 0.3287\n",
            "Epoch 20/50\n",
            "2275/2275 [==============================] - 6s 3ms/step - loss: 0.5901 - accuracy: 0.3272 - val_loss: 0.6323 - val_accuracy: 0.3280\n",
            "Epoch 21/50\n",
            "2275/2275 [==============================] - 6s 2ms/step - loss: 0.5888 - accuracy: 0.3301 - val_loss: 0.6336 - val_accuracy: 0.3251\n",
            "Epoch 22/50\n",
            "2275/2275 [==============================] - 6s 3ms/step - loss: 0.5878 - accuracy: 0.3336 - val_loss: 0.6320 - val_accuracy: 0.3318\n",
            "Epoch 23/50\n",
            "2275/2275 [==============================] - 6s 2ms/step - loss: 0.5874 - accuracy: 0.3341 - val_loss: 0.6305 - val_accuracy: 0.3358\n",
            "Epoch 24/50\n",
            "2275/2275 [==============================] - 9s 4ms/step - loss: 0.5864 - accuracy: 0.3371 - val_loss: 0.6294 - val_accuracy: 0.3350\n",
            "Epoch 25/50\n",
            "2275/2275 [==============================] - 6s 3ms/step - loss: 0.5856 - accuracy: 0.3383 - val_loss: 0.6284 - val_accuracy: 0.3411\n",
            "Epoch 26/50\n",
            "2275/2275 [==============================] - 6s 2ms/step - loss: 0.5849 - accuracy: 0.3388 - val_loss: 0.6284 - val_accuracy: 0.3377\n",
            "Epoch 27/50\n",
            "2275/2275 [==============================] - 6s 2ms/step - loss: 0.5840 - accuracy: 0.3396 - val_loss: 0.6274 - val_accuracy: 0.3377\n",
            "Epoch 28/50\n",
            "2275/2275 [==============================] - 7s 3ms/step - loss: 0.5837 - accuracy: 0.3396 - val_loss: 0.6284 - val_accuracy: 0.3358\n",
            "Epoch 29/50\n",
            "2275/2275 [==============================] - 5s 2ms/step - loss: 0.5833 - accuracy: 0.3406 - val_loss: 0.6280 - val_accuracy: 0.3409\n",
            "Epoch 30/50\n",
            "2275/2275 [==============================] - 6s 2ms/step - loss: 0.5824 - accuracy: 0.3419 - val_loss: 0.6260 - val_accuracy: 0.3356\n",
            "Epoch 31/50\n",
            "2275/2275 [==============================] - 6s 3ms/step - loss: 0.5821 - accuracy: 0.3419 - val_loss: 0.6253 - val_accuracy: 0.3420\n",
            "Epoch 32/50\n",
            "2275/2275 [==============================] - 6s 3ms/step - loss: 0.5811 - accuracy: 0.3433 - val_loss: 0.6242 - val_accuracy: 0.3410\n",
            "Epoch 33/50\n",
            "2275/2275 [==============================] - 6s 3ms/step - loss: 0.5809 - accuracy: 0.3434 - val_loss: 0.6244 - val_accuracy: 0.3439\n",
            "Epoch 34/50\n",
            "2275/2275 [==============================] - 6s 2ms/step - loss: 0.5804 - accuracy: 0.3444 - val_loss: 0.6235 - val_accuracy: 0.3427\n",
            "Epoch 35/50\n",
            "2275/2275 [==============================] - 6s 2ms/step - loss: 0.5798 - accuracy: 0.3448 - val_loss: 0.6233 - val_accuracy: 0.3417\n",
            "Epoch 36/50\n",
            "2275/2275 [==============================] - 6s 2ms/step - loss: 0.5792 - accuracy: 0.3452 - val_loss: 0.6225 - val_accuracy: 0.3413\n",
            "Epoch 37/50\n",
            "2275/2275 [==============================] - 6s 2ms/step - loss: 0.5789 - accuracy: 0.3445 - val_loss: 0.6232 - val_accuracy: 0.3431\n",
            "Epoch 38/50\n",
            "2275/2275 [==============================] - 7s 3ms/step - loss: 0.5787 - accuracy: 0.3457 - val_loss: 0.6220 - val_accuracy: 0.3419\n",
            "Epoch 39/50\n",
            "2275/2275 [==============================] - 6s 3ms/step - loss: 0.5780 - accuracy: 0.3457 - val_loss: 0.6221 - val_accuracy: 0.3451\n",
            "Epoch 40/50\n",
            "2275/2275 [==============================] - 6s 3ms/step - loss: 0.5782 - accuracy: 0.3450 - val_loss: 0.6217 - val_accuracy: 0.3412\n",
            "Epoch 41/50\n",
            "2275/2275 [==============================] - 6s 2ms/step - loss: 0.5773 - accuracy: 0.3459 - val_loss: 0.6199 - val_accuracy: 0.3469\n",
            "Epoch 42/50\n",
            "2275/2275 [==============================] - 6s 2ms/step - loss: 0.5770 - accuracy: 0.3469 - val_loss: 0.6201 - val_accuracy: 0.3474\n",
            "Epoch 43/50\n",
            "2275/2275 [==============================] - 6s 2ms/step - loss: 0.5764 - accuracy: 0.3467 - val_loss: 0.6215 - val_accuracy: 0.3275\n",
            "Epoch 44/50\n",
            "2275/2275 [==============================] - 6s 2ms/step - loss: 0.5764 - accuracy: 0.3467 - val_loss: 0.6193 - val_accuracy: 0.3419\n",
            "Epoch 45/50\n",
            "2275/2275 [==============================] - 6s 2ms/step - loss: 0.5757 - accuracy: 0.3473 - val_loss: 0.6183 - val_accuracy: 0.3468\n",
            "Epoch 46/50\n",
            "2275/2275 [==============================] - 6s 3ms/step - loss: 0.5753 - accuracy: 0.3472 - val_loss: 0.6190 - val_accuracy: 0.3337\n",
            "Epoch 47/50\n",
            "2275/2275 [==============================] - 6s 2ms/step - loss: 0.5748 - accuracy: 0.3446 - val_loss: 0.6177 - val_accuracy: 0.3486\n",
            "Epoch 48/50\n",
            "2275/2275 [==============================] - 6s 3ms/step - loss: 0.5733 - accuracy: 0.3452 - val_loss: 0.6160 - val_accuracy: 0.3264\n",
            "Epoch 49/50\n",
            "2275/2275 [==============================] - 7s 3ms/step - loss: 0.5715 - accuracy: 0.3409 - val_loss: 0.6136 - val_accuracy: 0.3368\n",
            "Epoch 50/50\n",
            "2275/2275 [==============================] - 6s 2ms/step - loss: 0.5689 - accuracy: 0.3388 - val_loss: 0.6112 - val_accuracy: 0.3433\n"
          ]
        }
      ]
    },
    {
      "cell_type": "markdown",
      "source": [
        "### (3) Reconstruction Error"
      ],
      "metadata": {
        "id": "PcPQDR5u8SsK"
      }
    },
    {
      "cell_type": "code",
      "source": [
        "##########################################\n",
        "# prediction & reconstruction error\n",
        "##########################################\n",
        "predictions = vae.predict(X_test)\n",
        "mse = np.mean(np.power(X_test - predictions, 2), axis=1)\n",
        "error_df = pd.DataFrame({'reconstruction_error': mse, 'true_class': y_test})\n",
        "print(\"Full Sample\",error_df.describe())\n",
        "error_df_true = error_df[(error_df['true_class']== 0)]\n",
        "print(\"Normal Sample\",error_df_true.describe())\n",
        "error_df_false = error_df[(error_df['true_class']== 1)]\n",
        "print(\"Fraud Sample\",error_df_false.describe())"
      ],
      "metadata": {
        "id": "s6UURTLC59WQ",
        "colab": {
          "base_uri": "https://localhost:8080/"
        },
        "outputId": "00f43a12-aa3f-48ca-c338-a7bf4a2356b7"
      },
      "execution_count": null,
      "outputs": [
        {
          "output_type": "stream",
          "name": "stdout",
          "text": [
            "Full Sample        reconstruction_error    true_class\n",
            "count          56962.000000  56962.000000\n",
            "mean               0.609883      0.001826\n",
            "std                3.872142      0.042690\n",
            "min                0.013368      0.000000\n",
            "25%                0.145775      0.000000\n",
            "50%                0.252031      0.000000\n",
            "75%                0.441041      0.000000\n",
            "max              445.583622      1.000000\n",
            "Normal Sample        reconstruction_error  true_class\n",
            "count          56858.000000     56858.0\n",
            "mean               0.566929         0.0\n",
            "std                3.517796         0.0\n",
            "min                0.013368         0.0\n",
            "25%                0.145550         0.0\n",
            "50%                0.251519         0.0\n",
            "75%                0.439663         0.0\n",
            "max              445.583622         0.0\n",
            "Fraud Sample        reconstruction_error  true_class\n",
            "count            104.000000       104.0\n",
            "mean              24.092906         1.0\n",
            "std               30.046696         0.0\n",
            "min                0.172018         1.0\n",
            "25%                4.316016         1.0\n",
            "50%                9.340727         1.0\n",
            "75%               25.746410         1.0\n",
            "max              151.389621         1.0\n"
          ]
        }
      ]
    },
    {
      "cell_type": "markdown",
      "source": [
        "## Post Analysis"
      ],
      "metadata": {
        "id": "ASzvIz8WFtrV"
      }
    },
    {
      "cell_type": "code",
      "source": [
        "from sklearn.metrics import (confusion_matrix, precision_recall_curve, auc,\n",
        "                             roc_curve, recall_score, classification_report, f1_score,\n",
        "                             precision_recall_fscore_support)"
      ],
      "metadata": {
        "id": "AaxdUNrVHCVp"
      },
      "execution_count": null,
      "outputs": []
    },
    {
      "cell_type": "markdown",
      "source": [
        "### (1) Scatter Plot"
      ],
      "metadata": {
        "id": "41U2tYxbGst1"
      }
    },
    {
      "cell_type": "code",
      "source": [
        "# scatter plot\n",
        "threshold = 0.9\n",
        "groups = error_df.groupby('true_class')\n",
        "fig, ax = plt.subplots(figsize=(15, 10))\n",
        "\n",
        "for name, group in groups:\n",
        "    ax.plot(group.index, group.reconstruction_error, marker='o', ms=3.5, linestyle='',\n",
        "            label= \"Fraud\" if name == 1 else \"Normal\")\n",
        "ax.hlines(threshold, ax.get_xlim()[0], ax.get_xlim()[1], colors=\"r\", zorder=100, label='Threshold')\n",
        "ax.legend()\n",
        "plt.title(\"Reconstruction error for different classes\")\n",
        "plt.ylabel(\"Reconstruction error\")\n",
        "plt.xlabel(\"Data point index\")\n",
        "plt.show();"
      ],
      "metadata": {
        "colab": {
          "base_uri": "https://localhost:8080/",
          "height": 621
        },
        "id": "Jkz1XFEUDUwE",
        "outputId": "bd01885c-2482-4c2c-b787-ec2921d79443"
      },
      "execution_count": null,
      "outputs": [
        {
          "output_type": "display_data",
          "data": {
            "image/png": "[encoded data removed]",
            "text/plain": [
              "<Figure size 1080x720 with 1 Axes>"
            ]
          },
          "metadata": {
            "needs_background": "light"
          }
        }
      ]
    },
    {
      "cell_type": "markdown",
      "source": [
        "### (2) Confusion Matrix"
      ],
      "metadata": {
        "id": "PB7WEcz8Gvlj"
      }
    },
    {
      "cell_type": "code",
      "source": [
        "# confusion matrix\n",
        "threshold = 0.9\n",
        "# And see how well we're dividing the two types of transactions:\n",
        "groups = error_df.groupby('true_class')\n",
        "# predict fraud\n",
        "y_pred = [1 if e > threshold else 0 for e in error_df.reconstruction_error.values]\n",
        "conf_matrix = confusion_matrix(error_df.true_class, y_pred)\n",
        "# plot confusion matrix\n",
        "plt.figure(figsize=(8, 8))\n",
        "sns.heatmap(conf_matrix, xticklabels=LABELS, yticklabels=LABELS, annot=True, fmt=\"d\");\n",
        "plt.title(\"Confusion matrix\")\n",
        "plt.ylabel('True Class')\n",
        "plt.xlabel('Predicted Class')\n",
        "plt.show()"
      ],
      "metadata": {
        "colab": {
          "base_uri": "https://localhost:8080/",
          "height": 513
        },
        "id": "xEgxfBQvDUy_",
        "outputId": "2355c159-b53a-412e-9c62-fb8672b39c20"
      },
      "execution_count": null,
      "outputs": [
        {
          "output_type": "display_data",
          "data": {
            "image/png": "[encoded data removed]",
            "text/plain": [
              "<Figure size 576x576 with 2 Axes>"
            ]
          },
          "metadata": {
            "needs_background": "light"
          }
        }
      ]
    },
    {
      "cell_type": "markdown",
      "source": [
        "### (3) ROC Curve"
      ],
      "metadata": {
        "id": "4JJW59VKHI65"
      }
    },
    {
      "cell_type": "code",
      "source": [
        "# ROC\n",
        "fpr, tpr, thresholds = roc_curve(error_df.true_class, error_df.reconstruction_error)\n",
        "roc_auc = auc(fpr, tpr)\n",
        "# plot\n",
        "plt.title('Receiver Operating Characteristic')\n",
        "plt.plot(fpr, tpr, label='AUC = %0.4f'% roc_auc)\n",
        "plt.legend(loc='lower right')\n",
        "plt.plot([0,1],[0,1],'r--')\n",
        "plt.xlim([-0.001, 1])\n",
        "plt.ylim([0, 1.001])\n",
        "plt.ylabel('True Positive Rate')\n",
        "plt.xlabel('False Positive Rate')\n",
        "plt.show();"
      ],
      "metadata": {
        "colab": {
          "base_uri": "https://localhost:8080/",
          "height": 295
        },
        "id": "0WuqIHdNHJFb",
        "outputId": "c3781d7a-275d-4e61-abd9-3ee8930d7ed6"
      },
      "execution_count": null,
      "outputs": [
        {
          "output_type": "display_data",
          "data": {
            "image/png": "[encoded data removed]",
            "text/plain": [
              "<Figure size 432x288 with 1 Axes>"
            ]
          },
          "metadata": {
            "needs_background": "light"
          }
        }
      ]
    },
    {
      "cell_type": "code",
      "source": [],
      "metadata": {
        "id": "ix21AL9LDU1y"
      },
      "execution_count": null,
      "outputs": []
    }
  ]
}