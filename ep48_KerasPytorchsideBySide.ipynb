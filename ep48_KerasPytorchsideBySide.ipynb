{
  "cells": [
    {
      "cell_type": "markdown",
      "source": [
        "# Episode 48. Neural Network Example: Keras and PyTorch Side-By-Side"
      ],
      "metadata": {
        "id": "nQx1rBFOW9Wo"
      }
    },
    {
      "cell_type": "markdown",
      "source": [
        "# **Method 1. Keras Implementation**"
      ],
      "metadata": {
        "id": "kFBoZgM2f6b1"
      }
    },
    {
      "cell_type": "markdown",
      "source": [
        "## Import Libraries"
      ],
      "metadata": {
        "id": "DWcSDXtBXMlR"
      }
    },
    {
      "cell_type": "code",
      "source": [
        "import numpy as np\n",
        "import pandas as pd\n",
        "from tensorflow.keras.models import Sequential\n",
        "from tensorflow.keras.layers import Dense\n",
        "from sklearn.model_selection import train_test_split"
      ],
      "metadata": {
        "id": "mTlSTXYBXPL9"
      },
      "execution_count": 40,
      "outputs": []
    },
    {
      "cell_type": "markdown",
      "source": [
        "## Read Data"
      ],
      "metadata": {
        "id": "fmZ8PNOqacLR"
      }
    },
    {
      "cell_type": "code",
      "source": [
        "# Load Loan Default Data\n",
        "# Original Data Source: https://www.kaggle.com/kmldas/loan-default-prediction\n",
        "from google.colab import files\n",
        "uploaded = files.upload()"
      ],
      "metadata": {
        "colab": {
          "resources": {
            "http://localhost:8080/nbextensions/google.colab/files.js": {
              "data": "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",
              "ok": true,
              "headers": [
                [
                  "content-type",
                  "application/javascript"
                ]
              ],
              "status": 200,
              "status_text": ""
            }
          },
          "base_uri": "https://localhost:8080/",
          "height": 73
        },
        "id": "3WPuuTz4YCg9",
        "outputId": "735f38d1-28ed-4a62-e8d2-ff7907c7feda"
      },
      "execution_count": 41,
      "outputs": [
        {
          "output_type": "display_data",
          "data": {
            "text/html": [
              "\n",
              "     <input type=\"file\" id=\"files-a74a0906-6f50-4423-98be-af139aa9b98e\" name=\"files[]\" multiple disabled\n",
              "        style=\"border:none\" />\n",
              "     <output id=\"result-a74a0906-6f50-4423-98be-af139aa9b98e\">\n",
              "      Upload widget is only available when the cell has been executed in the\n",
              "      current browser session. Please rerun this cell to enable.\n",
              "      </output>\n",
              "      <script src=\"/nbextensions/google.colab/files.js\"></script> "
            ],
            "text/plain": [
              "<IPython.core.display.HTML object>"
            ]
          },
          "metadata": {}
        },
        {
          "output_type": "stream",
          "name": "stdout",
          "text": [
            "Saving Default_Fin.csv to Default_Fin (2).csv\n"
          ]
        }
      ]
    },
    {
      "cell_type": "code",
      "source": [
        "# Store data in DataFrame\n",
        "df = pd.read_csv(\"Default_Fin.csv\")"
      ],
      "metadata": {
        "id": "EeK_pHs5YCk9"
      },
      "execution_count": 42,
      "outputs": []
    },
    {
      "cell_type": "markdown",
      "source": [
        "## Cleanup Data"
      ],
      "metadata": {
        "id": "XVE15cuecjkX"
      }
    },
    {
      "cell_type": "code",
      "source": [
        "# Convert to numpy\n",
        "x = df[['Employed','Bank Balance','Annual Salary']].values\n",
        "y = df[['Defaulted?']].values"
      ],
      "metadata": {
        "id": "3BB-zgQ3YCon"
      },
      "execution_count": 43,
      "outputs": []
    },
    {
      "cell_type": "code",
      "source": [
        "# split data: train & test\n",
        "x_train, x_test, y_train, y_test = train_test_split(x, y, test_size=0.25, random_state=42)"
      ],
      "metadata": {
        "id": "Er3nZo7lYCwI"
      },
      "execution_count": 44,
      "outputs": []
    },
    {
      "cell_type": "code",
      "source": [
        "# Standardize data\n",
        "mean = x_train.mean(axis=0)\n",
        "std = x_train.std(axis=0)\n",
        "x_train = (x_train - mean) / std\n",
        "x_test = (x_test - mean) / std"
      ],
      "metadata": {
        "id": "YsP4JQGqj6S1"
      },
      "execution_count": 45,
      "outputs": []
    },
    {
      "cell_type": "markdown",
      "source": [
        "## Build Neural Network"
      ],
      "metadata": {
        "id": "UqB0UBsgc1S3"
      }
    },
    {
      "cell_type": "code",
      "source": [
        "# Build neural network\n",
        "model = Sequential()\n",
        "model.add(Dense(20, input_dim=x.shape[1], activation='relu')) # Hidden 1\n",
        "model.add(Dense(10, activation='relu')) # Hidden 2\n",
        "model.add(Dense(y.shape[1],activation='sigmoid')) # Output\n",
        "\n",
        "model.compile(loss='binary_crossentropy', optimizer='adam')\n",
        "model.fit(x_train,y_train,verbose=2,epochs=100)"
      ],
      "metadata": {
        "id": "pL7ECvUCbldF",
        "colab": {
          "base_uri": "https://localhost:8080/"
        },
        "outputId": "c1639ece-de32-4ebd-ddcd-3a06d13078b1"
      },
      "execution_count": 46,
      "outputs": [
        {
          "output_type": "stream",
          "name": "stdout",
          "text": [
            "Epoch 1/100\n",
            "235/235 - 1s - loss: 0.3130 - 846ms/epoch - 4ms/step\n",
            "Epoch 2/100\n",
            "235/235 - 0s - loss: 0.1132 - 306ms/epoch - 1ms/step\n",
            "Epoch 3/100\n",
            "235/235 - 0s - loss: 0.0884 - 308ms/epoch - 1ms/step\n",
            "Epoch 4/100\n",
            "235/235 - 0s - loss: 0.0826 - 348ms/epoch - 1ms/step\n",
            "Epoch 5/100\n",
            "235/235 - 0s - loss: 0.0807 - 296ms/epoch - 1ms/step\n",
            "Epoch 6/100\n",
            "235/235 - 0s - loss: 0.0803 - 309ms/epoch - 1ms/step\n",
            "Epoch 7/100\n",
            "235/235 - 0s - loss: 0.0799 - 299ms/epoch - 1ms/step\n",
            "Epoch 8/100\n",
            "235/235 - 0s - loss: 0.0798 - 300ms/epoch - 1ms/step\n",
            "Epoch 9/100\n",
            "235/235 - 0s - loss: 0.0796 - 298ms/epoch - 1ms/step\n",
            "Epoch 10/100\n",
            "235/235 - 0s - loss: 0.0794 - 294ms/epoch - 1ms/step\n",
            "Epoch 11/100\n",
            "235/235 - 0s - loss: 0.0796 - 303ms/epoch - 1ms/step\n",
            "Epoch 12/100\n",
            "235/235 - 0s - loss: 0.0795 - 309ms/epoch - 1ms/step\n",
            "Epoch 13/100\n",
            "235/235 - 0s - loss: 0.0791 - 298ms/epoch - 1ms/step\n",
            "Epoch 14/100\n",
            "235/235 - 0s - loss: 0.0794 - 302ms/epoch - 1ms/step\n",
            "Epoch 15/100\n",
            "235/235 - 0s - loss: 0.0791 - 310ms/epoch - 1ms/step\n",
            "Epoch 16/100\n",
            "235/235 - 0s - loss: 0.0789 - 302ms/epoch - 1ms/step\n",
            "Epoch 17/100\n",
            "235/235 - 0s - loss: 0.0792 - 298ms/epoch - 1ms/step\n",
            "Epoch 18/100\n",
            "235/235 - 0s - loss: 0.0792 - 305ms/epoch - 1ms/step\n",
            "Epoch 19/100\n",
            "235/235 - 0s - loss: 0.0792 - 312ms/epoch - 1ms/step\n",
            "Epoch 20/100\n",
            "235/235 - 0s - loss: 0.0791 - 297ms/epoch - 1ms/step\n",
            "Epoch 21/100\n",
            "235/235 - 0s - loss: 0.0788 - 289ms/epoch - 1ms/step\n",
            "Epoch 22/100\n",
            "235/235 - 0s - loss: 0.0790 - 317ms/epoch - 1ms/step\n",
            "Epoch 23/100\n",
            "235/235 - 0s - loss: 0.0782 - 300ms/epoch - 1ms/step\n",
            "Epoch 24/100\n",
            "235/235 - 0s - loss: 0.0790 - 287ms/epoch - 1ms/step\n",
            "Epoch 25/100\n",
            "235/235 - 0s - loss: 0.0786 - 289ms/epoch - 1ms/step\n",
            "Epoch 26/100\n",
            "235/235 - 0s - loss: 0.0785 - 299ms/epoch - 1ms/step\n",
            "Epoch 27/100\n",
            "235/235 - 0s - loss: 0.0788 - 293ms/epoch - 1ms/step\n",
            "Epoch 28/100\n",
            "235/235 - 0s - loss: 0.0786 - 300ms/epoch - 1ms/step\n",
            "Epoch 29/100\n",
            "235/235 - 0s - loss: 0.0784 - 306ms/epoch - 1ms/step\n",
            "Epoch 30/100\n",
            "235/235 - 0s - loss: 0.0786 - 292ms/epoch - 1ms/step\n",
            "Epoch 31/100\n",
            "235/235 - 0s - loss: 0.0785 - 313ms/epoch - 1ms/step\n",
            "Epoch 32/100\n",
            "235/235 - 0s - loss: 0.0785 - 290ms/epoch - 1ms/step\n",
            "Epoch 33/100\n",
            "235/235 - 0s - loss: 0.0784 - 302ms/epoch - 1ms/step\n",
            "Epoch 34/100\n",
            "235/235 - 0s - loss: 0.0787 - 295ms/epoch - 1ms/step\n",
            "Epoch 35/100\n",
            "235/235 - 0s - loss: 0.0785 - 299ms/epoch - 1ms/step\n",
            "Epoch 36/100\n",
            "235/235 - 0s - loss: 0.0780 - 309ms/epoch - 1ms/step\n",
            "Epoch 37/100\n",
            "235/235 - 0s - loss: 0.0783 - 295ms/epoch - 1ms/step\n",
            "Epoch 38/100\n",
            "235/235 - 0s - loss: 0.0785 - 295ms/epoch - 1ms/step\n",
            "Epoch 39/100\n",
            "235/235 - 0s - loss: 0.0784 - 310ms/epoch - 1ms/step\n",
            "Epoch 40/100\n",
            "235/235 - 0s - loss: 0.0786 - 288ms/epoch - 1ms/step\n",
            "Epoch 41/100\n",
            "235/235 - 0s - loss: 0.0782 - 295ms/epoch - 1ms/step\n",
            "Epoch 42/100\n",
            "235/235 - 0s - loss: 0.0783 - 299ms/epoch - 1ms/step\n",
            "Epoch 43/100\n",
            "235/235 - 0s - loss: 0.0783 - 300ms/epoch - 1ms/step\n",
            "Epoch 44/100\n",
            "235/235 - 0s - loss: 0.0781 - 297ms/epoch - 1ms/step\n",
            "Epoch 45/100\n",
            "235/235 - 0s - loss: 0.0786 - 311ms/epoch - 1ms/step\n",
            "Epoch 46/100\n",
            "235/235 - 0s - loss: 0.0780 - 300ms/epoch - 1ms/step\n",
            "Epoch 47/100\n",
            "235/235 - 0s - loss: 0.0787 - 279ms/epoch - 1ms/step\n",
            "Epoch 48/100\n",
            "235/235 - 0s - loss: 0.0783 - 286ms/epoch - 1ms/step\n",
            "Epoch 49/100\n",
            "235/235 - 0s - loss: 0.0783 - 301ms/epoch - 1ms/step\n",
            "Epoch 50/100\n",
            "235/235 - 0s - loss: 0.0784 - 304ms/epoch - 1ms/step\n",
            "Epoch 51/100\n",
            "235/235 - 0s - loss: 0.0782 - 294ms/epoch - 1ms/step\n",
            "Epoch 52/100\n",
            "235/235 - 0s - loss: 0.0783 - 296ms/epoch - 1ms/step\n",
            "Epoch 53/100\n",
            "235/235 - 0s - loss: 0.0785 - 300ms/epoch - 1ms/step\n",
            "Epoch 54/100\n",
            "235/235 - 0s - loss: 0.0780 - 297ms/epoch - 1ms/step\n",
            "Epoch 55/100\n",
            "235/235 - 0s - loss: 0.0779 - 287ms/epoch - 1ms/step\n",
            "Epoch 56/100\n",
            "235/235 - 0s - loss: 0.0782 - 300ms/epoch - 1ms/step\n",
            "Epoch 57/100\n",
            "235/235 - 0s - loss: 0.0781 - 305ms/epoch - 1ms/step\n",
            "Epoch 58/100\n",
            "235/235 - 0s - loss: 0.0776 - 294ms/epoch - 1ms/step\n",
            "Epoch 59/100\n",
            "235/235 - 0s - loss: 0.0781 - 307ms/epoch - 1ms/step\n",
            "Epoch 60/100\n",
            "235/235 - 0s - loss: 0.0777 - 331ms/epoch - 1ms/step\n",
            "Epoch 61/100\n",
            "235/235 - 0s - loss: 0.0786 - 310ms/epoch - 1ms/step\n",
            "Epoch 62/100\n",
            "235/235 - 0s - loss: 0.0784 - 301ms/epoch - 1ms/step\n",
            "Epoch 63/100\n",
            "235/235 - 0s - loss: 0.0783 - 304ms/epoch - 1ms/step\n",
            "Epoch 64/100\n",
            "235/235 - 0s - loss: 0.0778 - 314ms/epoch - 1ms/step\n",
            "Epoch 65/100\n",
            "235/235 - 0s - loss: 0.0784 - 295ms/epoch - 1ms/step\n",
            "Epoch 66/100\n",
            "235/235 - 0s - loss: 0.0780 - 306ms/epoch - 1ms/step\n",
            "Epoch 67/100\n",
            "235/235 - 0s - loss: 0.0779 - 306ms/epoch - 1ms/step\n",
            "Epoch 68/100\n",
            "235/235 - 0s - loss: 0.0783 - 301ms/epoch - 1ms/step\n",
            "Epoch 69/100\n",
            "235/235 - 0s - loss: 0.0780 - 304ms/epoch - 1ms/step\n",
            "Epoch 70/100\n",
            "235/235 - 0s - loss: 0.0780 - 303ms/epoch - 1ms/step\n",
            "Epoch 71/100\n",
            "235/235 - 0s - loss: 0.0782 - 309ms/epoch - 1ms/step\n",
            "Epoch 72/100\n",
            "235/235 - 0s - loss: 0.0783 - 303ms/epoch - 1ms/step\n",
            "Epoch 73/100\n",
            "235/235 - 0s - loss: 0.0780 - 325ms/epoch - 1ms/step\n",
            "Epoch 74/100\n",
            "235/235 - 0s - loss: 0.0781 - 308ms/epoch - 1ms/step\n",
            "Epoch 75/100\n",
            "235/235 - 0s - loss: 0.0779 - 305ms/epoch - 1ms/step\n",
            "Epoch 76/100\n",
            "235/235 - 0s - loss: 0.0782 - 305ms/epoch - 1ms/step\n",
            "Epoch 77/100\n",
            "235/235 - 0s - loss: 0.0780 - 304ms/epoch - 1ms/step\n",
            "Epoch 78/100\n",
            "235/235 - 0s - loss: 0.0778 - 314ms/epoch - 1ms/step\n",
            "Epoch 79/100\n",
            "235/235 - 0s - loss: 0.0780 - 322ms/epoch - 1ms/step\n",
            "Epoch 80/100\n",
            "235/235 - 0s - loss: 0.0779 - 303ms/epoch - 1ms/step\n",
            "Epoch 81/100\n",
            "235/235 - 0s - loss: 0.0779 - 314ms/epoch - 1ms/step\n",
            "Epoch 82/100\n",
            "235/235 - 0s - loss: 0.0781 - 301ms/epoch - 1ms/step\n",
            "Epoch 83/100\n",
            "235/235 - 0s - loss: 0.0780 - 310ms/epoch - 1ms/step\n",
            "Epoch 84/100\n",
            "235/235 - 0s - loss: 0.0781 - 303ms/epoch - 1ms/step\n",
            "Epoch 85/100\n",
            "235/235 - 0s - loss: 0.0782 - 331ms/epoch - 1ms/step\n",
            "Epoch 86/100\n",
            "235/235 - 0s - loss: 0.0781 - 346ms/epoch - 1ms/step\n",
            "Epoch 87/100\n",
            "235/235 - 0s - loss: 0.0778 - 318ms/epoch - 1ms/step\n",
            "Epoch 88/100\n",
            "235/235 - 0s - loss: 0.0779 - 316ms/epoch - 1ms/step\n",
            "Epoch 89/100\n",
            "235/235 - 0s - loss: 0.0779 - 335ms/epoch - 1ms/step\n",
            "Epoch 90/100\n",
            "235/235 - 0s - loss: 0.0778 - 319ms/epoch - 1ms/step\n",
            "Epoch 91/100\n",
            "235/235 - 0s - loss: 0.0778 - 329ms/epoch - 1ms/step\n",
            "Epoch 92/100\n",
            "235/235 - 0s - loss: 0.0779 - 338ms/epoch - 1ms/step\n",
            "Epoch 93/100\n",
            "235/235 - 0s - loss: 0.0779 - 313ms/epoch - 1ms/step\n",
            "Epoch 94/100\n",
            "235/235 - 0s - loss: 0.0782 - 310ms/epoch - 1ms/step\n",
            "Epoch 95/100\n",
            "235/235 - 0s - loss: 0.0782 - 312ms/epoch - 1ms/step\n",
            "Epoch 96/100\n",
            "235/235 - 0s - loss: 0.0780 - 324ms/epoch - 1ms/step\n",
            "Epoch 97/100\n",
            "235/235 - 0s - loss: 0.0781 - 310ms/epoch - 1ms/step\n",
            "Epoch 98/100\n",
            "235/235 - 0s - loss: 0.0778 - 335ms/epoch - 1ms/step\n",
            "Epoch 99/100\n",
            "235/235 - 0s - loss: 0.0781 - 310ms/epoch - 1ms/step\n",
            "Epoch 100/100\n",
            "235/235 - 0s - loss: 0.0778 - 318ms/epoch - 1ms/step\n"
          ]
        },
        {
          "output_type": "execute_result",
          "data": {
            "text/plain": [
              "<keras.callbacks.History at 0x7f1acbdca450>"
            ]
          },
          "metadata": {},
          "execution_count": 46
        }
      ]
    },
    {
      "cell_type": "markdown",
      "source": [
        "## Evaluate Training Performance"
      ],
      "metadata": {
        "id": "RYVjA5RMemtZ"
      }
    },
    {
      "cell_type": "code",
      "source": [
        "from sklearn.metrics import accuracy_score\n",
        "y_pred = model.predict(x_test).round()\n",
        "correct = accuracy_score(y_pred,y_test)\n",
        "print(f\"Accuracy: {correct}\")\n",
        "print(\"# default:\",y_pred.sum())"
      ],
      "metadata": {
        "id": "CLg1bZ9VXPYr",
        "colab": {
          "base_uri": "https://localhost:8080/"
        },
        "outputId": "b4231227-084d-47e9-ded5-8355596bc72a"
      },
      "execution_count": 50,
      "outputs": [
        {
          "output_type": "stream",
          "name": "stdout",
          "text": [
            "Accuracy: 0.9728\n",
            "# default: 41.0\n"
          ]
        }
      ]
    },
    {
      "cell_type": "code",
      "source": [
        ""
      ],
      "metadata": {
        "id": "Qsx028fDXVaT"
      },
      "execution_count": null,
      "outputs": []
    },
    {
      "cell_type": "markdown",
      "source": [
        "# **Method 2. PyTorch Implementation**"
      ],
      "metadata": {
        "id": "_EfQgacvf26R"
      }
    },
    {
      "cell_type": "markdown",
      "source": [
        "## Import Libraries\n",
        "```\n",
        "  # Similar to Keras, but load PyTorch instead\n",
        "  \n",
        "  import numpy as np\n",
        "  import pandas as pd\n",
        "  from tensorflow.keras.models import Sequential\n",
        "  from tensorflow.keras.layers import Dense\n",
        "  from sklearn.model_selection import train_test_split\n",
        "\n",
        "```"
      ],
      "metadata": {
        "id": "xq_0i_d-i0WQ"
      }
    },
    {
      "cell_type": "code",
      "source": [
        "import numpy as np\n",
        "import pandas as pd\n",
        "from sklearn import metrics\n",
        "from sklearn.model_selection import train_test_split\n",
        "from sklearn import preprocessing\n",
        "\n",
        "import torch\n",
        "import torch.nn as nn\n",
        "import torch.nn.functional as F\n",
        "from torch.autograd import Variable"
      ],
      "metadata": {
        "id": "lLx3ElxMh2N7"
      },
      "execution_count": 1,
      "outputs": []
    },
    {
      "cell_type": "markdown",
      "source": [
        "## Read Data\n",
        "```\n",
        "  # Same as Keras\n",
        "  \n",
        "  # Load Loan Default Data\n",
        "  # Original Data Source: https://www.kaggle.com/kmldas/loan-default-prediction\n",
        "  from google.colab import files\n",
        "  uploaded = files.upload()\n",
        "\n",
        "  # Store data in DataFrame\n",
        "  df = pd.read_csv(\"Default_Fin.csv\")\n",
        "\n",
        "```"
      ],
      "metadata": {
        "id": "mOrj1nvCi2m6"
      }
    },
    {
      "cell_type": "code",
      "source": [
        "# Load Loan Default Data\n",
        "# Original Data Source: https://www.kaggle.com/kmldas/loan-default-prediction\n",
        "from google.colab import files\n",
        "uploaded = files.upload()"
      ],
      "metadata": {
        "id": "GRlCSstrh2Re",
        "colab": {
          "resources": {
            "http://localhost:8080/nbextensions/google.colab/files.js": {
              "data": "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",
              "ok": true,
              "headers": [
                [
                  "content-type",
                  "application/javascript"
                ]
              ],
              "status": 200,
              "status_text": ""
            }
          },
          "base_uri": "https://localhost:8080/",
          "height": 73
        },
        "outputId": "852777cf-3aba-4747-9130-8950a70cd851"
      },
      "execution_count": 2,
      "outputs": [
        {
          "output_type": "display_data",
          "data": {
            "text/html": [
              "\n",
              "     <input type=\"file\" id=\"files-71e11bf2-9379-4feb-b5cd-a8a2a18483d1\" name=\"files[]\" multiple disabled\n",
              "        style=\"border:none\" />\n",
              "     <output id=\"result-71e11bf2-9379-4feb-b5cd-a8a2a18483d1\">\n",
              "      Upload widget is only available when the cell has been executed in the\n",
              "      current browser session. Please rerun this cell to enable.\n",
              "      </output>\n",
              "      <script src=\"/nbextensions/google.colab/files.js\"></script> "
            ],
            "text/plain": [
              "<IPython.core.display.HTML object>"
            ]
          },
          "metadata": {}
        },
        {
          "output_type": "stream",
          "name": "stdout",
          "text": [
            "Saving Default_Fin.csv to Default_Fin (4).csv\n"
          ]
        }
      ]
    },
    {
      "cell_type": "code",
      "source": [
        "# Store data in DataFrame\n",
        "df = pd.read_csv(\"Default_Fin.csv\")"
      ],
      "metadata": {
        "id": "kljQr1RFh2Ur"
      },
      "execution_count": 3,
      "outputs": []
    },
    {
      "cell_type": "markdown",
      "source": [
        "## Cleanup Data\n",
        "```\n",
        "  # Same as Keras\n",
        "\n",
        "  # Convert to numpy\n",
        "  x = df[['Employed','Bank Balance','Annual Salary']].values\n",
        "  y = df[['Defaulted?']].values\n",
        "\n",
        "  # split data: train & test\n",
        "  x_train, x_test, y_train, y_test = train_test_split(x, y, test_size=0.25, random_state=42)\n",
        "\n",
        "  # Standardize data\n",
        "  mean = x_train.mean(axis=0)\n",
        "  std = x_train.std(axis=0)\n",
        "  x_train = (x_train - mean) / std\n",
        "  x_test = (x_test - mean) / std\n",
        "\n",
        "```"
      ],
      "metadata": {
        "id": "fLeU7511i-eg"
      }
    },
    {
      "cell_type": "code",
      "source": [
        "# Convert to numpy - Classification\n",
        "x = df[['Employed','Bank Balance','Annual Salary']].values\n",
        "y = df[['Defaulted?']].values"
      ],
      "metadata": {
        "id": "wUdWtzN2i8DF"
      },
      "execution_count": 4,
      "outputs": []
    },
    {
      "cell_type": "code",
      "source": [
        "# split data: train & test\n",
        "x_train, x_test, y_train, y_test = train_test_split(x, y, test_size=0.25, random_state=42)"
      ],
      "metadata": {
        "id": "M_8MChwzi8Gu"
      },
      "execution_count": 5,
      "outputs": []
    },
    {
      "cell_type": "code",
      "source": [
        "# Standardize data\n",
        "mean = x_train.mean(axis=0)\n",
        "std = x_train.std(axis=0)\n",
        "x_train = (x_train - mean) / std\n",
        "x_test = (x_test - mean) / std"
      ],
      "metadata": {
        "id": "AKKl-9RakVCA"
      },
      "execution_count": 6,
      "outputs": []
    },
    {
      "cell_type": "markdown",
      "source": [
        "## Build Neural Network\n",
        "```\n",
        "  # Unlike Keras, PyTorch uses python class\n",
        "  \n",
        "  model = Sequential()\n",
        "  model.add(Dense(20, input_dim=x.shape[1], activation='relu')) # Hidden 1\n",
        "  model.add(Dense(10, activation='relu')) # Hidden 2\n",
        "  model.add(Dense(y.shape[1],activation='sigmoid')) # Output\n",
        "\n",
        "  model.compile(loss='binary_crossentropy', optimizer='adam')\n",
        "  model.fit(x_train,y_train,verbose=2,epochs=100)\n",
        "\n",
        "```"
      ],
      "metadata": {
        "id": "bjQFfj-72Ss2"
      }
    },
    {
      "cell_type": "code",
      "source": [
        "class Net(nn.Module):\n",
        "    def __init__(self, in_count, out_count):\n",
        "        super(Net, self).__init__()\n",
        "        self.fc1 = nn.Linear(in_count, 20)\n",
        "        self.fc2 = nn.Linear(20, 10)\n",
        "        self.fc3 = nn.Linear(10, out_count)\n",
        "        self.sigmoid = nn.Sigmoid()\n",
        "\n",
        "    def forward(self, x):\n",
        "        x = F.relu(self.fc1(x))\n",
        "        x = F.relu(self.fc2(x))\n",
        "        x = self.fc3(x)\n",
        "        return self.sigmoid(x)"
      ],
      "metadata": {
        "id": "crMITU3vi8J5"
      },
      "execution_count": 7,
      "outputs": []
    },
    {
      "cell_type": "code",
      "source": [
        "# convert to PyTorch Tensor\n",
        "x_train = Variable(torch.Tensor(x_train).float())\n",
        "x_test = Variable(torch.Tensor(x_test).float())\n",
        "y_train = Variable(torch.Tensor(y_train).float())\n",
        "y_test = Variable(torch.Tensor(y_test).float())"
      ],
      "metadata": {
        "id": "ECVVFjiVh2fL"
      },
      "execution_count": 8,
      "outputs": []
    },
    {
      "cell_type": "code",
      "source": [
        "# build model\n",
        "model = Net(x.shape[1],1)\n",
        "criterion = nn.MSELoss()# cross entropy loss\n",
        "optimizer = torch.optim.Adam(model.parameters(), lr=0.01)"
      ],
      "metadata": {
        "id": "8nf2pG8jh2jV"
      },
      "execution_count": 9,
      "outputs": []
    },
    {
      "cell_type": "markdown",
      "source": [
        "## Train Network\n",
        "```\n",
        "  # PyTorch directly accesses gradient in neural network\n",
        "  # uses loss.backward() & optimizer.step()\n",
        "\n",
        "  model.fit(x_train,y_train,verbose=2,epochs=100)\n",
        "\n",
        "```"
      ],
      "metadata": {
        "id": "GsRY6ew_3d2Q"
      }
    },
    {
      "cell_type": "code",
      "source": [
        "for epoch in range(100):\n",
        "    optimizer.zero_grad()\n",
        "    out = model(x_train)\n",
        "    loss = criterion(out, y_train)\n",
        "    loss.backward()\n",
        "    optimizer.step()\n",
        "    print(f\"Epoch {epoch+1}, loss: {loss.item()}\")"
      ],
      "metadata": {
        "id": "9WG1ycAF2mZ5"
      },
      "execution_count": null,
      "outputs": []
    },
    {
      "cell_type": "markdown",
      "source": [
        "## Evaluate Performance\n",
        "```\n",
        "  # Similar to Keras, but pytorch tensor to numpy array conversion needed\n",
        "\n",
        "  from sklearn.metrics import accuracy_score\n",
        "  y_pred = model.predict(x_test).round()\n",
        "  correct = accuracy_score(y_pred,y_test)\n",
        "  print(f\"Accuracy: {correct}\")\n",
        "\n",
        "```"
      ],
      "metadata": {
        "id": "VBt19pns3sj1"
      }
    },
    {
      "cell_type": "code",
      "source": [
        "from sklearn.metrics import accuracy_score\n",
        "\n",
        "# predict default in the test data\n",
        "pred = model(x_test)\n",
        "\n",
        "# convert PyTorch Tensor to numpy array\n",
        "np_pred = pred.cpu().detach().numpy().round()\n",
        "np_ytest = y_test.cpu().detach().numpy().round()\n",
        "\n",
        "# show accuracy\n",
        "print(\"Total # Test Data:\", np_ytest.shape[0])\n",
        "print(\"# Default (True)\",np_ytest.sum())\n",
        "print(\"# Default (Predicted)\",np_pred.sum())\n",
        "\n",
        "correct = accuracy_score(np_ytest,np_pred)\n",
        "print(f\"Accuracy: {correct}\")"
      ],
      "metadata": {
        "colab": {
          "base_uri": "https://localhost:8080/"
        },
        "id": "SCYmGKNdhbIH",
        "outputId": "adeff419-cb55-4ceb-b69d-7ef267bfde42"
      },
      "execution_count": 23,
      "outputs": [
        {
          "output_type": "stream",
          "name": "stdout",
          "text": [
            "Total # Test Data: 2500\n",
            "# Default (True) 81.0\n",
            "# Default (Predicted) 26.0\n",
            "Accuracy: 0.97\n"
          ]
        }
      ]
    }
  ],
  "metadata": {
    "kernelspec": {
      "display_name": "Python 3.7 (pytorch)",
      "language": "python",
      "name": "pytorch"
    },
    "language_info": {
      "codemirror_mode": {
        "name": "ipython",
        "version": 3
      },
      "file_extension": ".py",
      "mimetype": "text/x-python",
      "name": "python",
      "nbconvert_exporter": "python",
      "pygments_lexer": "ipython3",
      "version": "3.7.9"
    },
    "colab": {
      "name": "ep48_KerasPytorchsideBySide.ipynb",
      "provenance": [],
      "collapsed_sections": []
    }
  },
  "nbformat": 4,
  "nbformat_minor": 0
}