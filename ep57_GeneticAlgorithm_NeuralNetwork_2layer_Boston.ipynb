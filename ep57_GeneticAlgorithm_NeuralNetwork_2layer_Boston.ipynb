{
  "nbformat": 4,
  "nbformat_minor": 0,
  "metadata": {
    "colab": {
      "name": "ep57_GeneticAlgorithm_NeuralNetwork_2layer_Boston.ipynb",
      "provenance": [],
      "collapsed_sections": []
    },
    "kernelspec": {
      "name": "python3",
      "display_name": "Python 3"
    },
    "language_info": {
      "name": "python"
    }
  },
  "cells": [
    {
      "cell_type": "markdown",
      "source": [
        "# Episode 57. Genetic Algorithm: Neural Networks\n",
        "Boston housing prices -2 hidden layers"
      ],
      "metadata": {
        "id": "BhvmAiQafe8Y"
      }
    },
    {
      "cell_type": "markdown",
      "source": [
        "## Data: Boston Housing Prices\n",
        "### Keras Built-in function - https://keras.io/api/datasets/boston_housing/\n",
        "### Excel file form Kaggle - https://www.kaggle.com/fedesoriano/the-boston-houseprice-data"
      ],
      "metadata": {
        "id": "nfbXACnGHIgH"
      }
    },
    {
      "cell_type": "markdown",
      "source": [
        "Original Data - http://lib.stat.cmu.edu/datasets/boston\n",
        "\n",
        "The Boston house-price data of Harrison, D. and Rubinfeld, D.L. 'Hedonic\n",
        "prices and the demand for clean air', J. Environ. Economics & Management,\n",
        "vol.5, 81-102, 1978.\n",
        "\n",
        "There are 14 attributes in each case of the dataset. They are:\n",
        "\n",
        "CRIM - per capita crime rate by town\n",
        "\n",
        "ZN - proportion of residential land zoned for lots over 25,000 sq.ft.\n",
        "\n",
        "INDUS - proportion of non-retail business acres per town.\n",
        "\n",
        "CHAS - Charles River dummy variable (1 if tract bounds river; 0 otherwise)\n",
        "\n",
        "NOX - nitric oxides concentration (parts per 10 million)\n",
        "\n",
        "RM - average number of rooms per dwelling\n",
        "\n",
        "AGE - proportion of owner-occupied units built prior to 1940\n",
        "\n",
        "DIS - weighted distances to five Boston employment centres\n",
        "\n",
        "RAD - index of accessibility to radial highways\n",
        "\n",
        "TAX - full-value property-tax rate per USD 10,000\n",
        "\n",
        "PTRATIO - pupil-teacher ratio by town\n",
        "\n",
        "B - 1000*(Bk - 0.63)^2 where Bk is the proportion of blacks by town\n",
        "\n",
        "LSTAT - % lower status of the population\n",
        "\n",
        "MEDV - Median value of owner-occupied homes in $1000's"
      ],
      "metadata": {
        "id": "CfaDfLeOHo21"
      }
    },
    {
      "cell_type": "markdown",
      "source": [
        "## Step 1. Import Libraries"
      ],
      "metadata": {
        "id": "8V_ZRRwss0GG"
      }
    },
    {
      "cell_type": "code",
      "source": [
        "import numpy as np\n",
        "import pandas as pd\n",
        "from sklearn.model_selection import train_test_split\n",
        "\n",
        "import random\n",
        "import math\n",
        "import time\n",
        "\n",
        "import tensorflow as tf\n",
        "from tensorflow.keras.models import Sequential\n",
        "from tensorflow.keras.layers import Dense"
      ],
      "metadata": {
        "id": "GEGX5Ui9gpNj"
      },
      "execution_count": null,
      "outputs": []
    },
    {
      "cell_type": "markdown",
      "source": [
        "## Step 2. Load Data"
      ],
      "metadata": {
        "id": "Zb6Teb70icBv"
      }
    },
    {
      "cell_type": "code",
      "source": [
        "# Load Loan Default Data\n",
        "# Original Data Source: https://www.kaggle.com/fedesoriano/the-boston-houseprice-data\n",
        "from google.colab import files\n",
        "uploaded = files.upload()"
      ],
      "metadata": {
        "colab": {
          "resources": {
            "http://localhost:8080/nbextensions/google.colab/files.js": {
              "data": "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",
              "ok": true,
              "headers": [
                [
                  "content-type",
                  "application/javascript"
                ]
              ],
              "status": 200,
              "status_text": ""
            }
          },
          "base_uri": "https://localhost:8080/",
          "height": 73
        },
        "id": "XUabBJw4fjHf",
        "outputId": "653fcb80-ccbe-4cf0-b694-096287a4ceed"
      },
      "execution_count": null,
      "outputs": [
        {
          "output_type": "display_data",
          "data": {
            "text/html": [
              "\n",
              "     <input type=\"file\" id=\"files-3bcccc72-2c23-4e92-8ce7-3111c46e2e4e\" name=\"files[]\" multiple disabled\n",
              "        style=\"border:none\" />\n",
              "     <output id=\"result-3bcccc72-2c23-4e92-8ce7-3111c46e2e4e\">\n",
              "      Upload widget is only available when the cell has been executed in the\n",
              "      current browser session. Please rerun this cell to enable.\n",
              "      </output>\n",
              "      <script src=\"/nbextensions/google.colab/files.js\"></script> "
            ],
            "text/plain": [
              "<IPython.core.display.HTML object>"
            ]
          },
          "metadata": {}
        },
        {
          "output_type": "stream",
          "name": "stdout",
          "text": [
            "Saving boston.csv to boston (1).csv\n"
          ]
        }
      ]
    },
    {
      "cell_type": "code",
      "source": [
        "# Store data in DataFrame\n",
        "df = pd.read_csv(\"boston.csv\")"
      ],
      "metadata": {
        "id": "c2iL1kjGgYiy"
      },
      "execution_count": null,
      "outputs": []
    },
    {
      "cell_type": "markdown",
      "source": [
        "## Step 3. Set Training Variables"
      ],
      "metadata": {
        "id": "221LI4Zaijyg"
      }
    },
    {
      "cell_type": "code",
      "source": [
        "RANDOM_SEED = 27\n",
        "# split data\n",
        "X_train, X_test = train_test_split(df, test_size=0.2, random_state=RANDOM_SEED)\n",
        "y_train = X_train['MEDV']\n",
        "X_train = X_train.drop(['MEDV'], axis=1)\n",
        "y_test = X_test['MEDV']\n",
        "X_test = X_test.drop(['MEDV'], axis=1)\n",
        "\n",
        "# Standardize data based on mean & sd of X_train\n",
        "mean = X_train.mean(axis=0)\n",
        "std = X_train.std(axis=0)\n",
        "X_train = (X_train - mean) / std\n",
        "X_test = (X_test - mean) / std\n",
        "\n",
        "# convert to numpy\n",
        "X_train = X_train.to_numpy()\n",
        "y_train = y_train.to_numpy()\n",
        "X_test = X_test.to_numpy()\n",
        "y_test = y_test.to_numpy()"
      ],
      "metadata": {
        "id": "WYMWEOxPIcow"
      },
      "execution_count": null,
      "outputs": []
    },
    {
      "cell_type": "markdown",
      "source": [
        "## Step 4. Setup Neural Network"
      ],
      "metadata": {
        "id": "p5f5ai7PmrRO"
      }
    },
    {
      "cell_type": "code",
      "source": [
        "# Network Parameters\n",
        "max_node = 5\n",
        "num_hiddenlayers = 2\n",
        "nn_in = X_train.shape[1]\n",
        "nn_hidden1 = max_node\n",
        "nn_hidden2 = max_node\n",
        "nn_out = 1"
      ],
      "metadata": {
        "id": "iYwVmAyEKApM"
      },
      "execution_count": null,
      "outputs": []
    },
    {
      "cell_type": "code",
      "source": [
        "def network(nn_in, nn_hidden1, nn_hidden2, nn_out):\n",
        "  model = Sequential()\n",
        "  model.add(Dense(nn_hidden1, input_dim=nn_in, activation='relu'))\n",
        "  model.add(Dense(nn_hidden2, activation='relu'))\n",
        "  model.add(Dense(nn_out, activation='linear'))\n",
        "  # compile model\n",
        "  model.compile(loss='mse', optimizer='adam', metrics=['mae'])\n",
        "  return model"
      ],
      "metadata": {
        "id": "j7yYX766moM3"
      },
      "execution_count": null,
      "outputs": []
    },
    {
      "cell_type": "markdown",
      "source": [
        "## Step 5. Run Single Episode"
      ],
      "metadata": {
        "id": "Nirc6r0rSqEm"
      }
    },
    {
      "cell_type": "code",
      "source": [
        "def run_episode(X_train,y_train,X_test,y_test,nn_in,nn_out, policy):\n",
        "  nn_hidden1,nn_hidden2 = policy  \n",
        "  # build model\n",
        "  model = network(nn_in, nn_hidden1, nn_hidden2, nn_out)\n",
        "  # train model\n",
        "  model.fit(X_train, y_train, epochs=100, verbose=0, validation_split=0.05)\n",
        "  # performance\n",
        "  _, accuracy = model.evaluate(X_test, y_test)\n",
        "  return accuracy"
      ],
      "metadata": {
        "id": "XKs5RO_3Ss1q"
      },
      "execution_count": null,
      "outputs": []
    },
    {
      "cell_type": "code",
      "source": [
        "# test model 1\n",
        "policy = [5,2]\n",
        "acc1 = run_episode(X_train,y_train,X_test,y_test,nn_in,nn_out, policy)\n",
        "\n",
        "# test model 2\n",
        "policy = [2,5]\n",
        "acc2 = run_episode(X_train,y_train,X_test,y_test,nn_in,nn_out, policy)\n",
        "\n",
        "# test model 3\n",
        "policy = [5,5]\n",
        "acc3 = run_episode(X_train,y_train,X_test,y_test,nn_in,nn_out, policy)\n",
        "\n",
        "print(\"Model 1:\", acc1, \"Model 2:\", acc2, \"Model 3:\", acc3)"
      ],
      "metadata": {
        "id": "mFFMkfVWTF3V",
        "colab": {
          "base_uri": "https://localhost:8080/"
        },
        "outputId": "5c1ad05e-90dd-4dca-c1ce-d0240fac47f2"
      },
      "execution_count": null,
      "outputs": [
        {
          "output_type": "stream",
          "name": "stdout",
          "text": [
            "4/4 [==============================] - 0s 3ms/step - loss: 29.0347 - mae: 4.1495\n",
            "4/4 [==============================] - 0s 3ms/step - loss: 103.4810 - mae: 7.2569\n",
            "4/4 [==============================] - 0s 3ms/step - loss: 34.9645 - mae: 4.1800\n",
            "Model 1: 4.1494855880737305 Model 2: 7.256877422332764 Model 3: 4.179955005645752\n"
          ]
        }
      ]
    },
    {
      "cell_type": "markdown",
      "source": [
        "## Step 6. Policy Functions: Genetic Algorithm"
      ],
      "metadata": {
        "id": "LAqgEaxucImy"
      }
    },
    {
      "cell_type": "code",
      "source": [
        "def evaluate_policy(X_train,y_train,X_test,y_test,nn_in,nn_out, policy, n_episodes=1):\n",
        "  total_rewards = 0.0\n",
        "  for _ in range(n_episodes):\n",
        "    total_rewards += 1/run_episode(X_train,y_train,X_test,y_test,nn_in,nn_out, policy)\n",
        "  return total_rewards / n_episodes"
      ],
      "metadata": {
        "id": "v1R05ro1cJpo"
      },
      "execution_count": null,
      "outputs": []
    },
    {
      "cell_type": "code",
      "source": [
        "def gen_random_policy(max_node,num_hiddenlayers):\n",
        "  return np.random.choice(max_node+1, size=((num_hiddenlayers)))"
      ],
      "metadata": {
        "id": "wMqvnGv8cJwz"
      },
      "execution_count": null,
      "outputs": []
    },
    {
      "cell_type": "code",
      "source": [
        "def crossover(policy1, policy2,num_hiddenlayers):\n",
        "  new_policy = policy1.copy()\n",
        "  for i in range(num_hiddenlayers):\n",
        "    rand = np.random.uniform()\n",
        "    if rand > 0.5:\n",
        "      new_policy[i] = policy2[i]\n",
        "  return new_policy"
      ],
      "metadata": {
        "id": "1oj3NfCzd1Ke"
      },
      "execution_count": null,
      "outputs": []
    },
    {
      "cell_type": "code",
      "source": [
        "def mutation(policy,num_hiddenlayers,max_node, p=0.05):\n",
        "  new_policy = policy.copy()\n",
        "  for i in range(num_hiddenlayers):\n",
        "    rand = np.random.uniform()\n",
        "    if rand < p:\n",
        "      new_policy[i] = np.random.choice(max_node+1)\n",
        "  return new_policy"
      ],
      "metadata": {
        "id": "CJv8nloqd1OA"
      },
      "execution_count": null,
      "outputs": []
    },
    {
      "cell_type": "code",
      "source": [
        "if __name__ == '__main__':\n",
        "    random.seed(1234)\n",
        "    np.random.seed(1234)\n",
        "\n",
        "    ## Policy search\n",
        "    n_policy = 10\n",
        "    n_steps = 5\n",
        "    start = time.time()\n",
        "    policy_pop = [gen_random_policy(max_node,num_hiddenlayers) for _ in range(n_policy)]\n",
        "    for idx in range(n_steps):\n",
        "        policy_scores = [evaluate_policy(X_train,y_train,X_test,y_test,nn_in,nn_out, p) for p in policy_pop]\n",
        "        print('Generation %d : MaxScore=%0.2f & AvgScore=%0.3f' %(idx+1, max(policy_scores), sum(policy_scores)/len(policy_scores)))\n",
        "        policy_ranks = list(reversed(np.argsort(policy_scores)))\n",
        "        elite_set = [policy_pop[x] for x in policy_ranks[:5]]\n",
        "        select_probs = np.array(policy_scores) / np.sum(policy_scores)\n",
        "        if np.sum(policy_scores)==0:\n",
        "            pp = 1/np.array(policy_scores).size\n",
        "            select_probs = pp*np.ones(np.array(policy_scores).size)\n",
        "        child_set = [crossover(\n",
        "            policy_pop[np.random.choice(range(n_policy), p=select_probs)], \n",
        "            policy_pop[np.random.choice(range(n_policy), p=select_probs)],num_hiddenlayers)\n",
        "            for _ in range(n_policy - 5)]\n",
        "        mutated_list = [mutation(p,num_hiddenlayers,max_node) for p in child_set]\n",
        "        policy_pop = elite_set\n",
        "        policy_pop += mutated_list\n",
        "    policy_score = [evaluate_policy(X_train,y_train,X_test,y_test,nn_in,nn_out, p) for p in policy_pop]\n",
        "    best_policy = policy_pop[np.argmax(policy_score)]\n",
        "\n",
        "    end = time.time()\n",
        "    print('Best policy score=%0.2f Time taken(seconds)=%4.4f Average Score=%0.3f'\n",
        "            %(np.max(policy_score), (end-start), sum(policy_score)/len(policy_score)))    \n",
        "    #print(\"Success Rate(%): \", sum(policy_score)/len(policy_score))\n",
        "    print(\"Best Policy is:\", best_policy)"
      ],
      "metadata": {
        "id": "J_DT82WAfI_l",
        "colab": {
          "base_uri": "https://localhost:8080/"
        },
        "outputId": "304b6ac2-ad28-4f09-c000-fae58bef8c15"
      },
      "execution_count": null,
      "outputs": [
        {
          "output_type": "stream",
          "name": "stdout",
          "text": [
            "4/4 [==============================] - 0s 5ms/step - loss: 84.5039 - mae: 6.4232\n",
            "4/4 [==============================] - 0s 4ms/step - loss: 46.5211 - mae: 4.9331\n",
            "4/4 [==============================] - 0s 4ms/step - loss: 546.1606 - mae: 21.3438\n",
            "4/4 [==============================] - 0s 4ms/step - loss: 129.1563 - mae: 8.6377\n",
            "4/4 [==============================] - 0s 4ms/step - loss: 38.3517 - mae: 4.3546\n",
            "4/4 [==============================] - 0s 4ms/step - loss: 40.8589 - mae: 4.5488\n",
            "4/4 [==============================] - 0s 4ms/step - loss: 39.2242 - mae: 4.5909\n",
            "4/4 [==============================] - 0s 3ms/step - loss: 598.0883 - mae: 22.5275\n",
            "4/4 [==============================] - 0s 3ms/step - loss: 37.0897 - mae: 4.4370\n",
            "4/4 [==============================] - 0s 4ms/step - loss: 546.1569 - mae: 21.3437\n",
            "Generation 1 : MaxScore=0.23 & AvgScore=0.150\n",
            "4/4 [==============================] - 0s 4ms/step - loss: 44.7267 - mae: 4.8086\n",
            "4/4 [==============================] - 0s 4ms/step - loss: 35.1165 - mae: 4.4481\n",
            "4/4 [==============================] - 0s 4ms/step - loss: 30.2010 - mae: 4.0729\n",
            "4/4 [==============================] - 0s 3ms/step - loss: 546.3536 - mae: 21.3523\n",
            "4/4 [==============================] - 0s 3ms/step - loss: 40.4209 - mae: 4.8560\n",
            "4/4 [==============================] - 0s 3ms/step - loss: 598.0883 - mae: 22.5275\n",
            "4/4 [==============================] - 0s 4ms/step - loss: 38.2626 - mae: 4.6712\n",
            "4/4 [==============================] - 0s 4ms/step - loss: 39.5014 - mae: 4.2120\n",
            "4/4 [==============================] - 0s 3ms/step - loss: 546.1666 - mae: 21.3440\n",
            "4/4 [==============================] - 0s 3ms/step - loss: 546.1635 - mae: 21.3439\n",
            "Generation 2 : MaxScore=0.25 & AvgScore=0.152\n",
            "4/4 [==============================] - 0s 3ms/step - loss: 38.7015 - mae: 4.6883\n",
            "4/4 [==============================] - 0s 4ms/step - loss: 45.1788 - mae: 4.8014\n",
            "4/4 [==============================] - 0s 5ms/step - loss: 39.3346 - mae: 4.5727\n",
            "4/4 [==============================] - 0s 3ms/step - loss: 130.0837 - mae: 8.7071\n",
            "4/4 [==============================] - 0s 3ms/step - loss: 36.7024 - mae: 4.2650\n",
            "4/4 [==============================] - 0s 3ms/step - loss: 76.3562 - mae: 6.0459\n",
            "4/4 [==============================] - 0s 4ms/step - loss: 47.1986 - mae: 5.0356\n",
            "4/4 [==============================] - 0s 4ms/step - loss: 598.0883 - mae: 22.5275\n",
            "4/4 [==============================] - 0s 4ms/step - loss: 546.1518 - mae: 21.3436\n",
            "4/4 [==============================] - 0s 4ms/step - loss: 598.0883 - mae: 22.5275\n",
            "Generation 3 : MaxScore=0.23 & AvgScore=0.149\n",
            "4/4 [==============================] - 0s 4ms/step - loss: 89.8917 - mae: 6.7926\n",
            "4/4 [==============================] - 0s 4ms/step - loss: 29.1526 - mae: 3.8988\n",
            "4/4 [==============================] - 0s 3ms/step - loss: 33.7273 - mae: 4.0702\n",
            "4/4 [==============================] - 0s 3ms/step - loss: 42.8619 - mae: 4.9549\n",
            "4/4 [==============================] - 0s 3ms/step - loss: 39.8388 - mae: 4.4823\n",
            "4/4 [==============================] - 0s 4ms/step - loss: 105.6072 - mae: 7.5793\n",
            "4/4 [==============================] - 0s 4ms/step - loss: 46.5954 - mae: 5.1871\n",
            "4/4 [==============================] - 0s 4ms/step - loss: 81.9188 - mae: 6.1300\n",
            "4/4 [==============================] - 0s 4ms/step - loss: 43.8249 - mae: 4.9923\n",
            "4/4 [==============================] - 0s 3ms/step - loss: 355.3141 - mae: 17.3624\n",
            "Generation 4 : MaxScore=0.26 & AvgScore=0.182\n",
            "4/4 [==============================] - 0s 3ms/step - loss: 36.6717 - mae: 4.1514\n",
            "4/4 [==============================] - 0s 4ms/step - loss: 68.5579 - mae: 5.8228\n",
            "4/4 [==============================] - 0s 5ms/step - loss: 63.0908 - mae: 5.7031\n",
            "4/4 [==============================] - 0s 6ms/step - loss: 26.0174 - mae: 3.5515\n",
            "4/4 [==============================] - 0s 5ms/step - loss: 107.9622 - mae: 7.7548\n",
            "4/4 [==============================] - 0s 6ms/step - loss: 54.0860 - mae: 5.1474\n",
            "4/4 [==============================] - 0s 5ms/step - loss: 61.1623 - mae: 5.9605\n",
            "4/4 [==============================] - 0s 4ms/step - loss: 94.7632 - mae: 7.1175\n",
            "4/4 [==============================] - 0s 4ms/step - loss: 51.1906 - mae: 5.6079\n",
            "4/4 [==============================] - 0s 3ms/step - loss: 42.0554 - mae: 4.8144\n",
            "Generation 5 : MaxScore=0.28 & AvgScore=0.189\n",
            "4/4 [==============================] - 0s 4ms/step - loss: 54.4121 - mae: 5.0246\n",
            "4/4 [==============================] - 0s 4ms/step - loss: 35.6637 - mae: 4.2183\n",
            "4/4 [==============================] - 0s 5ms/step - loss: 102.4576 - mae: 7.6121\n",
            "4/4 [==============================] - 0s 6ms/step - loss: 62.4721 - mae: 5.8973\n",
            "4/4 [==============================] - 0s 4ms/step - loss: 116.7217 - mae: 8.0588\n",
            "4/4 [==============================] - 0s 4ms/step - loss: 36.5222 - mae: 4.4347\n",
            "4/4 [==============================] - 0s 3ms/step - loss: 35.7325 - mae: 4.5747\n",
            "4/4 [==============================] - 0s 3ms/step - loss: 39.4133 - mae: 4.7324\n",
            "4/4 [==============================] - 0s 3ms/step - loss: 102.4639 - mae: 7.2615\n",
            "4/4 [==============================] - 0s 4ms/step - loss: 546.1776 - mae: 21.3442\n",
            "Best policy score=0.24 Time taken(seconds)=325.5767 Average Score=0.170\n"
          ]
        }
      ]
    }
  ]
}